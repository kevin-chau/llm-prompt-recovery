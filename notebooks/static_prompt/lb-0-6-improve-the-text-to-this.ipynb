{
 "cells": [
  {
   "cell_type": "markdown",
   "id": "c888d461",
   "metadata": {
    "papermill": {
     "duration": 0.003161,
     "end_time": "2024-03-18T04:44:22.459388",
     "exception": false,
     "start_time": "2024-03-18T04:44:22.456227",
     "status": "completed"
    },
    "tags": []
   },
   "source": [
    "# Single prompt LB 0.6\n",
    "\n",
    "I was doing some mean prompt testing on my generated prompt set (Available at https://www.kaggle.com/datasets/dipamc77/3000-rewritten-texts-prompt-recovery-challenge) and I see this simple prompt \"Improve the text to this.\" gave good CV, so I submitted it. Lol 0.6 LB with single prompt. The challenge will be really interesting!"
   ]
  },
  {
   "cell_type": "code",
   "execution_count": 1,
   "id": "a45e0c9e",
   "metadata": {
    "execution": {
     "iopub.execute_input": "2024-03-18T04:44:22.467325Z",
     "iopub.status.busy": "2024-03-18T04:44:22.466476Z",
     "iopub.status.idle": "2024-03-18T04:44:23.508811Z",
     "shell.execute_reply": "2024-03-18T04:44:23.507487Z"
    },
    "papermill": {
     "duration": 1.049602,
     "end_time": "2024-03-18T04:44:23.511828",
     "exception": false,
     "start_time": "2024-03-18T04:44:22.462226",
     "status": "completed"
    },
    "tags": []
   },
   "outputs": [],
   "source": [
    "import numpy as np\n",
    "import pandas as pd\n",
    "\n",
    "import os"
   ]
  },
  {
   "cell_type": "code",
   "execution_count": 2,
   "id": "3225db44",
   "metadata": {
    "execution": {
     "iopub.execute_input": "2024-03-18T04:44:23.519528Z",
     "iopub.status.busy": "2024-03-18T04:44:23.518291Z",
     "iopub.status.idle": "2024-03-18T04:44:23.565895Z",
     "shell.execute_reply": "2024-03-18T04:44:23.564647Z"
    },
    "papermill": {
     "duration": 0.054071,
     "end_time": "2024-03-18T04:44:23.568549",
     "exception": false,
     "start_time": "2024-03-18T04:44:23.514478",
     "status": "completed"
    },
    "tags": []
   },
   "outputs": [
    {
     "name": "stdout",
     "output_type": "stream",
     "text": [
      "Improve the text to this.\n"
     ]
    },
    {
     "data": {
      "text/html": [
       "<div>\n",
       "<style scoped>\n",
       "    .dataframe tbody tr th:only-of-type {\n",
       "        vertical-align: middle;\n",
       "    }\n",
       "\n",
       "    .dataframe tbody tr th {\n",
       "        vertical-align: top;\n",
       "    }\n",
       "\n",
       "    .dataframe thead th {\n",
       "        text-align: right;\n",
       "    }\n",
       "</style>\n",
       "<table border=\"1\" class=\"dataframe\">\n",
       "  <thead>\n",
       "    <tr style=\"text-align: right;\">\n",
       "      <th></th>\n",
       "      <th>id</th>\n",
       "      <th>rewrite_prompt</th>\n",
       "    </tr>\n",
       "  </thead>\n",
       "  <tbody>\n",
       "    <tr>\n",
       "      <th>0</th>\n",
       "      <td>-1</td>\n",
       "      <td>Improve the text to this.</td>\n",
       "    </tr>\n",
       "  </tbody>\n",
       "</table>\n",
       "</div>"
      ],
      "text/plain": [
       "   id             rewrite_prompt\n",
       "0  -1  Improve the text to this."
      ]
     },
     "execution_count": 2,
     "metadata": {},
     "output_type": "execute_result"
    }
   ],
   "source": [
    "train = pd.read_csv(\"/kaggle/input/llm-prompt-recovery/train.csv\")\n",
    "test = pd.read_csv(\"/kaggle/input/llm-prompt-recovery/test.csv\")\n",
    "test['rewrite_prompt'] = 'Improve the text to this.' \n",
    "print(test['rewrite_prompt'].iloc[0])\n",
    "test = test[['id', 'rewrite_prompt']]\n",
    "test"
   ]
  },
  {
   "cell_type": "code",
   "execution_count": 3,
   "id": "8de4b8bb",
   "metadata": {
    "execution": {
     "iopub.execute_input": "2024-03-18T04:44:23.576923Z",
     "iopub.status.busy": "2024-03-18T04:44:23.575859Z",
     "iopub.status.idle": "2024-03-18T04:44:23.593679Z",
     "shell.execute_reply": "2024-03-18T04:44:23.592471Z"
    },
    "papermill": {
     "duration": 0.025004,
     "end_time": "2024-03-18T04:44:23.596442",
     "exception": false,
     "start_time": "2024-03-18T04:44:23.571438",
     "status": "completed"
    },
    "tags": []
   },
   "outputs": [
    {
     "data": {
      "text/html": [
       "<div>\n",
       "<style scoped>\n",
       "    .dataframe tbody tr th:only-of-type {\n",
       "        vertical-align: middle;\n",
       "    }\n",
       "\n",
       "    .dataframe tbody tr th {\n",
       "        vertical-align: top;\n",
       "    }\n",
       "\n",
       "    .dataframe thead th {\n",
       "        text-align: right;\n",
       "    }\n",
       "</style>\n",
       "<table border=\"1\" class=\"dataframe\">\n",
       "  <thead>\n",
       "    <tr style=\"text-align: right;\">\n",
       "      <th></th>\n",
       "      <th>id</th>\n",
       "      <th>rewrite_prompt</th>\n",
       "    </tr>\n",
       "  </thead>\n",
       "  <tbody>\n",
       "    <tr>\n",
       "      <th>0</th>\n",
       "      <td>-1</td>\n",
       "      <td>Improve the text to this.</td>\n",
       "    </tr>\n",
       "  </tbody>\n",
       "</table>\n",
       "</div>"
      ],
      "text/plain": [
       "   id             rewrite_prompt\n",
       "0  -1  Improve the text to this."
      ]
     },
     "execution_count": 3,
     "metadata": {},
     "output_type": "execute_result"
    }
   ],
   "source": [
    "test.to_csv('submission.csv', header=True, index=False)\n",
    "sub = pd.read_csv(\"/kaggle/working/submission.csv\")\n",
    "sub"
   ]
  }
 ],
 "metadata": {
  "kaggle": {
   "accelerator": "none",
   "dataSources": [
    {
     "databundleVersionId": 7806901,
     "sourceId": 67121,
     "sourceType": "competition"
    }
   ],
   "dockerImageVersionId": 30664,
   "isGpuEnabled": false,
   "isInternetEnabled": false,
   "language": "python",
   "sourceType": "notebook"
  },
  "kernelspec": {
   "display_name": "Python 3",
   "language": "python",
   "name": "python3"
  },
  "language_info": {
   "codemirror_mode": {
    "name": "ipython",
    "version": 3
   },
   "file_extension": ".py",
   "mimetype": "text/x-python",
   "name": "python",
   "nbconvert_exporter": "python",
   "pygments_lexer": "ipython3",
   "version": "3.10.13"
  },
  "papermill": {
   "default_parameters": {},
   "duration": 4.850107,
   "end_time": "2024-03-18T04:44:24.121728",
   "environment_variables": {},
   "exception": null,
   "input_path": "__notebook__.ipynb",
   "output_path": "__notebook__.ipynb",
   "parameters": {},
   "start_time": "2024-03-18T04:44:19.271621",
   "version": "2.5.0"
  }
 },
 "nbformat": 4,
 "nbformat_minor": 5
}
