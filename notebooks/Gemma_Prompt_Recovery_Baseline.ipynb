{
  "nbformat": 4,
  "nbformat_minor": 0,
  "metadata": {
    "colab": {
      "provenance": [],
      "gpuType": "T4"
    },
    "kernelspec": {
      "name": "python3",
      "display_name": "Python 3"
    },
    "language_info": {
      "name": "python"
    },
    "accelerator": "GPU"
  },
  "cells": [
    {
      "cell_type": "code",
      "execution_count": 1,
      "metadata": {
        "id": "7g8l2PZCHo6I"
      },
      "outputs": [],
      "source": [
        "import os\n",
        "from google.colab import userdata\n",
        "\n",
        "# Note: `userdata.get` is a Colab API. If you're not using Colab, set the env\n",
        "# vars as appropriate for your system.\n",
        "os.environ[\"KAGGLE_USERNAME\"] = userdata.get('KAGGLE_USERNAME')\n",
        "os.environ[\"KAGGLE_KEY\"] = userdata.get('KAGGLE_KEY')"
      ]
    },
    {
      "cell_type": "code",
      "source": [
        "# Install Keras 3 last. See https://keras.io/getting_started/ for more details.\n",
        "!pip install -q -U keras-nlp\n",
        "!pip install -q -U keras>=3"
      ],
      "metadata": {
        "colab": {
          "base_uri": "https://localhost:8080/"
        },
        "id": "eXYS4VPyJBUt",
        "outputId": "ed29a16c-72f1-44b1-9390-2b889ef80c12"
      },
      "execution_count": 2,
      "outputs": [
        {
          "output_type": "stream",
          "name": "stdout",
          "text": [
            "\u001b[?25l     \u001b[90m━━━━━━━━━━━━━━━━━━━━━━━━━━━━━━━━━━━━━━━━\u001b[0m \u001b[32m0.0/465.3 kB\u001b[0m \u001b[31m?\u001b[0m eta \u001b[36m-:--:--\u001b[0m\r\u001b[2K     \u001b[91m━━━━━━━━━━━━━━━━━━━━━━━━━━━━━━━━━━━━━━━\u001b[0m\u001b[91m╸\u001b[0m \u001b[32m460.8/465.3 kB\u001b[0m \u001b[31m14.2 MB/s\u001b[0m eta \u001b[36m0:00:01\u001b[0m\r\u001b[2K     \u001b[90m━━━━━━━━━━━━━━━━━━━━━━━━━━━━━━━━━━━━━━━━\u001b[0m \u001b[32m465.3/465.3 kB\u001b[0m \u001b[31m11.0 MB/s\u001b[0m eta \u001b[36m0:00:00\u001b[0m\n",
            "\u001b[2K     \u001b[90m━━━━━━━━━━━━━━━━━━━━━━━━━━━━━━━━━━━━━━━━\u001b[0m \u001b[32m950.8/950.8 kB\u001b[0m \u001b[31m26.0 MB/s\u001b[0m eta \u001b[36m0:00:00\u001b[0m\n",
            "\u001b[2K     \u001b[90m━━━━━━━━━━━━━━━━━━━━━━━━━━━━━━━━━━━━━━━━\u001b[0m \u001b[32m5.2/5.2 MB\u001b[0m \u001b[31m44.8 MB/s\u001b[0m eta \u001b[36m0:00:00\u001b[0m\n",
            "\u001b[?25h\u001b[31mERROR: pip's dependency resolver does not currently take into account all the packages that are installed. This behaviour is the source of the following dependency conflicts.\n",
            "tensorflow 2.15.0 requires keras<2.16,>=2.15.0, but you have keras 3.0.5 which is incompatible.\u001b[0m\u001b[31m\n",
            "\u001b[0m"
          ]
        }
      ]
    },
    {
      "cell_type": "code",
      "source": [
        "import keras\n",
        "import keras_nlp\n",
        "import os\n",
        "\n",
        "os.environ[\"KERAS_BACKEND\"] = \"torch\"  # Or \"tensorflow\" or \"torch\"."
      ],
      "metadata": {
        "id": "Gk-ucJVHJF1z"
      },
      "execution_count": 3,
      "outputs": []
    },
    {
      "cell_type": "code",
      "source": [
        "gemma_lm = keras_nlp.models.GemmaCausalLM.from_preset(\"gemma_2b_en\")"
      ],
      "metadata": {
        "colab": {
          "base_uri": "https://localhost:8080/"
        },
        "id": "1Bx_mIkmJNd6",
        "outputId": "adc82ebb-7368-4c1a-9f1b-3e11901a0f36"
      },
      "execution_count": 4,
      "outputs": [
        {
          "output_type": "stream",
          "name": "stderr",
          "text": [
            "Attaching 'config.json' from model 'keras/gemma/keras/gemma_2b_en/2' to your Colab notebook...\n",
            "Attaching 'config.json' from model 'keras/gemma/keras/gemma_2b_en/2' to your Colab notebook...\n",
            "Attaching 'model.weights.h5' from model 'keras/gemma/keras/gemma_2b_en/2' to your Colab notebook...\n",
            "Attaching 'tokenizer.json' from model 'keras/gemma/keras/gemma_2b_en/2' to your Colab notebook...\n",
            "Attaching 'assets/tokenizer/vocabulary.spm' from model 'keras/gemma/keras/gemma_2b_en/2' to your Colab notebook...\n"
          ]
        }
      ]
    },
    {
      "cell_type": "code",
      "source": [
        "gemma_lm.generate(\"What is the meaning of life?\", max_length=64)"
      ],
      "metadata": {
        "colab": {
          "base_uri": "https://localhost:8080/",
          "height": 53
        },
        "id": "OjdpyC-aJ0pt",
        "outputId": "dab3d570-68b0-4bef-e227-752c41b43c95"
      },
      "execution_count": 5,
      "outputs": [
        {
          "output_type": "execute_result",
          "data": {
            "text/plain": [
              "'What is the meaning of life?\\n\\nThe question is one of the most important questions in the world.\\n\\nIt’s the question that has been asked by philosophers, theologians, and scientists for centuries.\\n\\nAnd it’s the question that has been asked by people who are looking for answers to their own lives'"
            ],
            "application/vnd.google.colaboratory.intrinsic+json": {
              "type": "string"
            }
          },
          "metadata": {},
          "execution_count": 5
        }
      ]
    },
    {
      "cell_type": "code",
      "source": [
        "gemma_lm.generate(\"Why did the chicken cross the road?\", max_length=64)"
      ],
      "metadata": {
        "colab": {
          "base_uri": "https://localhost:8080/",
          "height": 53
        },
        "id": "6E34_LPoOiz6",
        "outputId": "6c113ed8-2b2e-4738-8069-4388913e16f4"
      },
      "execution_count": 6,
      "outputs": [
        {
          "output_type": "execute_result",
          "data": {
            "text/plain": [
              "'Why did the chicken cross the road? To get to the other side.\\n\\nWhy did the chicken cross the road? To get to the other side.\\n\\nWhy did the chicken cross the road? To get to the other side.\\n\\nWhy did the chicken cross the road? To get to the other side.'"
            ],
            "application/vnd.google.colaboratory.intrinsic+json": {
              "type": "string"
            }
          },
          "metadata": {},
          "execution_count": 6
        }
      ]
    },
    {
      "cell_type": "code",
      "source": [
        "original_text = \"The film, just over a minute long, is composed of two shots. In the first, a girl sits at the base of an altar or tomb, her face hidden from the camera. At the center of the altar, a viewing portal displays the portraits of three U.S. Presidents—Abraham Lincoln, James A. Garfield, and William McKinley—each victims of assassination.\\r\\nIn the second shot, which runs just over eight seconds long, an assassin kneels feet of Lady Justice\"\n",
        "rewritten_text = \"Sure, here's the rewritten essay using the writing style of William Shakespeare:\\n\\nO maiden fair, thy presence doth illuminate the tomb's lair,\\nA canvas etched with shadows dancing in an hour's glare.\\nA single frame, a testament to the fleeting breath of life,\\nA portrait etched upon the altar's strife.\\n\\nThere sits a damsel's form upon the tomb's cold stone,\\nWith hidden visage and a mystery yet unknown.\\nAt the\"\n",
        "prediction_input = \"Original Text: \" + original_text + \" Rewritten Text: \" + rewritten_text + \"What was the rewrite prompt for this pair of text?\"\n"
      ],
      "metadata": {
        "id": "ueDJDR4tJ-aU"
      },
      "execution_count": 7,
      "outputs": []
    },
    {
      "cell_type": "code",
      "source": [
        "predicted_prompt = gemma_lm.generate(prediction_input, max_length=1024)\n",
        "predicted_prompt[len(prediction_input):]"
      ],
      "metadata": {
        "colab": {
          "base_uri": "https://localhost:8080/",
          "height": 125
        },
        "id": "AXY-AihYPeGN",
        "outputId": "6e83f311-2dab-4c59-81b8-d1efb94a289b"
      },
      "execution_count": 8,
      "outputs": [
        {
          "output_type": "execute_result",
          "data": {
            "text/plain": [
              "'\\n\\nA. Write a poem about the portrait of a woman in a tomb.\\n\\nB. Write a poem about the portrait of a woman in a tomb.\\n\\nC. Write a poem about the portrait of a woman in a tomb.\\n\\nD. Write a poem about the portrait of a woman in a tomb.\\n\\nE. Write a poem about the portrait of a woman in a tomb.\\n\\nF. Write a poem about the portrait of a woman in a tomb.\\n\\nG. Write a poem about the portrait of a woman in a tomb.\\n\\nH. Write a poem about the portrait of a woman in a tomb.\\n\\nI. Write a poem about the portrait of a woman in a tomb.\\n\\nJ. Write a poem about the portrait of a woman in a tomb.\\n\\nK. Write a poem about the portrait of a woman in a tomb.\\n\\nL. Write a poem about the portrait of a woman in a tomb.\\n\\nM. Write a poem about the portrait of a woman in a tomb.\\n\\nN. Write a poem about the portrait of a woman in a tomb.\\n\\nO. Write a poem about the portrait of a woman in a tomb.\\n\\nP. Write a poem about the portrait of a woman in a tomb.\\n\\nQ. Write a poem about the portrait of a woman in a tomb.\\n\\nR. Write a poem about the portrait of a woman in a tomb.\\n\\nS. Write a poem about the portrait of a woman in a tomb.\\n\\nT. Write a poem about the portrait of a woman in a tomb.\\n\\nU. Write a poem about the portrait of a woman in a tomb.\\n\\nV. Write a poem about the portrait of a woman in a tomb.\\n\\nW. Write a poem about the portrait of a woman in a tomb.\\n\\nX. Write a poem about the portrait of a woman in a tomb.\\n\\nY. Write a poem about the portrait of a woman in a tomb.\\n\\nZ. Write a poem about the portrait of a woman in a tomb.\\n\\nAA. Write a poem about the portrait of a woman in a tomb.\\n\\nBB. Write a poem about the portrait of a woman in a tomb.\\n\\nCC. Write a poem about the portrait of a woman in a tomb.\\n\\nDD. Write a poem about the portrait of a woman in a tomb.\\n\\nEE. Write a poem about the portrait of a woman in a tomb.\\n\\nFF. Write a poem about the portrait of a woman in a tomb.\\n\\nGG. Write a poem about the portrait of a woman in a tomb.\\n\\nHH. Write a poem about the portrait of a woman in a tomb.\\n\\nII. Write a poem about the portrait of a woman in a tomb.\\n\\nJJ. Write a poem about the portrait of a woman in a tomb.\\n\\nKK. Write a poem about the portrait of a woman in a tomb.\\n\\nLL. Write a poem about the portrait of a woman in a tomb.\\n\\nMM. Write a poem about the portrait of a woman in a tomb.\\n\\nNN. Write a poem about the portrait of a woman in a tomb.\\n\\nOO. Write a poem about the portrait of a woman in a tomb.\\n\\nPP. Write a poem about the portrait of a woman in a tomb.\\n\\nQQ. Write a poem about the portrait of a woman in a tomb.\\n\\nRR. Write a poem about the portrait of a woman in a tomb.\\n\\nSS. Write a poem about the portrait of a woman in a tomb.\\n\\nTT. Write a poem about the portrait of a woman in a tomb.\\n\\nUU. Write a poem about the portrait of a woman in a tomb.\\n\\nVV. Write a poem about the portrait of a woman in a tomb.\\n\\nWW. Write a poem about the portrait of a woman in a tomb.\\n\\nXX. Write a poem about the portrait of a woman in a tomb.\\n\\nYY. Write a poem about'"
            ],
            "application/vnd.google.colaboratory.intrinsic+json": {
              "type": "string"
            }
          },
          "metadata": {},
          "execution_count": 8
        }
      ]
    },
    {
      "cell_type": "code",
      "source": [
        "original_text = \"Scenes are introduced using lines of the poem.[2] Santa Claus, played by Harry Eytinge, is shown feeding real reindeer[4] and finishes his work in the workshop. Meanwhile, the children of a city household hang their stockings and go to bed, but unable to sleep they engage in a pillow fight. Santa Claus leaves his home on a sleigh with his reindeer. He enters the children's house through the chimney, and leaves the presents. The children come down the stairs and enjoy their presents.\"\n",
        "rewritten_text = \"Sure, here's the rhyme:\\n\\nScenes dance with lines of rhyme,\\nSanta's visit, a wondrous chime.\\nHe feeds reindeer, a festive sight,\\nAnd finishes his work, day and night.\\n\\nThe stockings hang, a twinkling dream,\\nAs the children slumber, asleep at the seam.\\nBut their thoughts drift to the day's delight,\\nA pillow fight, a restless night.\\n\\nSanta takes flight, with a mighty roar,\\nA sleigh full\"\n",
        "prediction_input = \"Original Text: \" + original_text + \" Rewritten Text: \" + rewritten_text + \"What was the specific rewrite prompt for this pair of text? Limit output to one line.\"\n"
      ],
      "metadata": {
        "id": "oi6cNwTCRCcf"
      },
      "execution_count": 15,
      "outputs": []
    },
    {
      "cell_type": "code",
      "source": [
        "predicted_prompt = gemma_lm.generate(prediction_input, max_length=1024)\n",
        "predicted_prompt[len(prediction_input):]"
      ],
      "metadata": {
        "colab": {
          "base_uri": "https://localhost:8080/",
          "height": 125
        },
        "outputId": "1630e804-e16c-4a5f-816e-cbd8052b3d7f",
        "id": "VtrAITZSRCcg"
      },
      "execution_count": 18,
      "outputs": [
        {
          "output_type": "execute_result",
          "data": {
            "text/plain": [
              "'\\n\\nAnswer:\\n\\nSanta Claus, played by Harry Eytinge, is shown feeding real reindeer[4] and finishes his work in the workshop. Meanwhile, the children of a city household hang their stockings and go to bed, but unable to sleep they engage in a pillow fight. Santa Claus leaves his home on a sleigh with his reindeer. He enters the children\\'s house through the chimney, and leaves the presents. The children come down the stairs and enjoy their presents.\\n\\nExplanation:\\n\\nThe poem \"Twas the Night Before Christmas\" was written by Clement Clarke Moore in 1823. It is a Christmas poem that tells the story of Santa Claus and his visit to children\\'s houses. The poem is written in the form of a narrative, with the use of rhyme and meter. The poem is set in a fictional town, and the characters are described in detail. The poem is a classic Christmas poem that is still read and enjoyed by many people today.\\n\\nThe poem is written in the form of a narrative, with the use of rhyme and meter. The poem is set in a fictional town, and the characters are described in detail. The poem is a classic Christmas poem that is still read and enjoyed by many people today.\\n\\nThe poem is written in the form of a narrative, with the use of rhyme and meter. The poem is set in a fictional town, and the characters are described in detail. The poem is a classic Christmas poem that is still read and enjoyed by many people today.\\n\\nThe poem is written in the form of a narrative, with the use of rhyme and meter. The poem is set in a fictional town, and the characters are described in detail. The poem is a classic Christmas poem that is still read and enjoyed by many people today.\\n\\nThe poem is written in the form of a narrative, with the use of rhyme and meter. The poem is set in a fictional town, and the characters are described in detail. The poem is a classic Christmas poem that is still read and enjoyed by many people today.\\n\\nThe poem is written in the form of a narrative, with the use of rhyme and meter. The poem is set in a fictional town, and the characters are described in detail. The poem is a classic Christmas poem that is still read and enjoyed by many people today.\\n\\nThe poem is written in the form of a narrative, with the use of rhyme and meter. The poem is set in a fictional town, and the characters are described in detail. The poem is a classic Christmas poem that is still read and enjoyed by many people today.\\n\\nThe poem is written in the form of a narrative, with the use of rhyme and meter. The poem is set in a fictional town, and the characters are described in detail. The poem is a classic Christmas poem that is still read and enjoyed by many people today.\\n\\nThe poem is written in the form of a narrative, with the use of rhyme and meter. The poem is set in a fictional town, and the characters are described in detail. The poem is a classic Christmas poem that is still read and enjoyed by many people today.\\n\\nThe poem is written in the form of a narrative, with the use of rhyme and meter. The poem is set in a fictional town, and the characters are described in detail. The poem is a classic Christmas poem that is still read and enjoyed by many people today.\\n\\nThe poem is written in the form of a narrative, with the use of rhyme and meter. The poem is set in a fictional town, and the characters are described in detail. The poem is a classic Christmas poem that is still read and enjoyed by many people today.\\n\\nThe poem is written in the form of a narrative, with the use of rhyme and meter. The poem is set in a fictional town, and the characters are described in detail. The poem is a classic Christmas poem that is still read'"
            ],
            "application/vnd.google.colaboratory.intrinsic+json": {
              "type": "string"
            }
          },
          "metadata": {},
          "execution_count": 18
        }
      ]
    }
  ]
}