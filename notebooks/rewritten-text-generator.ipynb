{
 "cells": [
  {
   "cell_type": "code",
   "execution_count": 1,
   "id": "f1e64fcd",
   "metadata": {
    "execution": {
     "iopub.execute_input": "2024-03-07T23:17:15.030542Z",
     "iopub.status.busy": "2024-03-07T23:17:15.030136Z",
     "iopub.status.idle": "2024-03-07T23:17:46.141140Z",
     "shell.execute_reply": "2024-03-07T23:17:46.140113Z"
    },
    "papermill": {
     "duration": 31.123269,
     "end_time": "2024-03-07T23:17:46.147334",
     "exception": false,
     "start_time": "2024-03-07T23:17:15.024065",
     "status": "completed"
    },
    "tags": []
   },
   "outputs": [
    {
     "data": {
      "text/html": [
       "<div>\n",
       "<style scoped>\n",
       "    .dataframe tbody tr th:only-of-type {\n",
       "        vertical-align: middle;\n",
       "    }\n",
       "\n",
       "    .dataframe tbody tr th {\n",
       "        vertical-align: top;\n",
       "    }\n",
       "\n",
       "    .dataframe thead th {\n",
       "        text-align: right;\n",
       "    }\n",
       "</style>\n",
       "<table border=\"1\" class=\"dataframe\">\n",
       "  <thead>\n",
       "    <tr style=\"text-align: right;\">\n",
       "      <th></th>\n",
       "      <th>Release Year</th>\n",
       "      <th>Title</th>\n",
       "      <th>Origin/Ethnicity</th>\n",
       "      <th>Director</th>\n",
       "      <th>Cast</th>\n",
       "      <th>Genre</th>\n",
       "      <th>Wiki Page</th>\n",
       "      <th>Plot</th>\n",
       "    </tr>\n",
       "  </thead>\n",
       "  <tbody>\n",
       "    <tr>\n",
       "      <th>0</th>\n",
       "      <td>1901</td>\n",
       "      <td>Kansas Saloon Smashers</td>\n",
       "      <td>American</td>\n",
       "      <td>Unknown</td>\n",
       "      <td>NaN</td>\n",
       "      <td>unknown</td>\n",
       "      <td>https://en.wikipedia.org/wiki/Kansas_Saloon_Sm...</td>\n",
       "      <td>A bartender is working at a saloon, serving dr...</td>\n",
       "    </tr>\n",
       "    <tr>\n",
       "      <th>1</th>\n",
       "      <td>1901</td>\n",
       "      <td>Love by the Light of the Moon</td>\n",
       "      <td>American</td>\n",
       "      <td>Unknown</td>\n",
       "      <td>NaN</td>\n",
       "      <td>unknown</td>\n",
       "      <td>https://en.wikipedia.org/wiki/Love_by_the_Ligh...</td>\n",
       "      <td>The moon, painted with a smiling face hangs ov...</td>\n",
       "    </tr>\n",
       "    <tr>\n",
       "      <th>2</th>\n",
       "      <td>1901</td>\n",
       "      <td>The Martyred Presidents</td>\n",
       "      <td>American</td>\n",
       "      <td>Unknown</td>\n",
       "      <td>NaN</td>\n",
       "      <td>unknown</td>\n",
       "      <td>https://en.wikipedia.org/wiki/The_Martyred_Pre...</td>\n",
       "      <td>The film, just over a minute long, is composed...</td>\n",
       "    </tr>\n",
       "    <tr>\n",
       "      <th>3</th>\n",
       "      <td>1901</td>\n",
       "      <td>Terrible Teddy, the Grizzly King</td>\n",
       "      <td>American</td>\n",
       "      <td>Unknown</td>\n",
       "      <td>NaN</td>\n",
       "      <td>unknown</td>\n",
       "      <td>https://en.wikipedia.org/wiki/Terrible_Teddy,_...</td>\n",
       "      <td>Lasting just 61 seconds and consisting of two ...</td>\n",
       "    </tr>\n",
       "    <tr>\n",
       "      <th>4</th>\n",
       "      <td>1902</td>\n",
       "      <td>Jack and the Beanstalk</td>\n",
       "      <td>American</td>\n",
       "      <td>George S. Fleming, Edwin S. Porter</td>\n",
       "      <td>NaN</td>\n",
       "      <td>unknown</td>\n",
       "      <td>https://en.wikipedia.org/wiki/Jack_and_the_Bea...</td>\n",
       "      <td>The earliest known adaptation of the classic f...</td>\n",
       "    </tr>\n",
       "  </tbody>\n",
       "</table>\n",
       "</div>"
      ],
      "text/plain": [
       "   Release Year                             Title Origin/Ethnicity  \\\n",
       "0          1901            Kansas Saloon Smashers         American   \n",
       "1          1901     Love by the Light of the Moon         American   \n",
       "2          1901           The Martyred Presidents         American   \n",
       "3          1901  Terrible Teddy, the Grizzly King         American   \n",
       "4          1902            Jack and the Beanstalk         American   \n",
       "\n",
       "                             Director Cast    Genre  \\\n",
       "0                             Unknown  NaN  unknown   \n",
       "1                             Unknown  NaN  unknown   \n",
       "2                             Unknown  NaN  unknown   \n",
       "3                             Unknown  NaN  unknown   \n",
       "4  George S. Fleming, Edwin S. Porter  NaN  unknown   \n",
       "\n",
       "                                           Wiki Page  \\\n",
       "0  https://en.wikipedia.org/wiki/Kansas_Saloon_Sm...   \n",
       "1  https://en.wikipedia.org/wiki/Love_by_the_Ligh...   \n",
       "2  https://en.wikipedia.org/wiki/The_Martyred_Pre...   \n",
       "3  https://en.wikipedia.org/wiki/Terrible_Teddy,_...   \n",
       "4  https://en.wikipedia.org/wiki/Jack_and_the_Bea...   \n",
       "\n",
       "                                                Plot  \n",
       "0  A bartender is working at a saloon, serving dr...  \n",
       "1  The moon, painted with a smiling face hangs ov...  \n",
       "2  The film, just over a minute long, is composed...  \n",
       "3  Lasting just 61 seconds and consisting of two ...  \n",
       "4  The earliest known adaptation of the classic f...  "
      ]
     },
     "execution_count": 1,
     "metadata": {},
     "output_type": "execute_result"
    }
   ],
   "source": [
    "import pandas as pd\n",
    "\n",
    "forum_messages_df = pd.read_csv('/kaggle/input/meta-kaggle/ForumMessages.csv')\n",
    "forum_messages_df.head()\n",
    "\n",
    "wikipedia_movie_plots_df = pd.read_csv('/kaggle/input/wikipedia-movie-plots/wiki_movie_plots_deduped.csv')\n",
    "wikipedia_movie_plots_df.head()"
   ]
  },
  {
   "cell_type": "code",
   "execution_count": 2,
   "id": "76d4bbeb",
   "metadata": {
    "execution": {
     "iopub.execute_input": "2024-03-07T23:17:46.158342Z",
     "iopub.status.busy": "2024-03-07T23:17:46.157606Z",
     "iopub.status.idle": "2024-03-07T23:17:46.167308Z",
     "shell.execute_reply": "2024-03-07T23:17:46.166186Z"
    },
    "papermill": {
     "duration": 0.017484,
     "end_time": "2024-03-07T23:17:46.169498",
     "exception": false,
     "start_time": "2024-03-07T23:17:46.152014",
     "status": "completed"
    },
    "tags": []
   },
   "outputs": [
    {
     "data": {
      "text/plain": [
       "'<p>This like betting your life savings on a game of black jack, win once, and then walk. Brilliant!</p>'"
      ]
     },
     "execution_count": 2,
     "metadata": {},
     "output_type": "execute_result"
    }
   ],
   "source": [
    "wikipedia_movie_plots_df['Plot'][:1000]\n",
    "forum_messages_df['Message'][:2][0]"
   ]
  },
  {
   "cell_type": "code",
   "execution_count": 3,
   "id": "8c003906",
   "metadata": {
    "execution": {
     "iopub.execute_input": "2024-03-07T23:17:46.179924Z",
     "iopub.status.busy": "2024-03-07T23:17:46.179561Z",
     "iopub.status.idle": "2024-03-07T23:17:46.189070Z",
     "shell.execute_reply": "2024-03-07T23:17:46.188087Z"
    },
    "papermill": {
     "duration": 0.017491,
     "end_time": "2024-03-07T23:17:46.191420",
     "exception": false,
     "start_time": "2024-03-07T23:17:46.173929",
     "status": "completed"
    },
    "tags": []
   },
   "outputs": [
    {
     "data": {
      "text/plain": [
       "0     <p>This like betting your life savings on a ga...\n",
       "1     <p>Hi everyone... I'm looking for a team. I'm ...\n",
       "2                            <p>Thanks for sharing!</p>\n",
       "3     <p>This competition's final submission deadlin...\n",
       "4     <p>funny, it didn't work for me - got 13.837.\\...\n",
       "5     <p>10x+ scores, so unreliable on the &lt;1% te...\n",
       "6                                    <p>Great Work!</p>\n",
       "7                                         <p>Thx ;)</p>\n",
       "8     <p>I hope this is occasional  and will be fixe...\n",
       "9     <p>Great stuff Tom! I really like the walkthro...\n",
       "10    A bartender is working at a saloon, serving dr...\n",
       "11    The moon, painted with a smiling face hangs ov...\n",
       "12    The film, just over a minute long, is composed...\n",
       "13    Lasting just 61 seconds and consisting of two ...\n",
       "14    The earliest known adaptation of the classic f...\n",
       "15    Alice follows a large white rabbit down a \"Rab...\n",
       "16    The film opens with two bandits breaking into ...\n",
       "17    The film is about a family who move to the sub...\n",
       "18    The opening scene shows the interior of the ro...\n",
       "19    Scenes are introduced using lines of the poem....\n",
       "dtype: object"
      ]
     },
     "execution_count": 3,
     "metadata": {},
     "output_type": "execute_result"
    }
   ],
   "source": [
    "original_texts = pd.concat([forum_messages_df['Message'][:10],wikipedia_movie_plots_df['Plot'][:10]], ignore_index=True)\n",
    "original_texts"
   ]
  },
  {
   "cell_type": "code",
   "execution_count": 4,
   "id": "f8635b31",
   "metadata": {
    "execution": {
     "iopub.execute_input": "2024-03-07T23:17:46.203296Z",
     "iopub.status.busy": "2024-03-07T23:17:46.202385Z",
     "iopub.status.idle": "2024-03-07T23:17:46.208325Z",
     "shell.execute_reply": "2024-03-07T23:17:46.207340Z"
    },
    "papermill": {
     "duration": 0.014515,
     "end_time": "2024-03-07T23:17:46.210589",
     "exception": false,
     "start_time": "2024-03-07T23:17:46.196074",
     "status": "completed"
    },
    "tags": []
   },
   "outputs": [],
   "source": [
    "rewrite_prompts = [\n",
    "    'Explain this to me like I\\'m five.',\n",
    "    'Convert this into a sea shanty.',\n",
    "    'Make this rhyme.',\n",
    "    'Make this shorter.',\n",
    "    'Make this longer.',\n",
    "    'Make this more detailed.',\n",
    "    'Rewrite this essay but do it using the writing style of Dr. Seuss',\n",
    "    'Rewrite this essay but do it using the writing style of William Shakespeare',\n",
    "    'Rewrite this essay but do it using the writing style of Tupac Shakur',\n",
    "    'Make this a haiku.',\n",
    "    'Make this into a poem.',\n",
    "    'Turn this into a sonnet.',\n",
    "    'Summarize this.',\n",
    "    'Give me the highlights.',\n",
    "]"
   ]
  },
  {
   "cell_type": "code",
   "execution_count": 5,
   "id": "0be3613d",
   "metadata": {
    "execution": {
     "iopub.execute_input": "2024-03-07T23:17:46.221182Z",
     "iopub.status.busy": "2024-03-07T23:17:46.220812Z",
     "iopub.status.idle": "2024-03-07T23:18:09.259678Z",
     "shell.execute_reply": "2024-03-07T23:18:09.258364Z"
    },
    "papermill": {
     "duration": 23.047091,
     "end_time": "2024-03-07T23:18:09.262291",
     "exception": false,
     "start_time": "2024-03-07T23:17:46.215200",
     "status": "completed"
    },
    "tags": []
   },
   "outputs": [
    {
     "name": "stdout",
     "output_type": "stream",
     "text": [
      "Cloning into 'gemma_pytorch'...\r\n",
      "remote: Enumerating objects: 91, done.\u001b[K\r\n",
      "remote: Counting objects: 100% (36/36), done.\u001b[K\r\n",
      "remote: Compressing objects: 100% (25/25), done.\u001b[K\r\n",
      "remote: Total 91 (delta 20), reused 15 (delta 11), pack-reused 55\u001b[K\r\n",
      "Unpacking objects: 100% (91/91), 2.14 MiB | 3.91 MiB/s, done.\r\n"
     ]
    }
   ],
   "source": [
    "!pip install -q -U immutabledict sentencepiece\n",
    "!git clone https://github.com/google/gemma_pytorch.git\n",
    "!mkdir /kaggle/working/gemma/\n",
    "!mv /kaggle/working/gemma_pytorch/gemma/* /kaggle/working/gemma/"
   ]
  },
  {
   "cell_type": "code",
   "execution_count": 6,
   "id": "4fdeade0",
   "metadata": {
    "execution": {
     "iopub.execute_input": "2024-03-07T23:18:09.276104Z",
     "iopub.status.busy": "2024-03-07T23:18:09.275285Z",
     "iopub.status.idle": "2024-03-07T23:19:24.804292Z",
     "shell.execute_reply": "2024-03-07T23:19:24.803199Z"
    },
    "papermill": {
     "duration": 75.539425,
     "end_time": "2024-03-07T23:19:24.807565",
     "exception": false,
     "start_time": "2024-03-07T23:18:09.268140",
     "status": "completed"
    },
    "tags": []
   },
   "outputs": [
    {
     "name": "stderr",
     "output_type": "stream",
     "text": [
      "/opt/conda/lib/python3.10/site-packages/torch/_utils.py:831: UserWarning: TypedStorage is deprecated. It will be removed in the future and UntypedStorage will be the only storage class. This should only matter to you if you are using storages directly.  To access UntypedStorage directly, use tensor.untyped_storage() instead of tensor.storage()\n",
      "  return self.fget.__get__(instance, owner)()\n"
     ]
    }
   ],
   "source": [
    "import sys\n",
    "sys.path.append(\"/kaggle/working/gemma_pytorch/\")\n",
    "from gemma.config import GemmaConfig, get_config_for_7b, get_config_for_2b\n",
    "from gemma.model import GemmaForCausalLM\n",
    "from gemma.tokenizer import Tokenizer\n",
    "import contextlib\n",
    "import os\n",
    "import torch\n",
    "\n",
    "VARIANT = \"7b-it-quant\"\n",
    "MACHINE_TYPE = \"cuda\"\n",
    "weights_dir = '/kaggle/input/gemma/pytorch/7b-it-quant/2'\n",
    "\n",
    "@contextlib.contextmanager\n",
    "def _set_default_tensor_type(dtype: torch.dtype):\n",
    "  \"\"\"Sets the default torch dtype to the given dtype.\"\"\"\n",
    "  torch.set_default_dtype(dtype)\n",
    "  yield\n",
    "  torch.set_default_dtype(torch.float)\n",
    "    \n",
    "model_config = get_config_for_2b() if \"2b\" in VARIANT else get_config_for_7b()\n",
    "model_config.tokenizer = os.path.join(weights_dir, \"tokenizer.model\")\n",
    "model_config.quant = \"quant\" in VARIANT\n",
    "\n",
    "device = torch.device(MACHINE_TYPE)\n",
    "with _set_default_tensor_type(model_config.get_dtype()):\n",
    "  model = GemmaForCausalLM(model_config)\n",
    "  ckpt_path = os.path.join(weights_dir, f'gemma-{VARIANT}.ckpt')\n",
    "  model.load_weights(ckpt_path)\n",
    "  model = model.to(device).eval()"
   ]
  },
  {
   "cell_type": "code",
   "execution_count": 7,
   "id": "ae764fac",
   "metadata": {
    "execution": {
     "iopub.execute_input": "2024-03-07T23:19:24.821903Z",
     "iopub.status.busy": "2024-03-07T23:19:24.820915Z",
     "iopub.status.idle": "2024-03-07T23:33:50.547731Z",
     "shell.execute_reply": "2024-03-07T23:33:50.546451Z"
    },
    "papermill": {
     "duration": 865.736766,
     "end_time": "2024-03-07T23:33:50.550514",
     "exception": false,
     "start_time": "2024-03-07T23:19:24.813748",
     "status": "completed"
    },
    "tags": []
   },
   "outputs": [],
   "source": [
    "import random\n",
    "random.seed(0)\n",
    "USER_CHAT_TEMPLATE = \"<start_of_turn>user\\n{prompt}<end_of_turn>\\n<start_of_turn>model\\n\"\n",
    "\n",
    "rewrite_data = []\n",
    "\n",
    "for original_text in original_texts:\n",
    "    rewrite_prompt = random.choice(rewrite_prompts)\n",
    "    prompt = f'{rewrite_prompt}\\n{original_text}'\n",
    "    rewritten_text = model.generate(\n",
    "        USER_CHAT_TEMPLATE.format(prompt=prompt),\n",
    "        device=device,\n",
    "        output_len=100,\n",
    "    )\n",
    "    rewrite_data.append({\n",
    "        'original_text': original_text,\n",
    "        'rewrite_prompt': rewrite_prompt,\n",
    "        'rewritten_text': rewritten_text,\n",
    "    })"
   ]
  },
  {
   "cell_type": "code",
   "execution_count": 8,
   "id": "86f72386",
   "metadata": {
    "execution": {
     "iopub.execute_input": "2024-03-07T23:33:50.564132Z",
     "iopub.status.busy": "2024-03-07T23:33:50.563184Z",
     "iopub.status.idle": "2024-03-07T23:33:50.573257Z",
     "shell.execute_reply": "2024-03-07T23:33:50.572253Z"
    },
    "papermill": {
     "duration": 0.019152,
     "end_time": "2024-03-07T23:33:50.575598",
     "exception": false,
     "start_time": "2024-03-07T23:33:50.556446",
     "status": "completed"
    },
    "tags": []
   },
   "outputs": [
    {
     "data": {
      "text/plain": [
       "array([['<p>This like betting your life savings on a game of black jack, win once, and then walk. Brilliant!</p>',\n",
       "        'Give me the highlights.',\n",
       "        \"Sure, here's the highlights:\\n\\n* **High-stakes blackjack:** The text describes playing blackjack with life savings, implying a significant financial commitment.\\n* **Potentially lucrative winnings:** The text suggests that a win in this game could result in a significant windfall, comparable to walking away from the game with substantial winnings.\"],\n",
       "       [\"<p>Hi everyone... I'm looking for a team. I'm Data Scientist and I'd like learning more about Kaggle competitions, strategies and I have time to do this! I use Python and R currently. ;)</p>\",\n",
       "        'Rewrite this essay but do it using the writing style of Dr. Seuss',\n",
       "        'Sure, here\\'s the rewritten essay using the writing style of Dr. Seuss:\\n\\n\"Hi, my dear friend, come join the fun,\\nI\\'m Data Scientist, ready to run.\\nI\\'m searching for a team of bright,\\nAnd eager to learn, day and night.\\n\\nI\\'m using Python and R, you see,\\nTo crunch data and find glee.\\nSo if you\\'re interested in a challenge,\\nLet\\'s team up and'],\n",
       "       ['<p>Thanks for sharing!</p>', 'Summarize this.',\n",
       "        'Sure, please provide me with the text you want me to summarize and I\\'ll summarize it for you. After that, I\\'ll include the summary and the text \"Summary:\".\\n\\n**Summary:**'],\n",
       "       [\"<p>This competition's final submission deadline for Stage 2 has been extended to <strong>11/13 at 11:59pm UTC</strong>.</p>\\n\\n<p>As you've noticed, we've experienced 2 separate issues with notebooks and datasets for this competition that are currently our highest priority to resolve. </p>\\n\\n<p>We are attempting to make the full Stage 2 datasets available. In the meantime, we wanted to ensure all participants have the full 6 days you were expecting for Stage 2, so we are extending the deadline.</p>\\n\\n<p>Once the dataset availability issues are fully resolved, we will post another update. We are very sorry for the inconvenience. I promise that we are sharing in your stress and doing everything we can to get things back on track.</p>\",\n",
       "        'Rewrite this essay but do it using the writing style of Dr. Seuss',\n",
       "        'Sure, here\\'s the rewritten essay using the writing style of Dr. Seuss:\\n\\n\"The Stage 2 deadline\\'s a big to-do,\\nExtended to the moonlit night of a shoe.\\nThe notebooks and datasets have a mess,\\nAnd our highest priority\\'s to fix this mess.\\n\\nWe\\'re trying to make the datasets full,\\nBut for now, don\\'t be blue.\\nYou\\'ll have the full six days to complete,\\nAnd'],\n",
       "       [\"<p>funny, it didn't work for me - got 13.837.\\nmaybe I did something wrong...\\n:)\\njust tried to see if it's really that crazy 😏 </p>\",\n",
       "        \"Explain this to me like I'm five.\",\n",
       "        \"Sure, here's the explanation for you:\\n\\nThis person was trying to do something funny, but it didn't work out exactly. They got a number that's not funny at all: 13.837. They're not sure if they did something wrong or if the number just isn't funny. They're also smiley because they're trying to be positive and not sad that their joke didn't work.\"],\n",
       "       ['<p>10x+ scores, so unreliable on the &lt;1% test set.</p>',\n",
       "        'Make this longer.',\n",
       "        \"Sure, here's a longer version:\\n\\n10x+ scores, although impressive on the training set, prove to be unreliable on the <1% test set. This phenomenon highlights the susceptibility of deep learning models to overfitting, particularly when confronted with datasets that exhibit significant discrepancies between training and testing data.\"],\n",
       "       ['<p>Great Work!</p>',\n",
       "        'Rewrite this essay but do it using the writing style of Tupac Shakur',\n",
       "        'Sure, here\\'s the rewritten essay rewritten in the style of Tupac Shakur:\\n\\n\"Listen up, mothafucka, pay attention to the rhyme\\nI\\'mma layin\\' down a tale of a journey sublime\\nFrom the hood to the top, a tale of ambition\\nA tale of dreams shattered and hopes in collision\\n\\nThe streets were my playground, my canvas of pain\\nThe rhythm of the hood echoed through the rain\\nI painted pictures of a brighter future\\nBut'],\n",
       "       ['<p>Thx ;)</p>',\n",
       "        'Rewrite this essay but do it using the writing style of William Shakespeare',\n",
       "        \"Sure, here's a rewritten version of the essay using the style of William Shakespeare:\\n\\nIn the tapestry of life's countless threads, the ephemeral dance of joy and sorrow intertwines with the rhythm of the heart's eternal song. With grace and melancholy, the muse whispers tales of love's bittersweet embrace, tales adorned with the silken strands of tears and laughter.\\n\\nA symphony of emotions blossoms upon the stage of our hearts like the ephemeral blossoms of spring's embrace. In the\"],\n",
       "       ['<p>I hope this is occasional  and will be fixed later</p>',\n",
       "        'Rewrite this essay but do it using the writing style of Dr. Seuss',\n",
       "        \"Sure, here's the rewritten essay using the writing style of Dr. Seuss:\\n\\nA tale to tell, a wondrous sight,\\nOf a page that needs a shining light.\\nThe paper blank, a canvas white,\\nBut alas, it's filled with plight.\\n\\nThe text below, a mess of sorts,\\nNeeds to be rewritten, to start a new course.\\nThe words clump together, a tangled mess,\\nLike a Seussical character's dress.\\n\\n\"],\n",
       "       ['<p>Great stuff Tom! I really like the walkthrough with what coaches are thinking. I got some good ideas from it. </p>\\n\\n<p>The new icicle plot for Total Rushing Yards is perfect - Tufte would approve:)</p>\\n\\n<p>Also, great video of LT. Here\\'s another one where he punishes runners. Same thing every time - run to his side, he\\'s there to get you;  run to the other side, he chases you down from behind! <a href=\"https://www.youtube.com/watch?v=jnNP7mWAP5k\">https://www.youtube.com/watch?v=jnNP7mWAP5k</a></p>',\n",
       "        'Summarize this.',\n",
       "        \"Sure, here's a summary:\\n\\nThe author enjoys Tom's video walkthrough of what coaches are thinking, as well as the new icicle plot for Total Rushing Yards and the video of LT punishing runners. The author finds the new plot to be perfect and praises LT's ability to consistently get runners to the sidelines regardless of their direction of travel. They include a YouTube link to a video demonstrating LT's technique.\"],\n",
       "       [\"A bartender is working at a saloon, serving drinks to customers. After he fills a stereotypically Irish man's bucket with beer, Carrie Nation and her followers burst inside. They assault the Irish man, pulling his hat over his eyes and then dumping the beer over his head. The group then begin wrecking the bar, smashing the fixtures, mirrors, and breaking the cash register. The bartender then sprays seltzer water in Nation's face before a group of policemen appear and order everybody to leave.[1]\",\n",
       "        'Give me the highlights.',\n",
       "        \"Sure, here's the highlights:\\n\\n* A bartender serves beer to a stereotypically Irish man.\\n* Carrie Nation and her followers burst inside and assault the Irish man.\\n* The group wrecks the bar, smashing fixtures, mirrors, and breaking the cash register.\\n* The bartender sprays seltzer water in Nation's face.\\n* Police officers order everybody to leave.\"],\n",
       "       [\"The moon, painted with a smiling face hangs over a park at night. A young couple walking past a fence learn on a railing and look up. The moon smiles. They embrace, and the moon's smile gets bigger. They then sit down on a bench by a tree. The moon's view is blocked, causing him to frown. In the last scene, the man fans the woman with his hat because the moon has left the sky and is perched over her shoulder to see everything better.\",\n",
       "        'Make this longer.',\n",
       "        \"The moon, splashed with a surreal smile that resembled a warm, golden hue, cast long shadows upon the emerald canvas of the park. A young couple, etched in the twilight's embrace, paused at a railing, their gazes meeting the celestial orb. The moon's radiant glow illuminated their faces, casting a soft glow upon the park below.\\n\\nThe newly formed bond between the couple mirrored the moon's enigmatic nature. Their embrace, a testament to the profound connection that transcends time and\"],\n",
       "       ['The film, just over a minute long, is composed of two shots. In the first, a girl sits at the base of an altar or tomb, her face hidden from the camera. At the center of the altar, a viewing portal displays the portraits of three U.S. Presidents—Abraham Lincoln, James A. Garfield, and William McKinley—each victims of assassination.\\r\\nIn the second shot, which runs just over eight seconds long, an assassin kneels feet of Lady Justice.',\n",
       "        'Rewrite this essay but do it using the writing style of William Shakespeare',\n",
       "        \"Sure, here's the rewritten essay using the writing style of William Shakespeare:\\n\\nO maiden fair, thy presence doth illuminate the tomb's lair,\\nA canvas etched with shadows dancing in an hour's glare.\\nA single frame, a testament to the fleeting breath of life,\\nA portrait etched upon the altar's strife.\\n\\nThere sits a damsel's form upon the tomb's cold stone,\\nWith hidden visage and a mystery yet unknown.\\nAt the\"],\n",
       "       ['Lasting just 61 seconds and consisting of two shots, the first shot is set in a wood during winter. The actor representing then vice-president Theodore Roosevelt enthusiastically hurries down a hillside towards a tree in the foreground. He falls once, but rights himself and cocks his rifle. Two other men, bearing signs reading \"His Photographer\" and \"His Press Agent\" respectively, follow him into the shot; the photographer sets up his camera. \"Teddy\" aims his rifle upward at the tree and fells what appears to be a common house cat, which he then proceeds to stab. \"Teddy\" holds his prize aloft, and the press agent takes notes. The second shot is taken in a slightly different part of the wood, on a path. \"Teddy\" rides the path on his horse towards the camera and out to the left of the shot, followed closely by the press agent and photographer, still dutifully holding their signs.',\n",
       "        'Make this more detailed.',\n",
       "        \"Lasting just 61 seconds and consisting of two shots, the first shot unfolds in a picturesque woodland during the frigid grip of winter's bite. The vibrant backdrop reveals a hillside adorned with snow, casting long shadows across the ground. In the forefront, a burly actor portraying Vice President Theodore Roosevelt squares his shoulders and hurries down the incline with unmatched vigor. Despite a stumble that sends him tumbling to the ground, Roosevelt quickly recovers, cocking his trusty rifle and summoning a commanding presence.\"],\n",
       "       [\"The earliest known adaptation of the classic fairytale, this films shows Jack trading his cow for the beans, his mother forcing him to drop them in the front yard, and beig forced upstairs. As he sleeps, Jack is visited by a fairy who shows him glimpses of what will await him when he ascends the bean stalk. In this version, Jack is the son of a deposed king. When Jack wakes up, he finds the beanstalk has grown and he climbs to the top where he enters the giant's home. The giant finds Jack, who narrowly escapes. The giant chases Jack down the bean stalk, but Jack is able to cut it down before the giant can get to safety. He falls and is killed as Jack celebrates. The fairy then reveals that Jack may return home as a prince.\",\n",
       "        'Make this a haiku.',\n",
       "        \"Sure, here's a haiku:\\n\\nA beanstalk tall,\\nJack climbs to the giant's home,\\nA tale unfolds.\"],\n",
       "       ['Alice follows a large white rabbit down a \"Rabbit-hole\". She finds a tiny door. When she finds a bottle labeled \"Drink me\", she does, and shrinks, but not enough to pass through the door. She then eats something labeled \"Eat me\" and grows larger. She finds a fan when enables her to shrink enough to get into the \"Garden\" and try to get a \"Dog\" to play with her. She enters the \"White Rabbit\\'s tiny House,\" but suddenly resumes her normal size. In order to get out, she has to use the \"magic fan.\"\\r\\nShe enters a kitchen, in which there is a cook and a woman holding a baby. She persuades the woman to give her the child and takes the infant outside after the cook starts throwing things around. The baby then turns into a pig and squirms out of her grip. \"The Duchess\\'s Cheshire Cat\" appears and disappears a couple of times to Alice and directs her to the Mad Hatter\\'s \"Mad Tea-Party.\" After a while, she leaves.\\r\\nThe Queen invites Alice to join the \"ROYAL PROCESSION\": a parade of marching playing cards and others headed by the White Rabbit. When Alice \"unintentionally offends the Queen\", the latter summons the \"Executioner\". Alice \"boxes the ears\", then flees when all the playing cards come for her. Then she wakes up and realizes it was all a dream.',\n",
       "        'Make this shorter.',\n",
       "        'Sure, here\\'s a shorter version:\\n\\nAlice follows a large white rabbit down a rabbit hole and finds a tiny door and bottle labels \"Drink me\" and \"Eat me\". After drinking the bottle and shrinking, she eats the food and grows larger. She finds a fan that enables her to shrink and enter the garden and play with a dog. After a while, she enters the \"White Rabbit\\'s tiny House\" but suddenly resumes her normal size and uses the fan to get out.'],\n",
       "       [\"The film opens with two bandits breaking into a railroad telegraph office, where they force the operator at gunpoint to have a train stopped and to transmit orders for the engineer to fill the locomotive's tender at the station's water tank. They then knock the operator out and tie him up. As the train stops it is boarded by the bandits\\u200d—\\u200cnow four. Two bandits enter an express car, kill a messenger and open a box of valuables with dynamite; the others kill the fireman and force the engineer to halt the train and disconnect the locomotive. The bandits then force the passengers off the train and rifle them for their belongings. One passenger tries to escape but is instantly shot down. Carrying their loot, the bandits escape in the locomotive, later stopping in a valley where their horses had been left.\\r\\nMeanwhile, back in the telegraph office, the bound operator awakens, but he collapses again. His daughter arrives bringing him his meal and cuts him free, and restores him to consciousness by dousing him with water.\\r\\nThere is some comic relief at a dance hall, where an Eastern stranger is forced to dance while the locals fire at his feet. The door suddenly opens and the telegraph operator rushes in to tell them of the robbery. The men quickly form a posse, which overtakes the bandits, and in a final shootout kills them all and recovers the stolen mail.\",\n",
       "        'Rewrite this essay but do it using the writing style of Tupac Shakur',\n",
       "        'Sure, here\\'s the rewritten essay using the writing style of Tupac Shakur:\\n\\n\"The flick kicks off with two thugs bustin\\' into a train office, puttin\\' the operator on a quick blade to stop a train and jam the engineer\\'s whistle with orders to fill the tender at the station\\'s water tank. They tie the operator up and knock him out cold. When the train stops, it\\'s swarming with the thugs – four strong, two of em hop'],\n",
       "       ['The film is about a family who move to the suburbs, hoping for a quiet life. Things start to go wrong, and the wife gets violent and starts throwing crockery, leading to her arrest.',\n",
       "        'Make this rhyme.',\n",
       "        \"The family's move to the suburbs' bliss,\\nA dream of peace and a tranquil kiss.\\nBut fate's cruel and plays a game,\\nThe wife's anger spirals out of frame.\\nCrockery flies, a violent start,\\nThe arrest comes close to her broken heart.\"],\n",
       "       ['The opening scene shows the interior of the robbers\\' den. The walls are decorated with the portraits of notorious criminals and pictures illustrating the exploits of famous bandits. Some of the gang are lounging about, while others are reading novels and illustrated papers. Although of youthful appearance, each is dressed like a typical Western desperado. The \"Bandit Queen,\" leading a blindfolded new recruit, now enters the room. He is led to the center of the room, raises his right hand and is solemnly sworn in. When the bandage is removed from his eyes he finds himself looking into the muzzles of a dozen or more 45\\'s. The gang then congratulates the new member and heartily shake his hand. The \"Bandit Queen\" who is evidently the leader of the gang, now calls for volunteers to hold up a train. All respond, but she picks out seven for the job who immediately leave the cabin.\\r\\nThe next scene shows the gang breaking into a barn. They steal ponies and ride away. Upon reaching the place agreed upon they picket their ponies and leaving them in charge of a trusted member proceed to a wild mountain spot in a bend of the railroad, where the road runs over a steep embankment. The spot is an ideal one for holding up a train. Cross ties are now placed on the railroad track and the gang hide in some bushes close by and wait for the train. The train soon approaches and is brought to a stop. The engineer leaves his engine and proceeds to remove the obstruction on the track. While he is bending over one of the gang sneaks up behind them and hits him on the head with an axe, and knocks him senseless down the embankment, while the gang surround the train and hold up the passengers. After securing all the \"valuables,\" consisting principally of candy and dolls, the robbers uncouple the engine and one car and make their escape just in time to avoid a posse of police who appear on the scene. Further up the road they abandon the engine and car, take to the woods and soon reach their ponies.\\r\\nIn the meantime the police have learned the particulars of the hold-up from the frightened passengers and have started up the railroad tracks after the fleeing robbers. The robbers are next seen riding up the bed of a shallow stream and finally reach their den, where the remainder of the gang have been waiting for them. Believing they have successfully eluded their pursuers, they proceed to divide the \"plunder.\" The police, however, have struck the right trail and are in close pursuit. While the \"plunder\" is being divided a sentry gives the alarm and the entire gang, abandoning everything, rush from the cabin barely in time to escape capture. The police make a hurried search and again start in pursuit. The robbers are so hard pressed that they are unable to reach their ponies, and are obliged to take chances on foot. The police now get in sight of the fleeing robbers and a lively chase follows through tall weeds, over a bridge and up a steep hill. Reaching a pond the police are close on their heels. The foremost robbers jump in clothes and all and strike out for the opposite bank. Two hesitate and are captured. Boats are secured and after an exciting tussle the entire gang is rounded up. In the mix up one of the police is dragged overboard. The final scene shows the entire gang of bedraggled and crestfallen robbers tied together with a rope and being led away by the police. Two of the police are loaded down with revolvers, knives and cartridge belts, and resemble walking aresenals. As a fitting climax a confederate steals out of the woods, cuts the rope and gallantly rescues the \"Bandit Queen.\"',\n",
       "        'Make this longer.',\n",
       "        'Sure, here\\'s a longer version of the text:\\n\\nThe opening scene showcases the interior of the robbers\\' den, a testament to their exploits. The walls proudly display portraits of notorious criminals and pictures illustrating tales of famous bandits. Some of the gang lounge about, others delve into novels and illustrated papers, each exuding the aura of a typical Western desperado. The \"Bandit Queen,\" a formidable leader, enters the room with a blindfolded new recruit at her side. He\\'s led'],\n",
       "       [\"Scenes are introduced using lines of the poem.[2] Santa Claus, played by Harry Eytinge, is shown feeding real reindeer[4] and finishes his work in the workshop. Meanwhile, the children of a city household hang their stockings and go to bed, but unable to sleep they engage in a pillow fight. Santa Claus leaves his home on a sleigh with his reindeer. He enters the children's house through the chimney, and leaves the presents. The children come down the stairs and enjoy their presents.\",\n",
       "        'Make this rhyme.',\n",
       "        \"Sure, here's the rhyme:\\n\\nScenes dance with lines of rhyme,\\nSanta's visit, a wondrous chime.\\nHe feeds reindeer, a festive sight,\\nAnd finishes his work, day and night.\\n\\nThe stockings hang, a twinkling dream,\\nAs the children slumber, asleep at the seam.\\nBut their thoughts drift to the day's delight,\\nA pillow fight, a restless night.\\n\\nSanta takes flight, with a mighty roar,\\nA sleigh full\"]],\n",
       "      dtype=object)"
      ]
     },
     "execution_count": 8,
     "metadata": {},
     "output_type": "execute_result"
    }
   ],
   "source": [
    "rewrite_data_df = pd.DataFrame(rewrite_data)\n",
    "rewrite_data_df[:20].values"
   ]
  },
  {
   "cell_type": "code",
   "execution_count": 9,
   "id": "b96b91e5",
   "metadata": {
    "execution": {
     "iopub.execute_input": "2024-03-07T23:33:50.589695Z",
     "iopub.status.busy": "2024-03-07T23:33:50.588958Z",
     "iopub.status.idle": "2024-03-07T23:33:50.610849Z",
     "shell.execute_reply": "2024-03-07T23:33:50.609821Z"
    },
    "papermill": {
     "duration": 0.031765,
     "end_time": "2024-03-07T23:33:50.613523",
     "exception": false,
     "start_time": "2024-03-07T23:33:50.581758",
     "status": "completed"
    },
    "tags": []
   },
   "outputs": [],
   "source": [
    "rewrite_data_df.to_csv('prompts_and_rewrites.csv', index=False)"
   ]
  }
 ],
 "metadata": {
  "kaggle": {
   "accelerator": "nvidiaTeslaT4",
   "dataSources": [
    {
     "datasetId": 9,
     "sourceId": 7779974,
     "sourceType": "datasetVersion"
    },
    {
     "datasetId": 64890,
     "sourceId": 127736,
     "sourceType": "datasetVersion"
    },
    {
     "isSourceIdPinned": true,
     "modelInstanceId": 8749,
     "sourceId": 11359,
     "sourceType": "modelInstanceVersion"
    }
   ],
   "dockerImageVersionId": 30665,
   "isGpuEnabled": true,
   "isInternetEnabled": true,
   "language": "python",
   "sourceType": "notebook"
  },
  "kernelspec": {
   "display_name": "Python 3",
   "language": "python",
   "name": "python3"
  },
  "language_info": {
   "codemirror_mode": {
    "name": "ipython",
    "version": 3
   },
   "file_extension": ".py",
   "mimetype": "text/x-python",
   "name": "python",
   "nbconvert_exporter": "python",
   "pygments_lexer": "ipython3",
   "version": "3.10.13"
  },
  "papermill": {
   "default_parameters": {},
   "duration": 1003.69045,
   "end_time": "2024-03-07T23:33:54.297438",
   "environment_variables": {},
   "exception": null,
   "input_path": "__notebook__.ipynb",
   "output_path": "__notebook__.ipynb",
   "parameters": {},
   "start_time": "2024-03-07T23:17:10.606988",
   "version": "2.5.0"
  }
 },
 "nbformat": 4,
 "nbformat_minor": 5
}
