{
 "cells": [
  {
   "cell_type": "code",
   "execution_count": null,
   "id": "f1e64fcd",
   "metadata": {
    "execution": {
     "iopub.execute_input": "2024-03-07T23:17:15.030542Z",
     "iopub.status.busy": "2024-03-07T23:17:15.030136Z",
     "iopub.status.idle": "2024-03-07T23:17:46.141140Z",
     "shell.execute_reply": "2024-03-07T23:17:46.140113Z"
    },
    "papermill": {
     "duration": 31.123269,
     "end_time": "2024-03-07T23:17:46.147334",
     "exception": false,
     "start_time": "2024-03-07T23:17:15.024065",
     "status": "completed"
    },
    "tags": []
   },
   "outputs": [],
   "source": [
    "import pandas as pd\n",
    "import re\n",
    "import copy"
   ]
  },
  {
   "cell_type": "code",
   "outputs": [],
   "source": [
    "forum_messages_df = pd.read_csv('../data/ForumMessages.csv')\n",
    "forum_messages_df.head()\n",
    "#print(forum_messages_df['Message'][:2][0])\n",
    "#print(forum_messages_df['Message'])"
   ],
   "metadata": {
    "collapsed": false
   },
   "id": "85055b660a07865a",
   "execution_count": null
  },
  {
   "cell_type": "code",
   "outputs": [],
   "source": [
    "wikipedia_movie_plots_df = pd.read_csv('../data/wiki_movie_plots_deduped.csv')\n",
    "wikipedia_movie_plots_df.head()\n",
    "#print(wikipedia_movie_plots_df['Plot'])"
   ],
   "metadata": {
    "collapsed": false
   },
   "id": "3845682a8f5a67de",
   "execution_count": null
  },
  {
   "cell_type": "code",
   "outputs": [],
   "source": [
    "# Function to remove HTML tags from a string\n",
    "def remove_html_tags(text):\n",
    "    if isinstance(text, str):\n",
    "        # Regular expression for finding HTML tags\n",
    "        clean = re.compile('<.*?>')\n",
    "        # Replacing the tags with an empty string\n",
    "        return re.sub(clean, '', text)\n",
    "    else:\n",
    "        return ''\n",
    "\n",
    "forum_messages_df['Message'] = forum_messages_df['Message'].apply(lambda x: remove_html_tags(x))\n",
    "\n",
    "forum_messages_df.head()"
   ],
   "metadata": {
    "collapsed": false
   },
   "id": "655c5992ea79e45e",
   "execution_count": null
  },
  {
   "cell_type": "code",
   "execution_count": null,
   "id": "8c003906",
   "metadata": {
    "execution": {
     "iopub.execute_input": "2024-03-07T23:17:46.179924Z",
     "iopub.status.busy": "2024-03-07T23:17:46.179561Z",
     "iopub.status.idle": "2024-03-07T23:17:46.189070Z",
     "shell.execute_reply": "2024-03-07T23:17:46.188087Z"
    },
    "papermill": {
     "duration": 0.017491,
     "end_time": "2024-03-07T23:17:46.191420",
     "exception": false,
     "start_time": "2024-03-07T23:17:46.173929",
     "status": "completed"
    },
    "tags": []
   },
   "outputs": [],
   "source": [
    "original_texts = pd.concat([forum_messages_df['Message'],wikipedia_movie_plots_df['Plot']], ignore_index=True)\n",
    "original_texts_wiki_plot = copy.deepcopy(wikipedia_movie_plots_df['Plot'])\n",
    "original_texts_wiki_plot"
   ]
  },
  {
   "cell_type": "code",
   "execution_count": null,
   "id": "f8635b31",
   "metadata": {
    "execution": {
     "iopub.execute_input": "2024-03-07T23:17:46.203296Z",
     "iopub.status.busy": "2024-03-07T23:17:46.202385Z",
     "iopub.status.idle": "2024-03-07T23:17:46.208325Z",
     "shell.execute_reply": "2024-03-07T23:17:46.207340Z"
    },
    "papermill": {
     "duration": 0.014515,
     "end_time": "2024-03-07T23:17:46.210589",
     "exception": false,
     "start_time": "2024-03-07T23:17:46.196074",
     "status": "completed"
    },
    "tags": []
   },
   "outputs": [],
   "source": [
    "rewrite_prompts = [\n",
    "    'Explain this to me like I\\'m five.',\n",
    "    'Convert this into a sea shanty.',\n",
    "    'Make this rhyme.',\n",
    "    'Make this shorter.',\n",
    "    'Make this longer.',\n",
    "    'Make this more detailed.',\n",
    "    'Rewrite this essay but do it using the writing style of Dr. Seuss',\n",
    "    'Rewrite this essay but do it using the writing style of William Shakespeare',\n",
    "    'Rewrite this essay but do it using the writing style of Tupac Shakur',\n",
    "    'Make this a haiku.',\n",
    "    'Make this into a poem.',\n",
    "    'Turn this into a sonnet.',\n",
    "    'Summarize this.',\n",
    "    'Give me the highlights.',\n",
    "    'Rewrite this essay using the writing style of Jane Austen.',\n",
    "    'Rewrite this essay with the terse, straightforward prose and understated tone characteristic of Ernest Hemingway\\'s works, focusing on clarity and the power of simple statements.',\n",
    "    'Transform this piece to reflect Virginia Woolf\\'s stream-of-consciousness style, focusing on the psychological depth and introspective nature of her characters.',\n",
    "    'Rephrase this essay using Mark Twain\\'s distinctive humor and satirical edge, capturing his unique perspective on American society and culture.',\n",
    "    'Revise this text to mirror J.K. Rowling\\'s engaging narrative style, blending magical elements with a touch of mystery and a strong sense of moral integrity.',\n",
    "    'Recreate this content with George Orwell\\'s clear, direct language and his propensity for exploring themes of social injustice and authoritarianism.',\n",
    "    'Convert this text into a form that evokes Edgar Allan Poe\\'s gothic style, focusing on the macabre, the mysterious, and the psychological depth of his narratives.'\n",
    "]"
   ]
  },
  {
   "cell_type": "code",
   "execution_count": null,
   "id": "0be3613d",
   "metadata": {
    "execution": {
     "iopub.execute_input": "2024-03-07T23:17:46.221182Z",
     "iopub.status.busy": "2024-03-07T23:17:46.220812Z",
     "iopub.status.idle": "2024-03-07T23:18:09.259678Z",
     "shell.execute_reply": "2024-03-07T23:18:09.258364Z"
    },
    "papermill": {
     "duration": 23.047091,
     "end_time": "2024-03-07T23:18:09.262291",
     "exception": false,
     "start_time": "2024-03-07T23:17:46.215200",
     "status": "completed"
    },
    "tags": []
   },
   "outputs": [],
   "source": [
    "!pip install -q -U immutabledict sentencepiece\n",
    "!git clone https://github.com/google/gemma_pytorch.git"
   ]
  },
  {
   "cell_type": "code",
   "execution_count": null,
   "id": "4fdeade0",
   "metadata": {
    "execution": {
     "iopub.execute_input": "2024-03-07T23:18:09.276104Z",
     "iopub.status.busy": "2024-03-07T23:18:09.275285Z",
     "iopub.status.idle": "2024-03-07T23:19:24.804292Z",
     "shell.execute_reply": "2024-03-07T23:19:24.803199Z"
    },
    "papermill": {
     "duration": 75.539425,
     "end_time": "2024-03-07T23:19:24.807565",
     "exception": false,
     "start_time": "2024-03-07T23:18:09.268140",
     "status": "completed"
    },
    "tags": []
   },
   "outputs": [],
   "source": [
    "import sys\n",
    "sys.path.append(\"gemma_pytorch\")\n",
    "from gemma_pytorch.gemma.config import GemmaConfig, get_config_for_7b, get_config_for_2b\n",
    "from gemma_pytorch.gemma.model import GemmaForCausalLM\n",
    "from gemma_pytorch.gemma.tokenizer import Tokenizer\n",
    "import contextlib\n",
    "import os\n",
    "import torch\n",
    "\n",
    "VARIANT = \"7b-it-quant\"\n",
    "MACHINE_TYPE = \"cuda\"\n",
    "weights_dir = '../models/gemma-7b-it'\n",
    "\n",
    "@contextlib.contextmanager\n",
    "def _set_default_tensor_type(dtype: torch.dtype):\n",
    "  \"\"\"Sets the default torch dtype to the given dtype.\"\"\"\n",
    "  torch.set_default_dtype(dtype)\n",
    "  yield\n",
    "  torch.set_default_dtype(torch.float)\n",
    "    \n",
    "model_config = get_config_for_2b() if \"2b\" in VARIANT else get_config_for_7b()\n",
    "model_config.tokenizer = os.path.join(weights_dir, \"tokenizer.model\")\n",
    "model_config.quant = \"quant\" in VARIANT\n",
    "\n",
    "device = torch.device(MACHINE_TYPE)\n",
    "with _set_default_tensor_type(model_config.get_dtype()):\n",
    "  model = GemmaForCausalLM(model_config)\n",
    "  ckpt_path = os.path.join(weights_dir, f'gemma-{VARIANT}.ckpt')\n",
    "  model.load_weights(ckpt_path)\n",
    "  model = model.to(device).eval()"
   ]
  },
  {
   "cell_type": "code",
   "execution_count": null,
   "id": "ae764fac",
   "metadata": {
    "execution": {
     "iopub.execute_input": "2024-03-07T23:19:24.821903Z",
     "iopub.status.busy": "2024-03-07T23:19:24.820915Z",
     "iopub.status.idle": "2024-03-07T23:33:50.547731Z",
     "shell.execute_reply": "2024-03-07T23:33:50.546451Z"
    },
    "papermill": {
     "duration": 865.736766,
     "end_time": "2024-03-07T23:33:50.550514",
     "exception": false,
     "start_time": "2024-03-07T23:19:24.813748",
     "status": "completed"
    },
    "tags": []
   },
   "outputs": [],
   "source": [
    "from tqdm import tqdm\n",
    "import random\n",
    "random.seed(0)\n",
    "USER_CHAT_TEMPLATE = \"<start_of_turn>user\\n{prompt}<end_of_turn>\\n<start_of_turn>model\\n\"\n",
    "\n",
    "rewrite_data = []\n",
    "\n",
    "for original_text in tqdm(original_texts_wiki_plot):\n",
    "    rewrite_prompt = random.choice(rewrite_prompts)\n",
    "    prompt = f'{rewrite_prompt}\\n{original_text}'\n",
    "    rewritten_text = model.generate(\n",
    "        USER_CHAT_TEMPLATE.format(prompt=prompt),\n",
    "        device=device,\n",
    "        output_len=100,\n",
    "    )\n",
    "    rewrite_data.append({\n",
    "        'original_text': original_text,\n",
    "        'rewrite_prompt': rewrite_prompt,\n",
    "        'rewritten_text': rewritten_text,\n",
    "    })"
   ]
  },
  {
   "cell_type": "code",
   "execution_count": null,
   "id": "86f72386",
   "metadata": {
    "execution": {
     "iopub.execute_input": "2024-03-07T23:33:50.564132Z",
     "iopub.status.busy": "2024-03-07T23:33:50.563184Z",
     "iopub.status.idle": "2024-03-07T23:33:50.573257Z",
     "shell.execute_reply": "2024-03-07T23:33:50.572253Z"
    },
    "papermill": {
     "duration": 0.019152,
     "end_time": "2024-03-07T23:33:50.575598",
     "exception": false,
     "start_time": "2024-03-07T23:33:50.556446",
     "status": "completed"
    },
    "tags": []
   },
   "outputs": [],
   "source": [
    "rewrite_data_df = pd.DataFrame(rewrite_data)\n",
    "#rewrite_data_df[:20].values"
   ]
  },
  {
   "cell_type": "code",
   "execution_count": null,
   "id": "b96b91e5",
   "metadata": {
    "execution": {
     "iopub.execute_input": "2024-03-07T23:33:50.589695Z",
     "iopub.status.busy": "2024-03-07T23:33:50.588958Z",
     "iopub.status.idle": "2024-03-07T23:33:50.610849Z",
     "shell.execute_reply": "2024-03-07T23:33:50.609821Z"
    },
    "papermill": {
     "duration": 0.031765,
     "end_time": "2024-03-07T23:33:50.613523",
     "exception": false,
     "start_time": "2024-03-07T23:33:50.581758",
     "status": "completed"
    },
    "tags": []
   },
   "outputs": [],
   "source": [
    "rewrite_data_df.to_csv('prompts_and_rewrites.csv', index=False)"
   ]
  },
  {
   "cell_type": "code",
   "outputs": [],
   "source": [],
   "metadata": {
    "collapsed": false
   },
   "id": "3c76cc0f9f3a9abe"
  }
 ],
 "metadata": {
  "kaggle": {
   "accelerator": "nvidiaTeslaT4",
   "dataSources": [
    {
     "datasetId": 9,
     "sourceId": 7779974,
     "sourceType": "datasetVersion"
    },
    {
     "datasetId": 64890,
     "sourceId": 127736,
     "sourceType": "datasetVersion"
    },
    {
     "isSourceIdPinned": true,
     "modelInstanceId": 8749,
     "sourceId": 11359,
     "sourceType": "modelInstanceVersion"
    }
   ],
   "dockerImageVersionId": 30665,
   "isGpuEnabled": true,
   "isInternetEnabled": true,
   "language": "python",
   "sourceType": "notebook"
  },
  "kernelspec": {
   "display_name": "Python 3",
   "language": "python",
   "name": "python3"
  },
  "language_info": {
   "codemirror_mode": {
    "name": "ipython",
    "version": 3
   },
   "file_extension": ".py",
   "mimetype": "text/x-python",
   "name": "python",
   "nbconvert_exporter": "python",
   "pygments_lexer": "ipython3",
   "version": "3.10.13"
  },
  "papermill": {
   "default_parameters": {},
   "duration": 1003.69045,
   "end_time": "2024-03-07T23:33:54.297438",
   "environment_variables": {},
   "exception": null,
   "input_path": "__notebook__.ipynb",
   "output_path": "__notebook__.ipynb",
   "parameters": {},
   "start_time": "2024-03-07T23:17:10.606988",
   "version": "2.5.0"
  }
 },
 "nbformat": 4,
 "nbformat_minor": 5
}
