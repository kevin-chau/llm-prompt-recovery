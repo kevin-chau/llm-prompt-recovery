{
 "cells": [
  {
   "cell_type": "code",
   "execution_count": 3,
   "id": "f1e64fcd",
   "metadata": {
    "execution": {
     "iopub.execute_input": "2024-03-07T23:17:15.030542Z",
     "iopub.status.busy": "2024-03-07T23:17:15.030136Z",
     "iopub.status.idle": "2024-03-07T23:17:46.141140Z",
     "shell.execute_reply": "2024-03-07T23:17:46.140113Z"
    },
    "papermill": {
     "duration": 31.123269,
     "end_time": "2024-03-07T23:17:46.147334",
     "exception": false,
     "start_time": "2024-03-07T23:17:15.024065",
     "status": "completed"
    },
    "tags": [],
    "ExecuteTime": {
     "end_time": "2024-03-21T00:26:02.981126Z",
     "start_time": "2024-03-21T00:26:02.440894Z"
    }
   },
   "outputs": [],
   "source": [
    "import pandas as pd\n",
    "import re\n",
    "import copy"
   ]
  },
  {
   "cell_type": "code",
   "outputs": [
    {
     "data": {
      "text/plain": "       Id  ForumTopicId  PostUserId             PostDate  \\\n0  667078        115913     1788308  11/06/2019 19:40:03   \n1  667077        115913     1788308  11/06/2019 19:38:55   \n2  667076         74968     3961461  11/06/2019 19:38:19   \n3  667075        115817     1666986  11/06/2019 19:37:59   \n4  667074        113468     1073620  11/06/2019 19:34:36   \n\n   ReplyToForumMessageId                                            Message  \\\n0               666530.0  <p><a href=\"/manojprabhaakr\">@manojprabhaakr</...   \n1               666668.0  <p><a href=\"/cdeotte\">@cdeotte</a> </p>\\n\\n<p>...   \n2                    NaN  <p>A very detailed and helpful notebook, \\nTha...   \n3                    NaN  <p>You don't say. You might just got your wish...   \n4               666591.0  <p>Hi <a href=\"/mobassir\">@mobassir</a>  If I ...   \n\n   Medal MedalAwardDate  \n0    NaN            NaN  \n1    3.0     11/06/2019  \n2    NaN            NaN  \n3    NaN            NaN  \n4    3.0     11/07/2019  ",
      "text/html": "<div>\n<style scoped>\n    .dataframe tbody tr th:only-of-type {\n        vertical-align: middle;\n    }\n\n    .dataframe tbody tr th {\n        vertical-align: top;\n    }\n\n    .dataframe thead th {\n        text-align: right;\n    }\n</style>\n<table border=\"1\" class=\"dataframe\">\n  <thead>\n    <tr style=\"text-align: right;\">\n      <th></th>\n      <th>Id</th>\n      <th>ForumTopicId</th>\n      <th>PostUserId</th>\n      <th>PostDate</th>\n      <th>ReplyToForumMessageId</th>\n      <th>Message</th>\n      <th>Medal</th>\n      <th>MedalAwardDate</th>\n    </tr>\n  </thead>\n  <tbody>\n    <tr>\n      <th>0</th>\n      <td>667078</td>\n      <td>115913</td>\n      <td>1788308</td>\n      <td>11/06/2019 19:40:03</td>\n      <td>666530.0</td>\n      <td>&lt;p&gt;&lt;a href=\"/manojprabhaakr\"&gt;@manojprabhaakr&lt;/...</td>\n      <td>NaN</td>\n      <td>NaN</td>\n    </tr>\n    <tr>\n      <th>1</th>\n      <td>667077</td>\n      <td>115913</td>\n      <td>1788308</td>\n      <td>11/06/2019 19:38:55</td>\n      <td>666668.0</td>\n      <td>&lt;p&gt;&lt;a href=\"/cdeotte\"&gt;@cdeotte&lt;/a&gt; &lt;/p&gt;\\n\\n&lt;p&gt;...</td>\n      <td>3.0</td>\n      <td>11/06/2019</td>\n    </tr>\n    <tr>\n      <th>2</th>\n      <td>667076</td>\n      <td>74968</td>\n      <td>3961461</td>\n      <td>11/06/2019 19:38:19</td>\n      <td>NaN</td>\n      <td>&lt;p&gt;A very detailed and helpful notebook, \\nTha...</td>\n      <td>NaN</td>\n      <td>NaN</td>\n    </tr>\n    <tr>\n      <th>3</th>\n      <td>667075</td>\n      <td>115817</td>\n      <td>1666986</td>\n      <td>11/06/2019 19:37:59</td>\n      <td>NaN</td>\n      <td>&lt;p&gt;You don't say. You might just got your wish...</td>\n      <td>NaN</td>\n      <td>NaN</td>\n    </tr>\n    <tr>\n      <th>4</th>\n      <td>667074</td>\n      <td>113468</td>\n      <td>1073620</td>\n      <td>11/06/2019 19:34:36</td>\n      <td>666591.0</td>\n      <td>&lt;p&gt;Hi &lt;a href=\"/mobassir\"&gt;@mobassir&lt;/a&gt;  If I ...</td>\n      <td>3.0</td>\n      <td>11/07/2019</td>\n    </tr>\n  </tbody>\n</table>\n</div>"
     },
     "execution_count": 4,
     "metadata": {},
     "output_type": "execute_result"
    }
   ],
   "source": [
    "forum_messages_df = pd.read_csv('../data/ForumMessages.csv')\n",
    "forum_messages_df.head()\n",
    "#print(forum_messages_df['Message'][:2][0])\n",
    "#print(forum_messages_df['Message'])"
   ],
   "metadata": {
    "collapsed": false,
    "ExecuteTime": {
     "end_time": "2024-03-21T00:26:22.120800Z",
     "start_time": "2024-03-21T00:26:02.982644Z"
    }
   },
   "id": "85055b660a07865a",
   "execution_count": 4
  },
  {
   "cell_type": "code",
   "outputs": [
    {
     "data": {
      "text/plain": "   Release Year                             Title Origin/Ethnicity  \\\n0          1901            Kansas Saloon Smashers         American   \n1          1901     Love by the Light of the Moon         American   \n2          1901           The Martyred Presidents         American   \n3          1901  Terrible Teddy, the Grizzly King         American   \n4          1902            Jack and the Beanstalk         American   \n\n                             Director Cast    Genre  \\\n0                             Unknown  NaN  unknown   \n1                             Unknown  NaN  unknown   \n2                             Unknown  NaN  unknown   \n3                             Unknown  NaN  unknown   \n4  George S. Fleming, Edwin S. Porter  NaN  unknown   \n\n                                           Wiki Page  \\\n0  https://en.wikipedia.org/wiki/Kansas_Saloon_Sm...   \n1  https://en.wikipedia.org/wiki/Love_by_the_Ligh...   \n2  https://en.wikipedia.org/wiki/The_Martyred_Pre...   \n3  https://en.wikipedia.org/wiki/Terrible_Teddy,_...   \n4  https://en.wikipedia.org/wiki/Jack_and_the_Bea...   \n\n                                                Plot  \n0  A bartender is working at a saloon, serving dr...  \n1  The moon, painted with a smiling face hangs ov...  \n2  The film, just over a minute long, is composed...  \n3  Lasting just 61 seconds and consisting of two ...  \n4  The earliest known adaptation of the classic f...  ",
      "text/html": "<div>\n<style scoped>\n    .dataframe tbody tr th:only-of-type {\n        vertical-align: middle;\n    }\n\n    .dataframe tbody tr th {\n        vertical-align: top;\n    }\n\n    .dataframe thead th {\n        text-align: right;\n    }\n</style>\n<table border=\"1\" class=\"dataframe\">\n  <thead>\n    <tr style=\"text-align: right;\">\n      <th></th>\n      <th>Release Year</th>\n      <th>Title</th>\n      <th>Origin/Ethnicity</th>\n      <th>Director</th>\n      <th>Cast</th>\n      <th>Genre</th>\n      <th>Wiki Page</th>\n      <th>Plot</th>\n    </tr>\n  </thead>\n  <tbody>\n    <tr>\n      <th>0</th>\n      <td>1901</td>\n      <td>Kansas Saloon Smashers</td>\n      <td>American</td>\n      <td>Unknown</td>\n      <td>NaN</td>\n      <td>unknown</td>\n      <td>https://en.wikipedia.org/wiki/Kansas_Saloon_Sm...</td>\n      <td>A bartender is working at a saloon, serving dr...</td>\n    </tr>\n    <tr>\n      <th>1</th>\n      <td>1901</td>\n      <td>Love by the Light of the Moon</td>\n      <td>American</td>\n      <td>Unknown</td>\n      <td>NaN</td>\n      <td>unknown</td>\n      <td>https://en.wikipedia.org/wiki/Love_by_the_Ligh...</td>\n      <td>The moon, painted with a smiling face hangs ov...</td>\n    </tr>\n    <tr>\n      <th>2</th>\n      <td>1901</td>\n      <td>The Martyred Presidents</td>\n      <td>American</td>\n      <td>Unknown</td>\n      <td>NaN</td>\n      <td>unknown</td>\n      <td>https://en.wikipedia.org/wiki/The_Martyred_Pre...</td>\n      <td>The film, just over a minute long, is composed...</td>\n    </tr>\n    <tr>\n      <th>3</th>\n      <td>1901</td>\n      <td>Terrible Teddy, the Grizzly King</td>\n      <td>American</td>\n      <td>Unknown</td>\n      <td>NaN</td>\n      <td>unknown</td>\n      <td>https://en.wikipedia.org/wiki/Terrible_Teddy,_...</td>\n      <td>Lasting just 61 seconds and consisting of two ...</td>\n    </tr>\n    <tr>\n      <th>4</th>\n      <td>1902</td>\n      <td>Jack and the Beanstalk</td>\n      <td>American</td>\n      <td>George S. Fleming, Edwin S. Porter</td>\n      <td>NaN</td>\n      <td>unknown</td>\n      <td>https://en.wikipedia.org/wiki/Jack_and_the_Bea...</td>\n      <td>The earliest known adaptation of the classic f...</td>\n    </tr>\n  </tbody>\n</table>\n</div>"
     },
     "execution_count": 5,
     "metadata": {},
     "output_type": "execute_result"
    }
   ],
   "source": [
    "wikipedia_movie_plots_df = pd.read_csv('../data/wiki_movie_plots_deduped.csv')\n",
    "wikipedia_movie_plots_df.head()\n",
    "#print(wikipedia_movie_plots_df['Plot'])"
   ],
   "metadata": {
    "collapsed": false,
    "ExecuteTime": {
     "end_time": "2024-03-21T00:26:23.498435Z",
     "start_time": "2024-03-21T00:26:22.122251Z"
    }
   },
   "id": "3845682a8f5a67de",
   "execution_count": 5
  },
  {
   "cell_type": "code",
   "outputs": [
    {
     "data": {
      "text/plain": "   Unnamed: 0                                               text  label\n0           0      i just feel really helpless and heavy hearted      4\n1           1  ive enjoyed being able to slouch about relax a...      0\n2           2  i gave up my internship with the dmrg and am f...      4\n3           3                         i dont know i feel so lost      0\n4           4  i am a kindergarten teacher and i am thoroughl...      4",
      "text/html": "<div>\n<style scoped>\n    .dataframe tbody tr th:only-of-type {\n        vertical-align: middle;\n    }\n\n    .dataframe tbody tr th {\n        vertical-align: top;\n    }\n\n    .dataframe thead th {\n        text-align: right;\n    }\n</style>\n<table border=\"1\" class=\"dataframe\">\n  <thead>\n    <tr style=\"text-align: right;\">\n      <th></th>\n      <th>Unnamed: 0</th>\n      <th>text</th>\n      <th>label</th>\n    </tr>\n  </thead>\n  <tbody>\n    <tr>\n      <th>0</th>\n      <td>0</td>\n      <td>i just feel really helpless and heavy hearted</td>\n      <td>4</td>\n    </tr>\n    <tr>\n      <th>1</th>\n      <td>1</td>\n      <td>ive enjoyed being able to slouch about relax a...</td>\n      <td>0</td>\n    </tr>\n    <tr>\n      <th>2</th>\n      <td>2</td>\n      <td>i gave up my internship with the dmrg and am f...</td>\n      <td>4</td>\n    </tr>\n    <tr>\n      <th>3</th>\n      <td>3</td>\n      <td>i dont know i feel so lost</td>\n      <td>0</td>\n    </tr>\n    <tr>\n      <th>4</th>\n      <td>4</td>\n      <td>i am a kindergarten teacher and i am thoroughl...</td>\n      <td>4</td>\n    </tr>\n  </tbody>\n</table>\n</div>"
     },
     "execution_count": 6,
     "metadata": {},
     "output_type": "execute_result"
    }
   ],
   "source": [
    "emotions_db_df = pd.read_csv('../data/emotions_db_text.csv')\n",
    "emotions_db_df.head()"
   ],
   "metadata": {
    "collapsed": false,
    "ExecuteTime": {
     "end_time": "2024-03-21T00:26:24.472135Z",
     "start_time": "2024-03-21T00:26:23.499966Z"
    }
   },
   "id": "352df8bf8f1e6527",
   "execution_count": 6
  },
  {
   "cell_type": "code",
   "outputs": [],
   "source": [
    "# Function to remove HTML tags from a string\n",
    "def remove_html_tags(text):\n",
    "    if isinstance(text, str):\n",
    "        # Regular expression for finding HTML tags\n",
    "        clean = re.compile('<.*?>')\n",
    "        # Replacing the tags with an empty string\n",
    "        return re.sub(clean, '', text)\n",
    "    else:\n",
    "        return ''\n",
    "\n",
    "forum_messages_df['Message'] = forum_messages_df['Message'].apply(lambda x: remove_html_tags(x))\n",
    "\n",
    "forum_messages_df.head()"
   ],
   "metadata": {
    "collapsed": false
   },
   "id": "655c5992ea79e45e",
   "execution_count": null
  },
  {
   "cell_type": "code",
   "execution_count": 7,
   "id": "8c003906",
   "metadata": {
    "execution": {
     "iopub.execute_input": "2024-03-07T23:17:46.179924Z",
     "iopub.status.busy": "2024-03-07T23:17:46.179561Z",
     "iopub.status.idle": "2024-03-07T23:17:46.189070Z",
     "shell.execute_reply": "2024-03-07T23:17:46.188087Z"
    },
    "papermill": {
     "duration": 0.017491,
     "end_time": "2024-03-07T23:17:46.191420",
     "exception": false,
     "start_time": "2024-03-07T23:17:46.173929",
     "status": "completed"
    },
    "tags": [],
    "ExecuteTime": {
     "end_time": "2024-03-21T00:26:24.532935Z",
     "start_time": "2024-03-21T00:26:24.474224Z"
    }
   },
   "outputs": [
    {
     "data": {
      "text/plain": "0        A bartender is working at a saloon, serving dr...\n1        The moon, painted with a smiling face hangs ov...\n2        The film, just over a minute long, is composed...\n3        Lasting just 61 seconds and consisting of two ...\n4        The earliest known adaptation of the classic f...\n                               ...                        \n34881    The film begins in 1919, just after World War ...\n34882    Two musicians, Salih and Gürkan, described the...\n34883    Zafer, a sailor living with his mother Döndü i...\n34884    The film centres around a young woman named Am...\n34885    The writer Orhan Şahin returns to İstanbul aft...\nName: Plot, Length: 34886, dtype: object"
     },
     "execution_count": 7,
     "metadata": {},
     "output_type": "execute_result"
    }
   ],
   "source": [
    "original_texts = pd.concat([forum_messages_df['Message'],wikipedia_movie_plots_df['Plot']], ignore_index=True)\n",
    "original_texts_wiki_plot = copy.deepcopy(wikipedia_movie_plots_df['Plot'])\n",
    "original_texts_wiki_plot"
   ]
  },
  {
   "cell_type": "code",
   "outputs": [
    {
     "data": {
      "text/plain": "0        i just feel really helpless and heavy hearted\n1    ive enjoyed being able to slouch about relax a...\n2    i gave up my internship with the dmrg and am f...\n3                           i dont know i feel so lost\n4    i am a kindergarten teacher and i am thoroughl...\nName: text, dtype: object"
     },
     "execution_count": 8,
     "metadata": {},
     "output_type": "execute_result"
    }
   ],
   "source": [
    "emotions_db_text_df = copy.deepcopy(emotions_db_df['text'])\n",
    "emotions_db_text_df[:5]"
   ],
   "metadata": {
    "collapsed": false,
    "ExecuteTime": {
     "end_time": "2024-03-21T00:26:24.548440Z",
     "start_time": "2024-03-21T00:26:24.534238Z"
    }
   },
   "id": "6139a4c1c380c225",
   "execution_count": 8
  },
  {
   "cell_type": "code",
   "execution_count": 9,
   "id": "f8635b31",
   "metadata": {
    "execution": {
     "iopub.execute_input": "2024-03-07T23:17:46.203296Z",
     "iopub.status.busy": "2024-03-07T23:17:46.202385Z",
     "iopub.status.idle": "2024-03-07T23:17:46.208325Z",
     "shell.execute_reply": "2024-03-07T23:17:46.207340Z"
    },
    "papermill": {
     "duration": 0.014515,
     "end_time": "2024-03-07T23:17:46.210589",
     "exception": false,
     "start_time": "2024-03-07T23:17:46.196074",
     "status": "completed"
    },
    "tags": [],
    "ExecuteTime": {
     "end_time": "2024-03-21T00:26:31.407377Z",
     "start_time": "2024-03-21T00:26:31.403490Z"
    }
   },
   "outputs": [],
   "source": [
    "rewrite_prompts = [\n",
    "    'Explain this to me like I\\'m five.',\n",
    "    'Convert this into a sea shanty.',\n",
    "    'Make this rhyme.',\n",
    "    'Make this shorter.',\n",
    "    'Make this longer.',\n",
    "    'Make this more detailed.',\n",
    "    'Rewrite this essay but do it using the writing style of Dr. Seuss',\n",
    "    'Rewrite this essay but do it using the writing style of William Shakespeare',\n",
    "    'Rewrite this essay but do it using the writing style of Tupac Shakur',\n",
    "    'Make this a haiku.',\n",
    "    'Make this into a poem.',\n",
    "    'Turn this into a sonnet.',\n",
    "    'Summarize this.',\n",
    "    'Give me the highlights.',\n",
    "    'Rewrite this essay using the writing style of Jane Austen.',\n",
    "    'Rewrite this essay in the writing style of Ernest Hemingway.',\n",
    "    'Transform this piece to reflect Virginia Woolf\\'s writing style.',\n",
    "    'Rephrase this essay using Mark Twain\\'s distinctive writing style',\n",
    "    'Revise this text to mirror J.K. Rowling\\'s writings.',\n",
    "    'Recreate this content with George Orwell\\'s writing.',\n",
    "    'Convert this text into a form that evokes Edgar Allan Poe\\'s gothic style, focusing on the macabre, the mysterious, and the psychological depth of his narratives.'\n",
    "]"
   ]
  },
  {
   "cell_type": "code",
   "execution_count": null,
   "id": "0be3613d",
   "metadata": {
    "execution": {
     "iopub.execute_input": "2024-03-07T23:17:46.221182Z",
     "iopub.status.busy": "2024-03-07T23:17:46.220812Z",
     "iopub.status.idle": "2024-03-07T23:18:09.259678Z",
     "shell.execute_reply": "2024-03-07T23:18:09.258364Z"
    },
    "papermill": {
     "duration": 23.047091,
     "end_time": "2024-03-07T23:18:09.262291",
     "exception": false,
     "start_time": "2024-03-07T23:17:46.215200",
     "status": "completed"
    },
    "tags": []
   },
   "outputs": [],
   "source": [
    "!pip install -q -U immutabledict sentencepiece\n",
    "!git clone https://github.com/google/gemma_pytorch.git"
   ]
  },
  {
   "cell_type": "code",
   "execution_count": 10,
   "id": "4fdeade0",
   "metadata": {
    "execution": {
     "iopub.execute_input": "2024-03-07T23:18:09.276104Z",
     "iopub.status.busy": "2024-03-07T23:18:09.275285Z",
     "iopub.status.idle": "2024-03-07T23:19:24.804292Z",
     "shell.execute_reply": "2024-03-07T23:19:24.803199Z"
    },
    "papermill": {
     "duration": 75.539425,
     "end_time": "2024-03-07T23:19:24.807565",
     "exception": false,
     "start_time": "2024-03-07T23:18:09.268140",
     "status": "completed"
    },
    "tags": [],
    "ExecuteTime": {
     "end_time": "2024-03-21T00:26:39.781891Z",
     "start_time": "2024-03-21T00:26:34.859597Z"
    }
   },
   "outputs": [],
   "source": [
    "import sys\n",
    "sys.path.append(\"gemma_pytorch\")\n",
    "from gemma_pytorch.gemma.config import GemmaConfig, get_config_for_7b, get_config_for_2b\n",
    "from gemma_pytorch.gemma.model import GemmaForCausalLM\n",
    "from gemma_pytorch.gemma.tokenizer import Tokenizer\n",
    "import contextlib\n",
    "import os\n",
    "import torch\n",
    "\n",
    "VARIANT = \"7b-it-quant\"\n",
    "MACHINE_TYPE = \"cuda\"\n",
    "weights_dir = '../models/gemma-7b-it'\n",
    "\n",
    "@contextlib.contextmanager\n",
    "def _set_default_tensor_type(dtype: torch.dtype):\n",
    "  \"\"\"Sets the default torch dtype to the given dtype.\"\"\"\n",
    "  torch.set_default_dtype(dtype)\n",
    "  yield\n",
    "  torch.set_default_dtype(torch.float)\n",
    "    \n",
    "model_config = get_config_for_2b() if \"2b\" in VARIANT else get_config_for_7b()\n",
    "model_config.tokenizer = os.path.join(weights_dir, \"tokenizer.model\")\n",
    "model_config.quant = \"quant\" in VARIANT\n",
    "\n",
    "device = torch.device(MACHINE_TYPE)\n",
    "with _set_default_tensor_type(model_config.get_dtype()):\n",
    "  model = GemmaForCausalLM(model_config)\n",
    "  ckpt_path = os.path.join(weights_dir, f'gemma-{VARIANT}.ckpt')\n",
    "  model.load_weights(ckpt_path)\n",
    "  model = model.to(device).eval()"
   ]
  },
  {
   "cell_type": "code",
   "execution_count": 11,
   "id": "ae764fac",
   "metadata": {
    "execution": {
     "iopub.execute_input": "2024-03-07T23:19:24.821903Z",
     "iopub.status.busy": "2024-03-07T23:19:24.820915Z",
     "iopub.status.idle": "2024-03-07T23:33:50.547731Z",
     "shell.execute_reply": "2024-03-07T23:33:50.546451Z"
    },
    "papermill": {
     "duration": 865.736766,
     "end_time": "2024-03-07T23:33:50.550514",
     "exception": false,
     "start_time": "2024-03-07T23:19:24.813748",
     "status": "completed"
    },
    "tags": [],
    "ExecuteTime": {
     "end_time": "2024-03-21T00:31:44.324600Z",
     "start_time": "2024-03-21T00:26:42.695696Z"
    }
   },
   "outputs": [
    {
     "name": "stderr",
     "output_type": "stream",
     "text": [
      "  0%|          | 0/45 [05:00<?, ?it/s]\n"
     ]
    },
    {
     "ename": "KeyboardInterrupt",
     "evalue": "",
     "output_type": "error",
     "traceback": [
      "\u001B[0;31m---------------------------------------------------------------------------\u001B[0m",
      "\u001B[0;31mKeyboardInterrupt\u001B[0m                         Traceback (most recent call last)",
      "Cell \u001B[0;32mIn[11], line 11\u001B[0m\n\u001B[1;32m      9\u001B[0m rewrite_prompt \u001B[38;5;241m=\u001B[39m random\u001B[38;5;241m.\u001B[39mchoice(rewrite_prompts)\n\u001B[1;32m     10\u001B[0m prompt \u001B[38;5;241m=\u001B[39m \u001B[38;5;124mf\u001B[39m\u001B[38;5;124m'\u001B[39m\u001B[38;5;132;01m{\u001B[39;00mrewrite_prompt\u001B[38;5;132;01m}\u001B[39;00m\u001B[38;5;130;01m\\n\u001B[39;00m\u001B[38;5;132;01m{\u001B[39;00moriginal_text\u001B[38;5;132;01m}\u001B[39;00m\u001B[38;5;124m'\u001B[39m\n\u001B[0;32m---> 11\u001B[0m rewritten_text \u001B[38;5;241m=\u001B[39m model\u001B[38;5;241m.\u001B[39mgenerate(\n\u001B[1;32m     12\u001B[0m     USER_CHAT_TEMPLATE\u001B[38;5;241m.\u001B[39mformat(prompt\u001B[38;5;241m=\u001B[39mprompt),\n\u001B[1;32m     13\u001B[0m     device\u001B[38;5;241m=\u001B[39mdevice,\n\u001B[1;32m     14\u001B[0m     output_len\u001B[38;5;241m=\u001B[39m\u001B[38;5;241m100\u001B[39m,\n\u001B[1;32m     15\u001B[0m )\n\u001B[1;32m     16\u001B[0m rewrite_data\u001B[38;5;241m.\u001B[39mappend({\n\u001B[1;32m     17\u001B[0m     \u001B[38;5;124m'\u001B[39m\u001B[38;5;124moriginal_text\u001B[39m\u001B[38;5;124m'\u001B[39m: original_text,\n\u001B[1;32m     18\u001B[0m     \u001B[38;5;124m'\u001B[39m\u001B[38;5;124mrewrite_prompt\u001B[39m\u001B[38;5;124m'\u001B[39m: rewrite_prompt,\n\u001B[1;32m     19\u001B[0m     \u001B[38;5;124m'\u001B[39m\u001B[38;5;124mrewritten_text\u001B[39m\u001B[38;5;124m'\u001B[39m: rewritten_text,\n\u001B[1;32m     20\u001B[0m })\n",
      "File \u001B[0;32m~/.local/share/JetBrains/Toolbox/apps/pycharm-professional/plugins/python/helpers/pydev/_pydevd_bundle/pydevd_frame.py:888\u001B[0m, in \u001B[0;36mPyDBFrame.trace_dispatch\u001B[0;34m(self, frame, event, arg)\u001B[0m\n\u001B[1;32m    885\u001B[0m             stop \u001B[38;5;241m=\u001B[39m \u001B[38;5;28;01mFalse\u001B[39;00m\n\u001B[1;32m    887\u001B[0m \u001B[38;5;28;01mif\u001B[39;00m plugin_stop:\n\u001B[0;32m--> 888\u001B[0m     stopped_on_plugin \u001B[38;5;241m=\u001B[39m plugin_manager\u001B[38;5;241m.\u001B[39mstop(main_debugger, frame, event, \u001B[38;5;28mself\u001B[39m\u001B[38;5;241m.\u001B[39m_args, stop_info, arg, step_cmd)\n\u001B[1;32m    889\u001B[0m \u001B[38;5;28;01melif\u001B[39;00m stop:\n\u001B[1;32m    890\u001B[0m     \u001B[38;5;28;01mif\u001B[39;00m is_line:\n",
      "File \u001B[0;32m~/.local/share/JetBrains/Toolbox/apps/pycharm-professional/plugins/python/helpers-pro/jupyter_debug/pydev_jupyter_plugin.py:169\u001B[0m, in \u001B[0;36mstop\u001B[0;34m(plugin, pydb, frame, event, args, stop_info, arg, step_cmd)\u001B[0m\n\u001B[1;32m    167\u001B[0m     frame \u001B[38;5;241m=\u001B[39m suspend_jupyter(main_debugger, thread, frame, step_cmd)\n\u001B[1;32m    168\u001B[0m     \u001B[38;5;28;01mif\u001B[39;00m frame:\n\u001B[0;32m--> 169\u001B[0m         main_debugger\u001B[38;5;241m.\u001B[39mdo_wait_suspend(thread, frame, event, arg)\n\u001B[1;32m    170\u001B[0m         \u001B[38;5;28;01mreturn\u001B[39;00m \u001B[38;5;28;01mTrue\u001B[39;00m\n\u001B[1;32m    171\u001B[0m \u001B[38;5;28;01mreturn\u001B[39;00m \u001B[38;5;28;01mFalse\u001B[39;00m\n",
      "File \u001B[0;32m~/.local/share/JetBrains/Toolbox/apps/pycharm-professional/plugins/python/helpers/pydev/pydevd.py:1184\u001B[0m, in \u001B[0;36mPyDB.do_wait_suspend\u001B[0;34m(self, thread, frame, event, arg, send_suspend_message, is_unhandled_exception)\u001B[0m\n\u001B[1;32m   1181\u001B[0m         from_this_thread\u001B[38;5;241m.\u001B[39mappend(frame_id)\n\u001B[1;32m   1183\u001B[0m \u001B[38;5;28;01mwith\u001B[39;00m \u001B[38;5;28mself\u001B[39m\u001B[38;5;241m.\u001B[39m_threads_suspended_single_notification\u001B[38;5;241m.\u001B[39mnotify_thread_suspended(thread_id, stop_reason):\n\u001B[0;32m-> 1184\u001B[0m     \u001B[38;5;28mself\u001B[39m\u001B[38;5;241m.\u001B[39m_do_wait_suspend(thread, frame, event, arg, suspend_type, from_this_thread)\n",
      "File \u001B[0;32m~/.local/share/JetBrains/Toolbox/apps/pycharm-professional/plugins/python/helpers/pydev/pydevd.py:1199\u001B[0m, in \u001B[0;36mPyDB._do_wait_suspend\u001B[0;34m(self, thread, frame, event, arg, suspend_type, from_this_thread)\u001B[0m\n\u001B[1;32m   1196\u001B[0m             \u001B[38;5;28mself\u001B[39m\u001B[38;5;241m.\u001B[39m_call_mpl_hook()\n\u001B[1;32m   1198\u001B[0m         \u001B[38;5;28mself\u001B[39m\u001B[38;5;241m.\u001B[39mprocess_internal_commands()\n\u001B[0;32m-> 1199\u001B[0m         time\u001B[38;5;241m.\u001B[39msleep(\u001B[38;5;241m0.01\u001B[39m)\n\u001B[1;32m   1201\u001B[0m \u001B[38;5;28mself\u001B[39m\u001B[38;5;241m.\u001B[39mcancel_async_evaluation(get_current_thread_id(thread), \u001B[38;5;28mstr\u001B[39m(\u001B[38;5;28mid\u001B[39m(frame)))\n\u001B[1;32m   1203\u001B[0m \u001B[38;5;66;03m# process any stepping instructions\u001B[39;00m\n",
      "\u001B[0;31mKeyboardInterrupt\u001B[0m: "
     ]
    }
   ],
   "source": [
    "from tqdm import tqdm\n",
    "import random\n",
    "random.seed(0)\n",
    "USER_CHAT_TEMPLATE = \"<start_of_turn>user\\n{prompt}<end_of_turn>\\n<start_of_turn>model\\n\"\n",
    "\n",
    "rewrite_data = []\n",
    "\n",
    "for original_text in tqdm(emotions_db_text_df[5:50]):\n",
    "    rewrite_prompt = random.choice(rewrite_prompts)\n",
    "    prompt = f'{rewrite_prompt}\\n{original_text}'\n",
    "    rewritten_text = model.generate(\n",
    "        USER_CHAT_TEMPLATE.format(prompt=prompt),\n",
    "        device=device,\n",
    "        output_len=100,\n",
    "    )\n",
    "    rewrite_data.append({\n",
    "        'original_text': original_text,\n",
    "        'rewrite_prompt': rewrite_prompt,\n",
    "        'rewritten_text': rewritten_text,\n",
    "    })"
   ]
  },
  {
   "cell_type": "code",
   "execution_count": 15,
   "id": "86f72386",
   "metadata": {
    "execution": {
     "iopub.execute_input": "2024-03-07T23:33:50.564132Z",
     "iopub.status.busy": "2024-03-07T23:33:50.563184Z",
     "iopub.status.idle": "2024-03-07T23:33:50.573257Z",
     "shell.execute_reply": "2024-03-07T23:33:50.572253Z"
    },
    "papermill": {
     "duration": 0.019152,
     "end_time": "2024-03-07T23:33:50.575598",
     "exception": false,
     "start_time": "2024-03-07T23:33:50.556446",
     "status": "completed"
    },
    "tags": [],
    "ExecuteTime": {
     "end_time": "2024-03-17T20:40:12.395838Z",
     "start_time": "2024-03-17T20:40:12.391616Z"
    }
   },
   "outputs": [],
   "source": [
    "rewrite_data_df = pd.DataFrame(rewrite_data)\n",
    "#rewrite_data_df[:20].values"
   ]
  },
  {
   "cell_type": "code",
   "execution_count": 16,
   "id": "b96b91e5",
   "metadata": {
    "execution": {
     "iopub.execute_input": "2024-03-07T23:33:50.589695Z",
     "iopub.status.busy": "2024-03-07T23:33:50.588958Z",
     "iopub.status.idle": "2024-03-07T23:33:50.610849Z",
     "shell.execute_reply": "2024-03-07T23:33:50.609821Z"
    },
    "papermill": {
     "duration": 0.031765,
     "end_time": "2024-03-07T23:33:50.613523",
     "exception": false,
     "start_time": "2024-03-07T23:33:50.581758",
     "status": "completed"
    },
    "tags": [],
    "ExecuteTime": {
     "end_time": "2024-03-17T20:40:12.923685Z",
     "start_time": "2024-03-17T20:40:12.917633Z"
    }
   },
   "outputs": [],
   "source": [
    "rewrite_data_df.to_csv('prompts_and_rewrites_n.csv', index=False)"
   ]
  },
  {
   "cell_type": "code",
   "outputs": [],
   "source": [],
   "metadata": {
    "collapsed": false
   },
   "id": "3c76cc0f9f3a9abe"
  }
 ],
 "metadata": {
  "kaggle": {
   "accelerator": "nvidiaTeslaT4",
   "dataSources": [
    {
     "datasetId": 9,
     "sourceId": 7779974,
     "sourceType": "datasetVersion"
    },
    {
     "datasetId": 64890,
     "sourceId": 127736,
     "sourceType": "datasetVersion"
    },
    {
     "isSourceIdPinned": true,
     "modelInstanceId": 8749,
     "sourceId": 11359,
     "sourceType": "modelInstanceVersion"
    }
   ],
   "dockerImageVersionId": 30665,
   "isGpuEnabled": true,
   "isInternetEnabled": true,
   "language": "python",
   "sourceType": "notebook"
  },
  "kernelspec": {
   "display_name": "Python 3",
   "language": "python",
   "name": "python3"
  },
  "language_info": {
   "codemirror_mode": {
    "name": "ipython",
    "version": 3
   },
   "file_extension": ".py",
   "mimetype": "text/x-python",
   "name": "python",
   "nbconvert_exporter": "python",
   "pygments_lexer": "ipython3",
   "version": "3.10.13"
  },
  "papermill": {
   "default_parameters": {},
   "duration": 1003.69045,
   "end_time": "2024-03-07T23:33:54.297438",
   "environment_variables": {},
   "exception": null,
   "input_path": "__notebook__.ipynb",
   "output_path": "__notebook__.ipynb",
   "parameters": {},
   "start_time": "2024-03-07T23:17:10.606988",
   "version": "2.5.0"
  }
 },
 "nbformat": 4,
 "nbformat_minor": 5
}
