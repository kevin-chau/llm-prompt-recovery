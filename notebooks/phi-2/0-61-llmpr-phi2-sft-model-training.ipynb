{
 "cells": [
  {
   "cell_type": "markdown",
   "id": "4ca06df9",
   "metadata": {
    "papermill": {
     "duration": 0.006888,
     "end_time": "2024-03-30T20:03:16.233835",
     "exception": false,
     "start_time": "2024-03-30T20:03:16.226947",
     "status": "completed"
    },
    "tags": []
   },
   "source": [
    "# Phi2 SFT training baseline\n",
    "\n",
    "## data\n",
    "\n",
    "use all public data, but I dropped the dupilcate rewrite prompts.\n",
    "\n",
    "## hyperparamters\n",
    "\n",
    "epoch: 5\n",
    "\n",
    "batch size: 2\n",
    "\n",
    "gradient_accumulation_steps: 8\n",
    "\n",
    "max_seq_length: 1024\n",
    "\n",
    "learing rate: 1e-4\n",
    "\n",
    "\n",
    "inference notebook click [here](https://www.kaggle.com/code/mozhiwenmzw/0-61-llmpr-phi2-sft-model-generate-infer?scriptVersionId=169380324)"
   ]
  },
  {
   "cell_type": "code",
   "execution_count": 1,
   "id": "8aaefb7c",
   "metadata": {
    "_cell_guid": "b1076dfc-b9ad-4769-8c92-a6c4dae69d19",
    "_uuid": "8f2839f25d086af736a60e9eeb907d3b93b6e0e5",
    "execution": {
     "iopub.execute_input": "2024-03-30T20:03:16.248211Z",
     "iopub.status.busy": "2024-03-30T20:03:16.247919Z",
     "iopub.status.idle": "2024-03-30T20:03:59.561578Z",
     "shell.execute_reply": "2024-03-30T20:03:59.560256Z"
    },
    "papermill": {
     "duration": 43.323728,
     "end_time": "2024-03-30T20:03:59.564488",
     "exception": false,
     "start_time": "2024-03-30T20:03:16.240760",
     "status": "completed"
    },
    "tags": []
   },
   "outputs": [],
   "source": [
    "!pip install -Uq /kaggle/input/llm-whls/bitsandbytes-0.41.1-py3-none-any.whl\n",
    "!pip install -Uq /kaggle/input/llm-whls/peft-0.4.0-py3-none-any.whl\n",
    "!pip install -Uq /kaggle/input/library-off-for-llm/transformers-4.38.2-py3-none-any.whl"
   ]
  },
  {
   "cell_type": "code",
   "execution_count": 2,
   "id": "d8524771",
   "metadata": {
    "execution": {
     "iopub.execute_input": "2024-03-30T20:03:59.579828Z",
     "iopub.status.busy": "2024-03-30T20:03:59.579465Z",
     "iopub.status.idle": "2024-03-30T20:04:12.829909Z",
     "shell.execute_reply": "2024-03-30T20:04:12.828757Z"
    },
    "papermill": {
     "duration": 13.260604,
     "end_time": "2024-03-30T20:04:12.832273",
     "exception": false,
     "start_time": "2024-03-30T20:03:59.571669",
     "status": "completed"
    },
    "tags": []
   },
   "outputs": [],
   "source": [
    "!pip install -Uq /kaggle/input/llm-whls/trl-0.5.0-py3-none-any.whl"
   ]
  },
  {
   "cell_type": "code",
   "execution_count": 3,
   "id": "c49e81d7",
   "metadata": {
    "execution": {
     "iopub.execute_input": "2024-03-30T20:04:12.846836Z",
     "iopub.status.busy": "2024-03-30T20:04:12.846543Z",
     "iopub.status.idle": "2024-03-30T20:04:32.978760Z",
     "shell.execute_reply": "2024-03-30T20:04:32.977939Z"
    },
    "papermill": {
     "duration": 20.142051,
     "end_time": "2024-03-30T20:04:32.981082",
     "exception": false,
     "start_time": "2024-03-30T20:04:12.839031",
     "status": "completed"
    },
    "tags": []
   },
   "outputs": [
    {
     "name": "stderr",
     "output_type": "stream",
     "text": [
      "2024-03-30 20:04:24.914874: E external/local_xla/xla/stream_executor/cuda/cuda_dnn.cc:9261] Unable to register cuDNN factory: Attempting to register factory for plugin cuDNN when one has already been registered\n",
      "2024-03-30 20:04:24.914981: E external/local_xla/xla/stream_executor/cuda/cuda_fft.cc:607] Unable to register cuFFT factory: Attempting to register factory for plugin cuFFT when one has already been registered\n",
      "2024-03-30 20:04:25.056036: E external/local_xla/xla/stream_executor/cuda/cuda_blas.cc:1515] Unable to register cuBLAS factory: Attempting to register factory for plugin cuBLAS when one has already been registered\n"
     ]
    }
   ],
   "source": [
    "import pandas as pd\n",
    "from sklearn.model_selection import train_test_split\n",
    "\n",
    "from datasets import Dataset\n",
    "from transformers import AutoTokenizer, AutoModelForCausalLM, BitsAndBytesConfig\n",
    "from transformers import TrainingArguments\n",
    "\n",
    "from trl import SFTTrainer, DataCollatorForCompletionOnlyLM\n",
    "from peft import LoraConfig"
   ]
  },
  {
   "cell_type": "code",
   "execution_count": 4,
   "id": "7ec8e4fb",
   "metadata": {
    "execution": {
     "iopub.execute_input": "2024-03-30T20:04:32.995853Z",
     "iopub.status.busy": "2024-03-30T20:04:32.994730Z",
     "iopub.status.idle": "2024-03-30T20:04:32.999640Z",
     "shell.execute_reply": "2024-03-30T20:04:32.998729Z"
    },
    "papermill": {
     "duration": 0.014143,
     "end_time": "2024-03-30T20:04:33.001620",
     "exception": false,
     "start_time": "2024-03-30T20:04:32.987477",
     "status": "completed"
    },
    "tags": []
   },
   "outputs": [],
   "source": [
    "exp_name = 'phi2_public_data_sft'\n",
    "data_path = '/kaggle/input/llmpr-public-10k-unique/public_10k_unique_rewrite_prompt.csv'\n",
    "model_path = '/kaggle/input/phi/transformers/2/1'\n",
    "output_path = f'outputs'\n",
    "model_save_path =  f'{exp_name}_adapter'"
   ]
  },
  {
   "cell_type": "code",
   "execution_count": 5,
   "id": "64b39749",
   "metadata": {
    "execution": {
     "iopub.execute_input": "2024-03-30T20:04:33.015300Z",
     "iopub.status.busy": "2024-03-30T20:04:33.015003Z",
     "iopub.status.idle": "2024-03-30T20:04:33.019361Z",
     "shell.execute_reply": "2024-03-30T20:04:33.018332Z"
    },
    "papermill": {
     "duration": 0.013681,
     "end_time": "2024-03-30T20:04:33.021450",
     "exception": false,
     "start_time": "2024-03-30T20:04:33.007769",
     "status": "completed"
    },
    "tags": []
   },
   "outputs": [],
   "source": [
    "epochs=5\n",
    "batch_size=1 # 2 \n",
    "max_seq_length=512 # 1024 \n",
    "lr = 1e-4"
   ]
  },
  {
   "cell_type": "code",
   "execution_count": 6,
   "id": "ce5dd552",
   "metadata": {
    "execution": {
     "iopub.execute_input": "2024-03-30T20:04:33.035334Z",
     "iopub.status.busy": "2024-03-30T20:04:33.035048Z",
     "iopub.status.idle": "2024-03-30T20:04:33.680162Z",
     "shell.execute_reply": "2024-03-30T20:04:33.679052Z"
    },
    "papermill": {
     "duration": 0.654707,
     "end_time": "2024-03-30T20:04:33.682620",
     "exception": false,
     "start_time": "2024-03-30T20:04:33.027913",
     "status": "completed"
    },
    "tags": []
   },
   "outputs": [],
   "source": [
    "df = pd.read_csv(data_path)\n",
    "train_df, val_df = train_test_split(df, test_size=0.3, random_state=42)\n",
    "train_df = train_df.reset_index(drop=True)\n",
    "val_df = val_df.reset_index(drop=True)"
   ]
  },
  {
   "cell_type": "code",
   "execution_count": 7,
   "id": "1f1dd52c",
   "metadata": {
    "execution": {
     "iopub.execute_input": "2024-03-30T20:04:33.697228Z",
     "iopub.status.busy": "2024-03-30T20:04:33.696898Z",
     "iopub.status.idle": "2024-03-30T20:04:33.785128Z",
     "shell.execute_reply": "2024-03-30T20:04:33.784119Z"
    },
    "papermill": {
     "duration": 0.098732,
     "end_time": "2024-03-30T20:04:33.787450",
     "exception": false,
     "start_time": "2024-03-30T20:04:33.688718",
     "status": "completed"
    },
    "tags": []
   },
   "outputs": [],
   "source": [
    "train_ds = Dataset.from_pandas(train_df)\n",
    "val_ds = Dataset.from_pandas(val_df)"
   ]
  },
  {
   "cell_type": "code",
   "execution_count": 8,
   "id": "5b7bd964",
   "metadata": {
    "execution": {
     "iopub.execute_input": "2024-03-30T20:04:33.801355Z",
     "iopub.status.busy": "2024-03-30T20:04:33.801053Z",
     "iopub.status.idle": "2024-03-30T20:04:33.922771Z",
     "shell.execute_reply": "2024-03-30T20:04:33.921577Z"
    },
    "papermill": {
     "duration": 0.131347,
     "end_time": "2024-03-30T20:04:33.925135",
     "exception": false,
     "start_time": "2024-03-30T20:04:33.793788",
     "status": "completed"
    },
    "tags": []
   },
   "outputs": [
    {
     "name": "stderr",
     "output_type": "stream",
     "text": [
      "Special tokens have been added in the vocabulary, make sure the associated word embeddings are fine-tuned or trained.\n"
     ]
    }
   ],
   "source": [
    "tokenizer = AutoTokenizer.from_pretrained(\n",
    "    model_path,\n",
    "    )\n",
    "tokenizer.pad_token = tokenizer.eos_token"
   ]
  },
  {
   "cell_type": "code",
   "execution_count": 9,
   "id": "9fa716b4",
   "metadata": {
    "execution": {
     "iopub.execute_input": "2024-03-30T20:04:33.939756Z",
     "iopub.status.busy": "2024-03-30T20:04:33.939464Z",
     "iopub.status.idle": "2024-03-30T20:04:33.945181Z",
     "shell.execute_reply": "2024-03-30T20:04:33.944450Z"
    },
    "papermill": {
     "duration": 0.015331,
     "end_time": "2024-03-30T20:04:33.947023",
     "exception": false,
     "start_time": "2024-03-30T20:04:33.931692",
     "status": "completed"
    },
    "tags": []
   },
   "outputs": [],
   "source": [
    "bnb_config = BitsAndBytesConfig(\n",
    "        load_in_4bit=True,\n",
    "        bnb_4bit_quant_type='nf4',\n",
    "        bnb_4bit_compute_dtype='float16',\n",
    "        bnb_4bit_use_double_quant=False,\n",
    "    )"
   ]
  },
  {
   "cell_type": "code",
   "execution_count": 10,
   "id": "6a443395",
   "metadata": {
    "execution": {
     "iopub.execute_input": "2024-03-30T20:04:33.960493Z",
     "iopub.status.busy": "2024-03-30T20:04:33.960190Z",
     "iopub.status.idle": "2024-03-30T20:05:38.389696Z",
     "shell.execute_reply": "2024-03-30T20:05:38.388568Z"
    },
    "papermill": {
     "duration": 64.438681,
     "end_time": "2024-03-30T20:05:38.391869",
     "exception": false,
     "start_time": "2024-03-30T20:04:33.953188",
     "status": "completed"
    },
    "tags": []
   },
   "outputs": [
    {
     "name": "stderr",
     "output_type": "stream",
     "text": [
      "/opt/conda/lib/python3.10/site-packages/transformers/models/auto/auto_factory.py:466: FutureWarning: The `use_auth_token` argument is deprecated and will be removed in v5 of Transformers. Please use `token` instead.\n",
      "  warnings.warn(\n",
      "`low_cpu_mem_usage` was None, now set to True since model is quantized.\n"
     ]
    },
    {
     "data": {
      "application/vnd.jupyter.widget-view+json": {
       "model_id": "0a44e3f286264c079a900599eac31fd5",
       "version_major": 2,
       "version_minor": 0
      },
      "text/plain": [
       "Loading checkpoint shards:   0%|          | 0/2 [00:00<?, ?it/s]"
      ]
     },
     "metadata": {},
     "output_type": "display_data"
    },
    {
     "name": "stderr",
     "output_type": "stream",
     "text": [
      "You are calling `save_pretrained` to a 4-bit converted model, but your `bitsandbytes` version doesn't support it. If you want to save 4-bit models, make sure to have `bitsandbytes>=0.41.3` installed.\n"
     ]
    }
   ],
   "source": [
    "model = AutoModelForCausalLM.from_pretrained(model_path,\n",
    "                                             quantization_config=bnb_config,\n",
    "                                             trust_remote_code=True,\n",
    "                                             use_auth_token=True)"
   ]
  },
  {
   "cell_type": "code",
   "execution_count": 11,
   "id": "09d464dd",
   "metadata": {
    "execution": {
     "iopub.execute_input": "2024-03-30T20:05:38.406799Z",
     "iopub.status.busy": "2024-03-30T20:05:38.406514Z",
     "iopub.status.idle": "2024-03-30T20:05:38.410636Z",
     "shell.execute_reply": "2024-03-30T20:05:38.409811Z"
    },
    "papermill": {
     "duration": 0.013766,
     "end_time": "2024-03-30T20:05:38.412552",
     "exception": false,
     "start_time": "2024-03-30T20:05:38.398786",
     "status": "completed"
    },
    "tags": []
   },
   "outputs": [],
   "source": [
    "model.config.gradient_checkpointing = False"
   ]
  },
  {
   "cell_type": "code",
   "execution_count": 12,
   "id": "f3cb31e8",
   "metadata": {
    "execution": {
     "iopub.execute_input": "2024-03-30T20:05:38.427168Z",
     "iopub.status.busy": "2024-03-30T20:05:38.426644Z",
     "iopub.status.idle": "2024-03-30T20:05:38.430999Z",
     "shell.execute_reply": "2024-03-30T20:05:38.430141Z"
    },
    "papermill": {
     "duration": 0.013771,
     "end_time": "2024-03-30T20:05:38.432958",
     "exception": false,
     "start_time": "2024-03-30T20:05:38.419187",
     "status": "completed"
    },
    "tags": []
   },
   "outputs": [],
   "source": [
    "def token_len(text):\n",
    "    tokenized = tokenizer(text, return_length=True)\n",
    "    length = tokenized['length'][0]\n",
    "    return length"
   ]
  },
  {
   "cell_type": "code",
   "execution_count": 13,
   "id": "cd284b8c",
   "metadata": {
    "execution": {
     "iopub.execute_input": "2024-03-30T20:05:38.447660Z",
     "iopub.status.busy": "2024-03-30T20:05:38.446995Z",
     "iopub.status.idle": "2024-03-30T20:05:38.452697Z",
     "shell.execute_reply": "2024-03-30T20:05:38.451869Z"
    },
    "papermill": {
     "duration": 0.01493,
     "end_time": "2024-03-30T20:05:38.454678",
     "exception": false,
     "start_time": "2024-03-30T20:05:38.439748",
     "status": "completed"
    },
    "tags": []
   },
   "outputs": [],
   "source": [
    "def formatting_prompts_func(example):\n",
    "    output_texts = []\n",
    "    for i in range(len(example['rewritten_text'])):\n",
    "        ori_text = example['original_text'][i]\n",
    "        rew_text = example['rewritten_text'][i]\n",
    "        rew_prompt = example['rewrite_prompt'][i]\n",
    "        text = f\"Instruct: Original Text:{ori_text}\\nRewritten Text:{rew_text}\\nWrite a prompt that was likely given to the LLM to rewrite original text into rewritten text.Output: {rew_prompt}\"\n",
    "        if token_len(text) > max_seq_length:\n",
    "            continue\n",
    "        output_texts.append(text)\n",
    "    return output_texts"
   ]
  },
  {
   "cell_type": "code",
   "execution_count": 14,
   "id": "3528db4f",
   "metadata": {
    "execution": {
     "iopub.execute_input": "2024-03-30T20:05:38.468547Z",
     "iopub.status.busy": "2024-03-30T20:05:38.468231Z",
     "iopub.status.idle": "2024-03-30T20:05:38.475459Z",
     "shell.execute_reply": "2024-03-30T20:05:38.474604Z"
    },
    "papermill": {
     "duration": 0.016157,
     "end_time": "2024-03-30T20:05:38.477355",
     "exception": false,
     "start_time": "2024-03-30T20:05:38.461198",
     "status": "completed"
    },
    "tags": []
   },
   "outputs": [],
   "source": [
    "response_template = \"Output:\"\n",
    "collator = DataCollatorForCompletionOnlyLM(response_template=response_template, \n",
    "                                           tokenizer=tokenizer)"
   ]
  },
  {
   "cell_type": "code",
   "execution_count": 15,
   "id": "f4ac0173",
   "metadata": {
    "execution": {
     "iopub.execute_input": "2024-03-30T20:05:38.491796Z",
     "iopub.status.busy": "2024-03-30T20:05:38.491529Z",
     "iopub.status.idle": "2024-03-30T20:05:38.495793Z",
     "shell.execute_reply": "2024-03-30T20:05:38.494957Z"
    },
    "papermill": {
     "duration": 0.01371,
     "end_time": "2024-03-30T20:05:38.497674",
     "exception": false,
     "start_time": "2024-03-30T20:05:38.483964",
     "status": "completed"
    },
    "tags": []
   },
   "outputs": [],
   "source": [
    "peft_config = LoraConfig(\n",
    "    r=16,\n",
    "    lora_alpha=32,\n",
    "    lora_dropout=0.05,\n",
    "    bias=\"none\",\n",
    "    task_type=\"CAUSAL_LM\",\n",
    "    target_modules= [\"q_proj\", \"k_proj\", \"v_proj\", \"dense\"],\n",
    ")"
   ]
  },
  {
   "cell_type": "code",
   "execution_count": 16,
   "id": "1193184a",
   "metadata": {
    "execution": {
     "iopub.execute_input": "2024-03-30T20:05:38.511553Z",
     "iopub.status.busy": "2024-03-30T20:05:38.511200Z",
     "iopub.status.idle": "2024-03-30T20:05:38.517977Z",
     "shell.execute_reply": "2024-03-30T20:05:38.517276Z"
    },
    "papermill": {
     "duration": 0.01582,
     "end_time": "2024-03-30T20:05:38.519854",
     "exception": false,
     "start_time": "2024-03-30T20:05:38.504034",
     "status": "completed"
    },
    "tags": []
   },
   "outputs": [],
   "source": [
    "args = TrainingArguments(\n",
    "    output_dir = output_path,\n",
    "    fp16=True,\n",
    "    learning_rate=lr,\n",
    "    optim=\"adafactor\",\n",
    "    num_train_epochs=epochs,\n",
    "    per_device_train_batch_size=batch_size,\n",
    "    per_device_eval_batch_size=batch_size*2,\n",
    "    gradient_accumulation_steps=8,\n",
    "    evaluation_strategy=\"epoch\",\n",
    "    save_strategy=\"epoch\",\n",
    "    save_total_limit=1,\n",
    "    logging_steps=50,\n",
    "    lr_scheduler_type=\"cosine\",\n",
    "    warmup_ratio=0.1,\n",
    "    weight_decay=0.01,\n",
    "    report_to='none',\n",
    "    load_best_model_at_end=True,\n",
    "    metric_for_best_model=\"eval_loss\",\n",
    "    )"
   ]
  },
  {
   "cell_type": "code",
   "execution_count": 17,
   "id": "e2fbf02d",
   "metadata": {
    "execution": {
     "iopub.execute_input": "2024-03-30T20:05:38.534632Z",
     "iopub.status.busy": "2024-03-30T20:05:38.533862Z",
     "iopub.status.idle": "2024-03-30T20:06:14.677505Z",
     "shell.execute_reply": "2024-03-30T20:06:14.676509Z"
    },
    "papermill": {
     "duration": 36.153269,
     "end_time": "2024-03-30T20:06:14.679728",
     "exception": false,
     "start_time": "2024-03-30T20:05:38.526459",
     "status": "completed"
    },
    "tags": []
   },
   "outputs": [
    {
     "name": "stderr",
     "output_type": "stream",
     "text": [
      "/opt/conda/lib/python3.10/site-packages/peft/utils/other.py:102: FutureWarning: prepare_model_for_int8_training is deprecated and will be removed in a future version. Use prepare_model_for_kbit_training instead.\n",
      "  warnings.warn(\n",
      "Special tokens have been added in the vocabulary, make sure the associated word embeddings are fine-tuned or trained.\n"
     ]
    },
    {
     "data": {
      "application/vnd.jupyter.widget-view+json": {
       "model_id": "0f873d21c58f4b36afc8fb0556321225",
       "version_major": 2,
       "version_minor": 0
      },
      "text/plain": [
       "  0%|          | 0/8 [00:00<?, ?ba/s]"
      ]
     },
     "metadata": {},
     "output_type": "display_data"
    },
    {
     "name": "stderr",
     "output_type": "stream",
     "text": [
      "Token indices sequence length is longer than the specified maximum sequence length for this model (2159 > 2048). Running this sequence through the model will result in indexing errors\n"
     ]
    },
    {
     "data": {
      "application/vnd.jupyter.widget-view+json": {
       "model_id": "0a4d7c95b58645e7b20b88da0bfcc7c9",
       "version_major": 2,
       "version_minor": 0
      },
      "text/plain": [
       "  0%|          | 0/4 [00:00<?, ?ba/s]"
      ]
     },
     "metadata": {},
     "output_type": "display_data"
    },
    {
     "name": "stderr",
     "output_type": "stream",
     "text": [
      "/opt/conda/lib/python3.10/site-packages/accelerate/accelerator.py:432: FutureWarning: Passing the following arguments to `Accelerator` is deprecated and will be removed in version 1.0 of Accelerate: dict_keys(['dispatch_batches', 'split_batches', 'even_batches', 'use_seedable_sampler']). Please pass an `accelerate.DataLoaderConfiguration` instead: \n",
      "dataloader_config = DataLoaderConfiguration(dispatch_batches=None, split_batches=False, even_batches=True, use_seedable_sampler=True)\n",
      "  warnings.warn(\n"
     ]
    }
   ],
   "source": [
    "trainer = SFTTrainer(\n",
    "    model=model,\n",
    "    args = args,\n",
    "    max_seq_length=max_seq_length,\n",
    "    train_dataset=train_ds,\n",
    "    eval_dataset=val_ds,\n",
    "    formatting_func=formatting_prompts_func,\n",
    "    data_collator=collator,\n",
    "    peft_config=peft_config,\n",
    ")"
   ]
  },
  {
   "cell_type": "code",
   "execution_count": 18,
   "id": "bdcbb6e6",
   "metadata": {
    "execution": {
     "iopub.execute_input": "2024-03-30T20:06:14.695787Z",
     "iopub.status.busy": "2024-03-30T20:06:14.695499Z",
     "iopub.status.idle": "2024-03-31T04:55:56.200489Z",
     "shell.execute_reply": "2024-03-31T04:55:56.199514Z"
    },
    "papermill": {
     "duration": 31781.515162,
     "end_time": "2024-03-31T04:55:56.202548",
     "exception": false,
     "start_time": "2024-03-30T20:06:14.687386",
     "status": "completed"
    },
    "tags": []
   },
   "outputs": [
    {
     "data": {
      "text/html": [
       "\n",
       "    <div>\n",
       "      \n",
       "      <progress value='2640' max='2640' style='width:300px; height:20px; vertical-align: middle;'></progress>\n",
       "      [2640/2640 8:49:30, Epoch 4/5]\n",
       "    </div>\n",
       "    <table border=\"1\" class=\"dataframe\">\n",
       "  <thead>\n",
       " <tr style=\"text-align: left;\">\n",
       "      <th>Epoch</th>\n",
       "      <th>Training Loss</th>\n",
       "      <th>Validation Loss</th>\n",
       "    </tr>\n",
       "  </thead>\n",
       "  <tbody>\n",
       "    <tr>\n",
       "      <td>0</td>\n",
       "      <td>1.175600</td>\n",
       "      <td>1.082386</td>\n",
       "    </tr>\n",
       "    <tr>\n",
       "      <td>1</td>\n",
       "      <td>1.018300</td>\n",
       "      <td>0.977812</td>\n",
       "    </tr>\n",
       "    <tr>\n",
       "      <td>2</td>\n",
       "      <td>0.865400</td>\n",
       "      <td>0.935533</td>\n",
       "    </tr>\n",
       "    <tr>\n",
       "      <td>3</td>\n",
       "      <td>0.793800</td>\n",
       "      <td>0.920491</td>\n",
       "    </tr>\n",
       "    <tr>\n",
       "      <td>4</td>\n",
       "      <td>0.824000</td>\n",
       "      <td>0.919732</td>\n",
       "    </tr>\n",
       "  </tbody>\n",
       "</table><p>"
      ],
      "text/plain": [
       "<IPython.core.display.HTML object>"
      ]
     },
     "metadata": {},
     "output_type": "display_data"
    },
    {
     "data": {
      "text/plain": [
       "TrainOutput(global_step=2640, training_loss=1.003327169562831, metrics={'train_runtime': 31781.1433, 'train_samples_per_second': 0.665, 'train_steps_per_second': 0.083, 'total_flos': 1.08150631450368e+17, 'train_loss': 1.003327169562831, 'epoch': 5.0})"
      ]
     },
     "execution_count": 18,
     "metadata": {},
     "output_type": "execute_result"
    }
   ],
   "source": [
    "trainer.train()"
   ]
  },
  {
   "cell_type": "code",
   "execution_count": 19,
   "id": "c32e9d37",
   "metadata": {
    "execution": {
     "iopub.execute_input": "2024-03-31T04:55:56.220068Z",
     "iopub.status.busy": "2024-03-31T04:55:56.219761Z",
     "iopub.status.idle": "2024-03-31T04:55:56.421934Z",
     "shell.execute_reply": "2024-03-31T04:55:56.420974Z"
    },
    "papermill": {
     "duration": 0.214301,
     "end_time": "2024-03-31T04:55:56.425049",
     "exception": false,
     "start_time": "2024-03-31T04:55:56.210748",
     "status": "completed"
    },
    "tags": []
   },
   "outputs": [
    {
     "data": {
      "text/plain": [
       "('phi2_public_data_sft_adapter/tokenizer_config.json',\n",
       " 'phi2_public_data_sft_adapter/special_tokens_map.json',\n",
       " 'phi2_public_data_sft_adapter/vocab.json',\n",
       " 'phi2_public_data_sft_adapter/merges.txt',\n",
       " 'phi2_public_data_sft_adapter/added_tokens.json',\n",
       " 'phi2_public_data_sft_adapter/tokenizer.json')"
      ]
     },
     "execution_count": 19,
     "metadata": {},
     "output_type": "execute_result"
    }
   ],
   "source": [
    "trainer.save_model(model_save_path)\n",
    "tokenizer.save_pretrained(model_save_path)"
   ]
  }
 ],
 "metadata": {
  "kaggle": {
   "accelerator": "gpu",
   "dataSources": [
    {
     "databundleVersionId": 7806901,
     "sourceId": 67121,
     "sourceType": "competition"
    },
    {
     "datasetId": 3600418,
     "sourceId": 6572938,
     "sourceType": "datasetVersion"
    },
    {
     "datasetId": 4661387,
     "sourceId": 7930545,
     "sourceType": "datasetVersion"
    },
    {
     "sourceId": 164964691,
     "sourceType": "kernelVersion"
    },
    {
     "modelInstanceId": 8658,
     "sourceId": 10716,
     "sourceType": "modelInstanceVersion"
    }
   ],
   "dockerImageVersionId": 30674,
   "isGpuEnabled": true,
   "isInternetEnabled": true,
   "language": "python",
   "sourceType": "notebook"
  },
  "kernelspec": {
   "display_name": "Python 3",
   "language": "python",
   "name": "python3"
  },
  "language_info": {
   "codemirror_mode": {
    "name": "ipython",
    "version": 3
   },
   "file_extension": ".py",
   "mimetype": "text/x-python",
   "name": "python",
   "nbconvert_exporter": "python",
   "pygments_lexer": "ipython3",
   "version": "3.10.13"
  },
  "papermill": {
   "default_parameters": {},
   "duration": 31966.250822,
   "end_time": "2024-03-31T04:55:59.588945",
   "environment_variables": {},
   "exception": null,
   "input_path": "__notebook__.ipynb",
   "output_path": "__notebook__.ipynb",
   "parameters": {},
   "start_time": "2024-03-30T20:03:13.338123",
   "version": "2.5.0"
  },
  "widgets": {
   "application/vnd.jupyter.widget-state+json": {
    "state": {
     "040c3aa68e1c424ebf2066e8a59daf08": {
      "model_module": "@jupyter-widgets/controls",
      "model_module_version": "1.5.0",
      "model_name": "ProgressStyleModel",
      "state": {
       "_model_module": "@jupyter-widgets/controls",
       "_model_module_version": "1.5.0",
       "_model_name": "ProgressStyleModel",
       "_view_count": null,
       "_view_module": "@jupyter-widgets/base",
       "_view_module_version": "1.2.0",
       "_view_name": "StyleView",
       "bar_color": null,
       "description_width": ""
      }
     },
     "0933dc2b59f44707ab5f144e8e3e40e6": {
      "model_module": "@jupyter-widgets/controls",
      "model_module_version": "1.5.0",
      "model_name": "DescriptionStyleModel",
      "state": {
       "_model_module": "@jupyter-widgets/controls",
       "_model_module_version": "1.5.0",
       "_model_name": "DescriptionStyleModel",
       "_view_count": null,
       "_view_module": "@jupyter-widgets/base",
       "_view_module_version": "1.2.0",
       "_view_name": "StyleView",
       "description_width": ""
      }
     },
     "0a44e3f286264c079a900599eac31fd5": {
      "model_module": "@jupyter-widgets/controls",
      "model_module_version": "1.5.0",
      "model_name": "HBoxModel",
      "state": {
       "_dom_classes": [],
       "_model_module": "@jupyter-widgets/controls",
       "_model_module_version": "1.5.0",
       "_model_name": "HBoxModel",
       "_view_count": null,
       "_view_module": "@jupyter-widgets/controls",
       "_view_module_version": "1.5.0",
       "_view_name": "HBoxView",
       "box_style": "",
       "children": [
        "IPY_MODEL_95bf7d01c2c742378618a282e01389de",
        "IPY_MODEL_301ca5d79c96408bbc2d87f2b7b929b8",
        "IPY_MODEL_b7b9e7f0ddb74ed994c147f6c7bef9a2"
       ],
       "layout": "IPY_MODEL_5bee86a1d9364be0b0781b9f8cf9cf2e"
      }
     },
     "0a4d7c95b58645e7b20b88da0bfcc7c9": {
      "model_module": "@jupyter-widgets/controls",
      "model_module_version": "1.5.0",
      "model_name": "HBoxModel",
      "state": {
       "_dom_classes": [],
       "_model_module": "@jupyter-widgets/controls",
       "_model_module_version": "1.5.0",
       "_model_name": "HBoxModel",
       "_view_count": null,
       "_view_module": "@jupyter-widgets/controls",
       "_view_module_version": "1.5.0",
       "_view_name": "HBoxView",
       "box_style": "",
       "children": [
        "IPY_MODEL_26fb689e08d3442db58c40e180bde016",
        "IPY_MODEL_5e718258c42745a888d401fafb9e993a",
        "IPY_MODEL_73decf33699c42a3927ed895487ee455"
       ],
       "layout": "IPY_MODEL_d6defa42baae45409dc4901e1d7865e2"
      }
     },
     "0f873d21c58f4b36afc8fb0556321225": {
      "model_module": "@jupyter-widgets/controls",
      "model_module_version": "1.5.0",
      "model_name": "HBoxModel",
      "state": {
       "_dom_classes": [],
       "_model_module": "@jupyter-widgets/controls",
       "_model_module_version": "1.5.0",
       "_model_name": "HBoxModel",
       "_view_count": null,
       "_view_module": "@jupyter-widgets/controls",
       "_view_module_version": "1.5.0",
       "_view_name": "HBoxView",
       "box_style": "",
       "children": [
        "IPY_MODEL_78f46cb5ed2a47f58d74bfb4b29fb4d0",
        "IPY_MODEL_f4781c539cf143bfa63351b5fe53d32e",
        "IPY_MODEL_60a1557f9bb141398cf78ac3d87b0cea"
       ],
       "layout": "IPY_MODEL_8d2f37439b65445f8a264fb5a163ddc8"
      }
     },
     "1ed674fde0074a75ad1484c8f2cd06bf": {
      "model_module": "@jupyter-widgets/controls",
      "model_module_version": "1.5.0",
      "model_name": "ProgressStyleModel",
      "state": {
       "_model_module": "@jupyter-widgets/controls",
       "_model_module_version": "1.5.0",
       "_model_name": "ProgressStyleModel",
       "_view_count": null,
       "_view_module": "@jupyter-widgets/base",
       "_view_module_version": "1.2.0",
       "_view_name": "StyleView",
       "bar_color": null,
       "description_width": ""
      }
     },
     "26fb689e08d3442db58c40e180bde016": {
      "model_module": "@jupyter-widgets/controls",
      "model_module_version": "1.5.0",
      "model_name": "HTMLModel",
      "state": {
       "_dom_classes": [],
       "_model_module": "@jupyter-widgets/controls",
       "_model_module_version": "1.5.0",
       "_model_name": "HTMLModel",
       "_view_count": null,
       "_view_module": "@jupyter-widgets/controls",
       "_view_module_version": "1.5.0",
       "_view_name": "HTMLView",
       "description": "",
       "description_tooltip": null,
       "layout": "IPY_MODEL_4817d47d67f949b09b923c9e486ae648",
       "placeholder": "​",
       "style": "IPY_MODEL_cdd958e904c24d85a965a1c7ff787f3d",
       "value": "100%"
      }
     },
     "301ca5d79c96408bbc2d87f2b7b929b8": {
      "model_module": "@jupyter-widgets/controls",
      "model_module_version": "1.5.0",
      "model_name": "FloatProgressModel",
      "state": {
       "_dom_classes": [],
       "_model_module": "@jupyter-widgets/controls",
       "_model_module_version": "1.5.0",
       "_model_name": "FloatProgressModel",
       "_view_count": null,
       "_view_module": "@jupyter-widgets/controls",
       "_view_module_version": "1.5.0",
       "_view_name": "ProgressView",
       "bar_style": "success",
       "description": "",
       "description_tooltip": null,
       "layout": "IPY_MODEL_44036956bc0146dc887addc187c511d7",
       "max": 2.0,
       "min": 0.0,
       "orientation": "horizontal",
       "style": "IPY_MODEL_040c3aa68e1c424ebf2066e8a59daf08",
       "value": 2.0
      }
     },
     "44036956bc0146dc887addc187c511d7": {
      "model_module": "@jupyter-widgets/base",
      "model_module_version": "1.2.0",
      "model_name": "LayoutModel",
      "state": {
       "_model_module": "@jupyter-widgets/base",
       "_model_module_version": "1.2.0",
       "_model_name": "LayoutModel",
       "_view_count": null,
       "_view_module": "@jupyter-widgets/base",
       "_view_module_version": "1.2.0",
       "_view_name": "LayoutView",
       "align_content": null,
       "align_items": null,
       "align_self": null,
       "border": null,
       "bottom": null,
       "display": null,
       "flex": null,
       "flex_flow": null,
       "grid_area": null,
       "grid_auto_columns": null,
       "grid_auto_flow": null,
       "grid_auto_rows": null,
       "grid_column": null,
       "grid_gap": null,
       "grid_row": null,
       "grid_template_areas": null,
       "grid_template_columns": null,
       "grid_template_rows": null,
       "height": null,
       "justify_content": null,
       "justify_items": null,
       "left": null,
       "margin": null,
       "max_height": null,
       "max_width": null,
       "min_height": null,
       "min_width": null,
       "object_fit": null,
       "object_position": null,
       "order": null,
       "overflow": null,
       "overflow_x": null,
       "overflow_y": null,
       "padding": null,
       "right": null,
       "top": null,
       "visibility": null,
       "width": null
      }
     },
     "4701c957539d4165adbf954e33b89829": {
      "model_module": "@jupyter-widgets/controls",
      "model_module_version": "1.5.0",
      "model_name": "DescriptionStyleModel",
      "state": {
       "_model_module": "@jupyter-widgets/controls",
       "_model_module_version": "1.5.0",
       "_model_name": "DescriptionStyleModel",
       "_view_count": null,
       "_view_module": "@jupyter-widgets/base",
       "_view_module_version": "1.2.0",
       "_view_name": "StyleView",
       "description_width": ""
      }
     },
     "4817d47d67f949b09b923c9e486ae648": {
      "model_module": "@jupyter-widgets/base",
      "model_module_version": "1.2.0",
      "model_name": "LayoutModel",
      "state": {
       "_model_module": "@jupyter-widgets/base",
       "_model_module_version": "1.2.0",
       "_model_name": "LayoutModel",
       "_view_count": null,
       "_view_module": "@jupyter-widgets/base",
       "_view_module_version": "1.2.0",
       "_view_name": "LayoutView",
       "align_content": null,
       "align_items": null,
       "align_self": null,
       "border": null,
       "bottom": null,
       "display": null,
       "flex": null,
       "flex_flow": null,
       "grid_area": null,
       "grid_auto_columns": null,
       "grid_auto_flow": null,
       "grid_auto_rows": null,
       "grid_column": null,
       "grid_gap": null,
       "grid_row": null,
       "grid_template_areas": null,
       "grid_template_columns": null,
       "grid_template_rows": null,
       "height": null,
       "justify_content": null,
       "justify_items": null,
       "left": null,
       "margin": null,
       "max_height": null,
       "max_width": null,
       "min_height": null,
       "min_width": null,
       "object_fit": null,
       "object_position": null,
       "order": null,
       "overflow": null,
       "overflow_x": null,
       "overflow_y": null,
       "padding": null,
       "right": null,
       "top": null,
       "visibility": null,
       "width": null
      }
     },
     "4e6283f40f6f41b78cbbafc7519b6664": {
      "model_module": "@jupyter-widgets/controls",
      "model_module_version": "1.5.0",
      "model_name": "ProgressStyleModel",
      "state": {
       "_model_module": "@jupyter-widgets/controls",
       "_model_module_version": "1.5.0",
       "_model_name": "ProgressStyleModel",
       "_view_count": null,
       "_view_module": "@jupyter-widgets/base",
       "_view_module_version": "1.2.0",
       "_view_name": "StyleView",
       "bar_color": null,
       "description_width": ""
      }
     },
     "574de5ba8cff4693af50721e524b217b": {
      "model_module": "@jupyter-widgets/controls",
      "model_module_version": "1.5.0",
      "model_name": "DescriptionStyleModel",
      "state": {
       "_model_module": "@jupyter-widgets/controls",
       "_model_module_version": "1.5.0",
       "_model_name": "DescriptionStyleModel",
       "_view_count": null,
       "_view_module": "@jupyter-widgets/base",
       "_view_module_version": "1.2.0",
       "_view_name": "StyleView",
       "description_width": ""
      }
     },
     "5bee86a1d9364be0b0781b9f8cf9cf2e": {
      "model_module": "@jupyter-widgets/base",
      "model_module_version": "1.2.0",
      "model_name": "LayoutModel",
      "state": {
       "_model_module": "@jupyter-widgets/base",
       "_model_module_version": "1.2.0",
       "_model_name": "LayoutModel",
       "_view_count": null,
       "_view_module": "@jupyter-widgets/base",
       "_view_module_version": "1.2.0",
       "_view_name": "LayoutView",
       "align_content": null,
       "align_items": null,
       "align_self": null,
       "border": null,
       "bottom": null,
       "display": null,
       "flex": null,
       "flex_flow": null,
       "grid_area": null,
       "grid_auto_columns": null,
       "grid_auto_flow": null,
       "grid_auto_rows": null,
       "grid_column": null,
       "grid_gap": null,
       "grid_row": null,
       "grid_template_areas": null,
       "grid_template_columns": null,
       "grid_template_rows": null,
       "height": null,
       "justify_content": null,
       "justify_items": null,
       "left": null,
       "margin": null,
       "max_height": null,
       "max_width": null,
       "min_height": null,
       "min_width": null,
       "object_fit": null,
       "object_position": null,
       "order": null,
       "overflow": null,
       "overflow_x": null,
       "overflow_y": null,
       "padding": null,
       "right": null,
       "top": null,
       "visibility": null,
       "width": null
      }
     },
     "5e718258c42745a888d401fafb9e993a": {
      "model_module": "@jupyter-widgets/controls",
      "model_module_version": "1.5.0",
      "model_name": "FloatProgressModel",
      "state": {
       "_dom_classes": [],
       "_model_module": "@jupyter-widgets/controls",
       "_model_module_version": "1.5.0",
       "_model_name": "FloatProgressModel",
       "_view_count": null,
       "_view_module": "@jupyter-widgets/controls",
       "_view_module_version": "1.5.0",
       "_view_name": "ProgressView",
       "bar_style": "success",
       "description": "",
       "description_tooltip": null,
       "layout": "IPY_MODEL_95a5621ba16745fca5349d69e02447a8",
       "max": 4.0,
       "min": 0.0,
       "orientation": "horizontal",
       "style": "IPY_MODEL_1ed674fde0074a75ad1484c8f2cd06bf",
       "value": 4.0
      }
     },
     "60a1557f9bb141398cf78ac3d87b0cea": {
      "model_module": "@jupyter-widgets/controls",
      "model_module_version": "1.5.0",
      "model_name": "HTMLModel",
      "state": {
       "_dom_classes": [],
       "_model_module": "@jupyter-widgets/controls",
       "_model_module_version": "1.5.0",
       "_model_name": "HTMLModel",
       "_view_count": null,
       "_view_module": "@jupyter-widgets/controls",
       "_view_module_version": "1.5.0",
       "_view_name": "HTMLView",
       "description": "",
       "description_tooltip": null,
       "layout": "IPY_MODEL_da9be360924e4af0babd0929595463ca",
       "placeholder": "​",
       "style": "IPY_MODEL_574de5ba8cff4693af50721e524b217b",
       "value": " 8/8 [00:18&lt;00:00,  1.83s/ba]"
      }
     },
     "6cf1c2dc0b5549f2b6d046f48dfa8c5f": {
      "model_module": "@jupyter-widgets/base",
      "model_module_version": "1.2.0",
      "model_name": "LayoutModel",
      "state": {
       "_model_module": "@jupyter-widgets/base",
       "_model_module_version": "1.2.0",
       "_model_name": "LayoutModel",
       "_view_count": null,
       "_view_module": "@jupyter-widgets/base",
       "_view_module_version": "1.2.0",
       "_view_name": "LayoutView",
       "align_content": null,
       "align_items": null,
       "align_self": null,
       "border": null,
       "bottom": null,
       "display": null,
       "flex": null,
       "flex_flow": null,
       "grid_area": null,
       "grid_auto_columns": null,
       "grid_auto_flow": null,
       "grid_auto_rows": null,
       "grid_column": null,
       "grid_gap": null,
       "grid_row": null,
       "grid_template_areas": null,
       "grid_template_columns": null,
       "grid_template_rows": null,
       "height": null,
       "justify_content": null,
       "justify_items": null,
       "left": null,
       "margin": null,
       "max_height": null,
       "max_width": null,
       "min_height": null,
       "min_width": null,
       "object_fit": null,
       "object_position": null,
       "order": null,
       "overflow": null,
       "overflow_x": null,
       "overflow_y": null,
       "padding": null,
       "right": null,
       "top": null,
       "visibility": null,
       "width": null
      }
     },
     "73decf33699c42a3927ed895487ee455": {
      "model_module": "@jupyter-widgets/controls",
      "model_module_version": "1.5.0",
      "model_name": "HTMLModel",
      "state": {
       "_dom_classes": [],
       "_model_module": "@jupyter-widgets/controls",
       "_model_module_version": "1.5.0",
       "_model_name": "HTMLModel",
       "_view_count": null,
       "_view_module": "@jupyter-widgets/controls",
       "_view_module_version": "1.5.0",
       "_view_name": "HTMLView",
       "description": "",
       "description_tooltip": null,
       "layout": "IPY_MODEL_89cf9440175842f3bebea58d4e8743c4",
       "placeholder": "​",
       "style": "IPY_MODEL_a82379e5604245f1819f141af8683341",
       "value": " 4/4 [00:08&lt;00:00,  1.74s/ba]"
      }
     },
     "78f46cb5ed2a47f58d74bfb4b29fb4d0": {
      "model_module": "@jupyter-widgets/controls",
      "model_module_version": "1.5.0",
      "model_name": "HTMLModel",
      "state": {
       "_dom_classes": [],
       "_model_module": "@jupyter-widgets/controls",
       "_model_module_version": "1.5.0",
       "_model_name": "HTMLModel",
       "_view_count": null,
       "_view_module": "@jupyter-widgets/controls",
       "_view_module_version": "1.5.0",
       "_view_name": "HTMLView",
       "description": "",
       "description_tooltip": null,
       "layout": "IPY_MODEL_9793bfe2c94a4a03a559e5efd8edeb63",
       "placeholder": "​",
       "style": "IPY_MODEL_0933dc2b59f44707ab5f144e8e3e40e6",
       "value": "100%"
      }
     },
     "7c4889542f134e7a97c92536937eb221": {
      "model_module": "@jupyter-widgets/base",
      "model_module_version": "1.2.0",
      "model_name": "LayoutModel",
      "state": {
       "_model_module": "@jupyter-widgets/base",
       "_model_module_version": "1.2.0",
       "_model_name": "LayoutModel",
       "_view_count": null,
       "_view_module": "@jupyter-widgets/base",
       "_view_module_version": "1.2.0",
       "_view_name": "LayoutView",
       "align_content": null,
       "align_items": null,
       "align_self": null,
       "border": null,
       "bottom": null,
       "display": null,
       "flex": null,
       "flex_flow": null,
       "grid_area": null,
       "grid_auto_columns": null,
       "grid_auto_flow": null,
       "grid_auto_rows": null,
       "grid_column": null,
       "grid_gap": null,
       "grid_row": null,
       "grid_template_areas": null,
       "grid_template_columns": null,
       "grid_template_rows": null,
       "height": null,
       "justify_content": null,
       "justify_items": null,
       "left": null,
       "margin": null,
       "max_height": null,
       "max_width": null,
       "min_height": null,
       "min_width": null,
       "object_fit": null,
       "object_position": null,
       "order": null,
       "overflow": null,
       "overflow_x": null,
       "overflow_y": null,
       "padding": null,
       "right": null,
       "top": null,
       "visibility": null,
       "width": null
      }
     },
     "89cf9440175842f3bebea58d4e8743c4": {
      "model_module": "@jupyter-widgets/base",
      "model_module_version": "1.2.0",
      "model_name": "LayoutModel",
      "state": {
       "_model_module": "@jupyter-widgets/base",
       "_model_module_version": "1.2.0",
       "_model_name": "LayoutModel",
       "_view_count": null,
       "_view_module": "@jupyter-widgets/base",
       "_view_module_version": "1.2.0",
       "_view_name": "LayoutView",
       "align_content": null,
       "align_items": null,
       "align_self": null,
       "border": null,
       "bottom": null,
       "display": null,
       "flex": null,
       "flex_flow": null,
       "grid_area": null,
       "grid_auto_columns": null,
       "grid_auto_flow": null,
       "grid_auto_rows": null,
       "grid_column": null,
       "grid_gap": null,
       "grid_row": null,
       "grid_template_areas": null,
       "grid_template_columns": null,
       "grid_template_rows": null,
       "height": null,
       "justify_content": null,
       "justify_items": null,
       "left": null,
       "margin": null,
       "max_height": null,
       "max_width": null,
       "min_height": null,
       "min_width": null,
       "object_fit": null,
       "object_position": null,
       "order": null,
       "overflow": null,
       "overflow_x": null,
       "overflow_y": null,
       "padding": null,
       "right": null,
       "top": null,
       "visibility": null,
       "width": null
      }
     },
     "8d2f37439b65445f8a264fb5a163ddc8": {
      "model_module": "@jupyter-widgets/base",
      "model_module_version": "1.2.0",
      "model_name": "LayoutModel",
      "state": {
       "_model_module": "@jupyter-widgets/base",
       "_model_module_version": "1.2.0",
       "_model_name": "LayoutModel",
       "_view_count": null,
       "_view_module": "@jupyter-widgets/base",
       "_view_module_version": "1.2.0",
       "_view_name": "LayoutView",
       "align_content": null,
       "align_items": null,
       "align_self": null,
       "border": null,
       "bottom": null,
       "display": null,
       "flex": null,
       "flex_flow": null,
       "grid_area": null,
       "grid_auto_columns": null,
       "grid_auto_flow": null,
       "grid_auto_rows": null,
       "grid_column": null,
       "grid_gap": null,
       "grid_row": null,
       "grid_template_areas": null,
       "grid_template_columns": null,
       "grid_template_rows": null,
       "height": null,
       "justify_content": null,
       "justify_items": null,
       "left": null,
       "margin": null,
       "max_height": null,
       "max_width": null,
       "min_height": null,
       "min_width": null,
       "object_fit": null,
       "object_position": null,
       "order": null,
       "overflow": null,
       "overflow_x": null,
       "overflow_y": null,
       "padding": null,
       "right": null,
       "top": null,
       "visibility": null,
       "width": null
      }
     },
     "95a5621ba16745fca5349d69e02447a8": {
      "model_module": "@jupyter-widgets/base",
      "model_module_version": "1.2.0",
      "model_name": "LayoutModel",
      "state": {
       "_model_module": "@jupyter-widgets/base",
       "_model_module_version": "1.2.0",
       "_model_name": "LayoutModel",
       "_view_count": null,
       "_view_module": "@jupyter-widgets/base",
       "_view_module_version": "1.2.0",
       "_view_name": "LayoutView",
       "align_content": null,
       "align_items": null,
       "align_self": null,
       "border": null,
       "bottom": null,
       "display": null,
       "flex": null,
       "flex_flow": null,
       "grid_area": null,
       "grid_auto_columns": null,
       "grid_auto_flow": null,
       "grid_auto_rows": null,
       "grid_column": null,
       "grid_gap": null,
       "grid_row": null,
       "grid_template_areas": null,
       "grid_template_columns": null,
       "grid_template_rows": null,
       "height": null,
       "justify_content": null,
       "justify_items": null,
       "left": null,
       "margin": null,
       "max_height": null,
       "max_width": null,
       "min_height": null,
       "min_width": null,
       "object_fit": null,
       "object_position": null,
       "order": null,
       "overflow": null,
       "overflow_x": null,
       "overflow_y": null,
       "padding": null,
       "right": null,
       "top": null,
       "visibility": null,
       "width": null
      }
     },
     "95bf7d01c2c742378618a282e01389de": {
      "model_module": "@jupyter-widgets/controls",
      "model_module_version": "1.5.0",
      "model_name": "HTMLModel",
      "state": {
       "_dom_classes": [],
       "_model_module": "@jupyter-widgets/controls",
       "_model_module_version": "1.5.0",
       "_model_name": "HTMLModel",
       "_view_count": null,
       "_view_module": "@jupyter-widgets/controls",
       "_view_module_version": "1.5.0",
       "_view_name": "HTMLView",
       "description": "",
       "description_tooltip": null,
       "layout": "IPY_MODEL_6cf1c2dc0b5549f2b6d046f48dfa8c5f",
       "placeholder": "​",
       "style": "IPY_MODEL_fcff9d0c7f5c4af1ade2a14c5d2e5fe6",
       "value": "Loading checkpoint shards: 100%"
      }
     },
     "9793bfe2c94a4a03a559e5efd8edeb63": {
      "model_module": "@jupyter-widgets/base",
      "model_module_version": "1.2.0",
      "model_name": "LayoutModel",
      "state": {
       "_model_module": "@jupyter-widgets/base",
       "_model_module_version": "1.2.0",
       "_model_name": "LayoutModel",
       "_view_count": null,
       "_view_module": "@jupyter-widgets/base",
       "_view_module_version": "1.2.0",
       "_view_name": "LayoutView",
       "align_content": null,
       "align_items": null,
       "align_self": null,
       "border": null,
       "bottom": null,
       "display": null,
       "flex": null,
       "flex_flow": null,
       "grid_area": null,
       "grid_auto_columns": null,
       "grid_auto_flow": null,
       "grid_auto_rows": null,
       "grid_column": null,
       "grid_gap": null,
       "grid_row": null,
       "grid_template_areas": null,
       "grid_template_columns": null,
       "grid_template_rows": null,
       "height": null,
       "justify_content": null,
       "justify_items": null,
       "left": null,
       "margin": null,
       "max_height": null,
       "max_width": null,
       "min_height": null,
       "min_width": null,
       "object_fit": null,
       "object_position": null,
       "order": null,
       "overflow": null,
       "overflow_x": null,
       "overflow_y": null,
       "padding": null,
       "right": null,
       "top": null,
       "visibility": null,
       "width": null
      }
     },
     "a82379e5604245f1819f141af8683341": {
      "model_module": "@jupyter-widgets/controls",
      "model_module_version": "1.5.0",
      "model_name": "DescriptionStyleModel",
      "state": {
       "_model_module": "@jupyter-widgets/controls",
       "_model_module_version": "1.5.0",
       "_model_name": "DescriptionStyleModel",
       "_view_count": null,
       "_view_module": "@jupyter-widgets/base",
       "_view_module_version": "1.2.0",
       "_view_name": "StyleView",
       "description_width": ""
      }
     },
     "b7b9e7f0ddb74ed994c147f6c7bef9a2": {
      "model_module": "@jupyter-widgets/controls",
      "model_module_version": "1.5.0",
      "model_name": "HTMLModel",
      "state": {
       "_dom_classes": [],
       "_model_module": "@jupyter-widgets/controls",
       "_model_module_version": "1.5.0",
       "_model_name": "HTMLModel",
       "_view_count": null,
       "_view_module": "@jupyter-widgets/controls",
       "_view_module_version": "1.5.0",
       "_view_name": "HTMLView",
       "description": "",
       "description_tooltip": null,
       "layout": "IPY_MODEL_7c4889542f134e7a97c92536937eb221",
       "placeholder": "​",
       "style": "IPY_MODEL_4701c957539d4165adbf954e33b89829",
       "value": " 2/2 [01:03&lt;00:00, 27.27s/it]"
      }
     },
     "cdd958e904c24d85a965a1c7ff787f3d": {
      "model_module": "@jupyter-widgets/controls",
      "model_module_version": "1.5.0",
      "model_name": "DescriptionStyleModel",
      "state": {
       "_model_module": "@jupyter-widgets/controls",
       "_model_module_version": "1.5.0",
       "_model_name": "DescriptionStyleModel",
       "_view_count": null,
       "_view_module": "@jupyter-widgets/base",
       "_view_module_version": "1.2.0",
       "_view_name": "StyleView",
       "description_width": ""
      }
     },
     "d6defa42baae45409dc4901e1d7865e2": {
      "model_module": "@jupyter-widgets/base",
      "model_module_version": "1.2.0",
      "model_name": "LayoutModel",
      "state": {
       "_model_module": "@jupyter-widgets/base",
       "_model_module_version": "1.2.0",
       "_model_name": "LayoutModel",
       "_view_count": null,
       "_view_module": "@jupyter-widgets/base",
       "_view_module_version": "1.2.0",
       "_view_name": "LayoutView",
       "align_content": null,
       "align_items": null,
       "align_self": null,
       "border": null,
       "bottom": null,
       "display": null,
       "flex": null,
       "flex_flow": null,
       "grid_area": null,
       "grid_auto_columns": null,
       "grid_auto_flow": null,
       "grid_auto_rows": null,
       "grid_column": null,
       "grid_gap": null,
       "grid_row": null,
       "grid_template_areas": null,
       "grid_template_columns": null,
       "grid_template_rows": null,
       "height": null,
       "justify_content": null,
       "justify_items": null,
       "left": null,
       "margin": null,
       "max_height": null,
       "max_width": null,
       "min_height": null,
       "min_width": null,
       "object_fit": null,
       "object_position": null,
       "order": null,
       "overflow": null,
       "overflow_x": null,
       "overflow_y": null,
       "padding": null,
       "right": null,
       "top": null,
       "visibility": null,
       "width": null
      }
     },
     "da9be360924e4af0babd0929595463ca": {
      "model_module": "@jupyter-widgets/base",
      "model_module_version": "1.2.0",
      "model_name": "LayoutModel",
      "state": {
       "_model_module": "@jupyter-widgets/base",
       "_model_module_version": "1.2.0",
       "_model_name": "LayoutModel",
       "_view_count": null,
       "_view_module": "@jupyter-widgets/base",
       "_view_module_version": "1.2.0",
       "_view_name": "LayoutView",
       "align_content": null,
       "align_items": null,
       "align_self": null,
       "border": null,
       "bottom": null,
       "display": null,
       "flex": null,
       "flex_flow": null,
       "grid_area": null,
       "grid_auto_columns": null,
       "grid_auto_flow": null,
       "grid_auto_rows": null,
       "grid_column": null,
       "grid_gap": null,
       "grid_row": null,
       "grid_template_areas": null,
       "grid_template_columns": null,
       "grid_template_rows": null,
       "height": null,
       "justify_content": null,
       "justify_items": null,
       "left": null,
       "margin": null,
       "max_height": null,
       "max_width": null,
       "min_height": null,
       "min_width": null,
       "object_fit": null,
       "object_position": null,
       "order": null,
       "overflow": null,
       "overflow_x": null,
       "overflow_y": null,
       "padding": null,
       "right": null,
       "top": null,
       "visibility": null,
       "width": null
      }
     },
     "eabc6fbb872f4d728f1388833e31e3e4": {
      "model_module": "@jupyter-widgets/base",
      "model_module_version": "1.2.0",
      "model_name": "LayoutModel",
      "state": {
       "_model_module": "@jupyter-widgets/base",
       "_model_module_version": "1.2.0",
       "_model_name": "LayoutModel",
       "_view_count": null,
       "_view_module": "@jupyter-widgets/base",
       "_view_module_version": "1.2.0",
       "_view_name": "LayoutView",
       "align_content": null,
       "align_items": null,
       "align_self": null,
       "border": null,
       "bottom": null,
       "display": null,
       "flex": null,
       "flex_flow": null,
       "grid_area": null,
       "grid_auto_columns": null,
       "grid_auto_flow": null,
       "grid_auto_rows": null,
       "grid_column": null,
       "grid_gap": null,
       "grid_row": null,
       "grid_template_areas": null,
       "grid_template_columns": null,
       "grid_template_rows": null,
       "height": null,
       "justify_content": null,
       "justify_items": null,
       "left": null,
       "margin": null,
       "max_height": null,
       "max_width": null,
       "min_height": null,
       "min_width": null,
       "object_fit": null,
       "object_position": null,
       "order": null,
       "overflow": null,
       "overflow_x": null,
       "overflow_y": null,
       "padding": null,
       "right": null,
       "top": null,
       "visibility": null,
       "width": null
      }
     },
     "f4781c539cf143bfa63351b5fe53d32e": {
      "model_module": "@jupyter-widgets/controls",
      "model_module_version": "1.5.0",
      "model_name": "FloatProgressModel",
      "state": {
       "_dom_classes": [],
       "_model_module": "@jupyter-widgets/controls",
       "_model_module_version": "1.5.0",
       "_model_name": "FloatProgressModel",
       "_view_count": null,
       "_view_module": "@jupyter-widgets/controls",
       "_view_module_version": "1.5.0",
       "_view_name": "ProgressView",
       "bar_style": "success",
       "description": "",
       "description_tooltip": null,
       "layout": "IPY_MODEL_eabc6fbb872f4d728f1388833e31e3e4",
       "max": 8.0,
       "min": 0.0,
       "orientation": "horizontal",
       "style": "IPY_MODEL_4e6283f40f6f41b78cbbafc7519b6664",
       "value": 8.0
      }
     },
     "fcff9d0c7f5c4af1ade2a14c5d2e5fe6": {
      "model_module": "@jupyter-widgets/controls",
      "model_module_version": "1.5.0",
      "model_name": "DescriptionStyleModel",
      "state": {
       "_model_module": "@jupyter-widgets/controls",
       "_model_module_version": "1.5.0",
       "_model_name": "DescriptionStyleModel",
       "_view_count": null,
       "_view_module": "@jupyter-widgets/base",
       "_view_module_version": "1.2.0",
       "_view_name": "StyleView",
       "description_width": ""
      }
     }
    },
    "version_major": 2,
    "version_minor": 0
   }
  }
 },
 "nbformat": 4,
 "nbformat_minor": 5
}
