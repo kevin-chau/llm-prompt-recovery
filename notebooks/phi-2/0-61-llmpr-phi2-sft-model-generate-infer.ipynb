{
 "cells": [
  {
   "cell_type": "code",
   "execution_count": 1,
   "id": "5ac323ec",
   "metadata": {
    "_cell_guid": "b1076dfc-b9ad-4769-8c92-a6c4dae69d19",
    "_uuid": "8f2839f25d086af736a60e9eeb907d3b93b6e0e5",
    "execution": {
     "iopub.execute_input": "2024-03-30T20:04:07.212888Z",
     "iopub.status.busy": "2024-03-30T20:04:07.212539Z",
     "iopub.status.idle": "2024-03-30T20:05:49.110981Z",
     "shell.execute_reply": "2024-03-30T20:05:49.109934Z"
    },
    "papermill": {
     "duration": 101.906484,
     "end_time": "2024-03-30T20:05:49.113472",
     "exception": false,
     "start_time": "2024-03-30T20:04:07.206988",
     "status": "completed"
    },
    "tags": []
   },
   "outputs": [],
   "source": [
    "!pip install -Uq /kaggle/input/llm-whls/bitsandbytes-0.41.1-py3-none-any.whl\n",
    "!pip install -Uq /kaggle/input/llm-whls/peft-0.4.0-py3-none-any.whl\n",
    "!pip install -Uq /kaggle/input/library-off-for-llm/transformers-4.38.2-py3-none-any.whl"
   ]
  },
  {
   "cell_type": "code",
   "execution_count": 2,
   "id": "bc407c3a",
   "metadata": {
    "execution": {
     "iopub.execute_input": "2024-03-30T20:05:49.123553Z",
     "iopub.status.busy": "2024-03-30T20:05:49.123245Z",
     "iopub.status.idle": "2024-03-30T20:05:58.062901Z",
     "shell.execute_reply": "2024-03-30T20:05:58.062144Z"
    },
    "papermill": {
     "duration": 8.947207,
     "end_time": "2024-03-30T20:05:58.065231",
     "exception": false,
     "start_time": "2024-03-30T20:05:49.118024",
     "status": "completed"
    },
    "tags": []
   },
   "outputs": [],
   "source": [
    "import numpy as np\n",
    "import pandas as pd\n",
    "from tqdm.auto import tqdm\n",
    "\n",
    "import torch\n",
    "\n",
    "from peft import PeftConfig, PeftModel\n",
    "from transformers import AutoModelForCausalLM, AutoTokenizer"
   ]
  },
  {
   "cell_type": "code",
   "execution_count": 3,
   "id": "738cf274",
   "metadata": {
    "execution": {
     "iopub.execute_input": "2024-03-30T20:05:58.074994Z",
     "iopub.status.busy": "2024-03-30T20:05:58.074564Z",
     "iopub.status.idle": "2024-03-30T20:05:58.078489Z",
     "shell.execute_reply": "2024-03-30T20:05:58.077653Z"
    },
    "papermill": {
     "duration": 0.010738,
     "end_time": "2024-03-30T20:05:58.080310",
     "exception": false,
     "start_time": "2024-03-30T20:05:58.069572",
     "status": "completed"
    },
    "tags": []
   },
   "outputs": [],
   "source": [
    "input_token_len = 1024\n",
    "output_token_len = 100"
   ]
  },
  {
   "cell_type": "code",
   "execution_count": 4,
   "id": "f5035c17",
   "metadata": {
    "execution": {
     "iopub.execute_input": "2024-03-30T20:05:58.089340Z",
     "iopub.status.busy": "2024-03-30T20:05:58.089032Z",
     "iopub.status.idle": "2024-03-30T20:05:58.099939Z",
     "shell.execute_reply": "2024-03-30T20:05:58.099272Z"
    },
    "papermill": {
     "duration": 0.017366,
     "end_time": "2024-03-30T20:05:58.101676",
     "exception": false,
     "start_time": "2024-03-30T20:05:58.084310",
     "status": "completed"
    },
    "tags": []
   },
   "outputs": [],
   "source": [
    "test_df = pd.read_csv('/kaggle/input/llm-prompt-recovery/test.csv')"
   ]
  },
  {
   "cell_type": "code",
   "execution_count": 5,
   "id": "f10ff18e",
   "metadata": {
    "execution": {
     "iopub.execute_input": "2024-03-30T20:05:58.110947Z",
     "iopub.status.busy": "2024-03-30T20:05:58.110697Z",
     "iopub.status.idle": "2024-03-30T20:05:58.114496Z",
     "shell.execute_reply": "2024-03-30T20:05:58.113688Z"
    },
    "papermill": {
     "duration": 0.010564,
     "end_time": "2024-03-30T20:05:58.116260",
     "exception": false,
     "start_time": "2024-03-30T20:05:58.105696",
     "status": "completed"
    },
    "tags": []
   },
   "outputs": [],
   "source": [
    "base_model_name = \"/kaggle/input/phi/transformers/2/1\"\n",
    "adapter_model_name = \"/kaggle/input/phi2-public-data-sft-adapter/pytorch/public-data-sft/1/phi2_public_data_sft\""
   ]
  },
  {
   "cell_type": "code",
   "execution_count": 6,
   "id": "7692a866",
   "metadata": {
    "execution": {
     "iopub.execute_input": "2024-03-30T20:05:58.125665Z",
     "iopub.status.busy": "2024-03-30T20:05:58.125021Z",
     "iopub.status.idle": "2024-03-30T20:05:58.128981Z",
     "shell.execute_reply": "2024-03-30T20:05:58.128276Z"
    },
    "papermill": {
     "duration": 0.010479,
     "end_time": "2024-03-30T20:05:58.130793",
     "exception": false,
     "start_time": "2024-03-30T20:05:58.120314",
     "status": "completed"
    },
    "tags": []
   },
   "outputs": [],
   "source": [
    "device = torch.device(\"cuda\" if torch.cuda.is_available() else \"cpu\")"
   ]
  },
  {
   "cell_type": "code",
   "execution_count": 7,
   "id": "2dd38a3d",
   "metadata": {
    "execution": {
     "iopub.execute_input": "2024-03-30T20:05:58.139978Z",
     "iopub.status.busy": "2024-03-30T20:05:58.139729Z",
     "iopub.status.idle": "2024-03-30T20:05:58.290331Z",
     "shell.execute_reply": "2024-03-30T20:05:58.289100Z"
    },
    "papermill": {
     "duration": 0.157638,
     "end_time": "2024-03-30T20:05:58.292632",
     "exception": false,
     "start_time": "2024-03-30T20:05:58.134994",
     "status": "completed"
    },
    "tags": []
   },
   "outputs": [
    {
     "name": "stderr",
     "output_type": "stream",
     "text": [
      "Special tokens have been added in the vocabulary, make sure the associated word embeddings are fine-tuned or trained.\n"
     ]
    }
   ],
   "source": [
    "tokenizer = AutoTokenizer.from_pretrained(base_model_name,trust_remote_code=True)\n",
    "if tokenizer.pad_token is None:\n",
    "    tokenizer.pad_token = tokenizer.eos_token"
   ]
  },
  {
   "cell_type": "code",
   "execution_count": 8,
   "id": "baa89fb5",
   "metadata": {
    "execution": {
     "iopub.execute_input": "2024-03-30T20:05:58.305213Z",
     "iopub.status.busy": "2024-03-30T20:05:58.304550Z",
     "iopub.status.idle": "2024-03-30T20:06:45.513324Z",
     "shell.execute_reply": "2024-03-30T20:06:45.512548Z"
    },
    "papermill": {
     "duration": 47.216687,
     "end_time": "2024-03-30T20:06:45.515569",
     "exception": false,
     "start_time": "2024-03-30T20:05:58.298882",
     "status": "completed"
    },
    "tags": []
   },
   "outputs": [
    {
     "data": {
      "application/vnd.jupyter.widget-view+json": {
       "model_id": "cfba78182ad44a57b87d31ea7ab23389",
       "version_major": 2,
       "version_minor": 0
      },
      "text/plain": [
       "Loading checkpoint shards:   0%|          | 0/2 [00:00<?, ?it/s]"
      ]
     },
     "metadata": {},
     "output_type": "display_data"
    }
   ],
   "source": [
    "model = AutoModelForCausalLM.from_pretrained(base_model_name,trust_remote_code=True)\n",
    "model = PeftModel.from_pretrained(model, adapter_model_name)"
   ]
  },
  {
   "cell_type": "code",
   "execution_count": 9,
   "id": "2066d79b",
   "metadata": {
    "execution": {
     "iopub.execute_input": "2024-03-30T20:06:45.526331Z",
     "iopub.status.busy": "2024-03-30T20:06:45.526057Z",
     "iopub.status.idle": "2024-03-30T20:06:51.040239Z",
     "shell.execute_reply": "2024-03-30T20:06:51.039267Z"
    },
    "papermill": {
     "duration": 5.522116,
     "end_time": "2024-03-30T20:06:51.042730",
     "exception": false,
     "start_time": "2024-03-30T20:06:45.520614",
     "status": "completed"
    },
    "tags": []
   },
   "outputs": [
    {
     "name": "stdout",
     "output_type": "stream",
     "text": [
      "model loaded !!\n"
     ]
    }
   ],
   "source": [
    "model.to(device)\n",
    "model.eval()\n",
    "print('model loaded !!')"
   ]
  },
  {
   "cell_type": "code",
   "execution_count": 10,
   "id": "c6c82fed",
   "metadata": {
    "execution": {
     "iopub.execute_input": "2024-03-30T20:06:51.053870Z",
     "iopub.status.busy": "2024-03-30T20:06:51.053599Z",
     "iopub.status.idle": "2024-03-30T20:06:51.060802Z",
     "shell.execute_reply": "2024-03-30T20:06:51.059982Z"
    },
    "papermill": {
     "duration": 0.014937,
     "end_time": "2024-03-30T20:06:51.062652",
     "exception": false,
     "start_time": "2024-03-30T20:06:51.047715",
     "status": "completed"
    },
    "tags": []
   },
   "outputs": [],
   "source": [
    "def text_generate(ori_text, rew_text, model, tokenizer, input_max_len=512, output_len=20, device='cuda'):\n",
    "    prompt = f\"Instruct: Original Text:{ori_text}\\nRewritten Text:{rew_text}\\nWrite a prompt that was likely given to the LLM to rewrite original text to rewritten text.\\nOutput:\"\n",
    "    inputs = tokenizer(prompt, max_length=input_max_len, truncation=True, return_tensors=\"pt\", return_attention_mask=False)\n",
    "    \n",
    "    input_token_len = len(inputs.input_ids[0])\n",
    "    inputs = {k:v.to(device) for k,v in inputs.items()}\n",
    "    max_len = input_token_len + output_len\n",
    "    outputs = model.generate(**inputs,\n",
    "                         do_sample=False,\n",
    "                         max_length=max_len,\n",
    "                         pad_token_id=tokenizer.pad_token_id,\n",
    "                         )\n",
    "    text = tokenizer.batch_decode(outputs,skip_special_tokens=True,clean_up_tokenization_spaces=False)[0]\n",
    "    start_index = text.find('Output:')\n",
    "    generated_text = text[start_index+len('Output:'):].strip()\n",
    "    return generated_text"
   ]
  },
  {
   "cell_type": "code",
   "execution_count": 11,
   "id": "bda6ba27",
   "metadata": {
    "execution": {
     "iopub.execute_input": "2024-03-30T20:06:51.073329Z",
     "iopub.status.busy": "2024-03-30T20:06:51.072741Z",
     "iopub.status.idle": "2024-03-30T20:06:51.076700Z",
     "shell.execute_reply": "2024-03-30T20:06:51.075908Z"
    },
    "papermill": {
     "duration": 0.011199,
     "end_time": "2024-03-30T20:06:51.078472",
     "exception": false,
     "start_time": "2024-03-30T20:06:51.067273",
     "status": "completed"
    },
    "tags": []
   },
   "outputs": [],
   "source": [
    "mean_prompt = \"'Please improve the following text using the writing style of, maintaining the original meaning but altering the tone, diction, and stylistic elements to match the new style.Enhance the clarity, elegance, and impact of the following text by adopting the writing style of , ensuring the core message remains intact while transforming the tone, word choice, and stylistic features to align with the specified style.'\""
   ]
  },
  {
   "cell_type": "code",
   "execution_count": 12,
   "id": "5de9db3f",
   "metadata": {
    "execution": {
     "iopub.execute_input": "2024-03-30T20:06:51.089817Z",
     "iopub.status.busy": "2024-03-30T20:06:51.089576Z",
     "iopub.status.idle": "2024-03-30T20:06:51.093117Z",
     "shell.execute_reply": "2024-03-30T20:06:51.092307Z"
    },
    "papermill": {
     "duration": 0.010718,
     "end_time": "2024-03-30T20:06:51.094970",
     "exception": false,
     "start_time": "2024-03-30T20:06:51.084252",
     "status": "completed"
    },
    "tags": []
   },
   "outputs": [],
   "source": [
    "rewrite_prompts = []"
   ]
  },
  {
   "cell_type": "code",
   "execution_count": 13,
   "id": "976c0599",
   "metadata": {
    "execution": {
     "iopub.execute_input": "2024-03-30T20:06:51.105468Z",
     "iopub.status.busy": "2024-03-30T20:06:51.105223Z",
     "iopub.status.idle": "2024-03-30T20:06:58.223530Z",
     "shell.execute_reply": "2024-03-30T20:06:58.222617Z"
    },
    "papermill": {
     "duration": 7.126373,
     "end_time": "2024-03-30T20:06:58.226076",
     "exception": false,
     "start_time": "2024-03-30T20:06:51.099703",
     "status": "completed"
    },
    "tags": []
   },
   "outputs": [
    {
     "data": {
      "application/vnd.jupyter.widget-view+json": {
       "model_id": "365d2c27123a4689860480a882964510",
       "version_major": 2,
       "version_minor": 0
      },
      "text/plain": [
       "  0%|          | 0/1 [00:00<?, ?it/s]"
      ]
     },
     "metadata": {},
     "output_type": "display_data"
    }
   ],
   "source": [
    "for i, row in tqdm(test_df.iterrows(), total=len(test_df)):\n",
    "    prompt = mean_prompt\n",
    "    try:\n",
    "        prompt = text_generate(row['original_text'],\n",
    "                               row['rewritten_text'],\n",
    "                               model,\n",
    "                               tokenizer,\n",
    "                               input_token_len,\n",
    "                               output_token_len,\n",
    "                               device,\n",
    "                              )\n",
    "    except:\n",
    "        pass\n",
    "        \n",
    "    rewrite_prompts.append(prompt)"
   ]
  },
  {
   "cell_type": "code",
   "execution_count": 14,
   "id": "8adcc9de",
   "metadata": {
    "execution": {
     "iopub.execute_input": "2024-03-30T20:06:58.237937Z",
     "iopub.status.busy": "2024-03-30T20:06:58.237664Z",
     "iopub.status.idle": "2024-03-30T20:06:58.242751Z",
     "shell.execute_reply": "2024-03-30T20:06:58.242018Z"
    },
    "papermill": {
     "duration": 0.012849,
     "end_time": "2024-03-30T20:06:58.244627",
     "exception": false,
     "start_time": "2024-03-30T20:06:58.231778",
     "status": "completed"
    },
    "tags": []
   },
   "outputs": [],
   "source": [
    "test_df['rewrite_prompt'] = rewrite_prompts"
   ]
  },
  {
   "cell_type": "code",
   "execution_count": 15,
   "id": "b8ff05a6",
   "metadata": {
    "execution": {
     "iopub.execute_input": "2024-03-30T20:06:58.256167Z",
     "iopub.status.busy": "2024-03-30T20:06:58.255704Z",
     "iopub.status.idle": "2024-03-30T20:06:58.268585Z",
     "shell.execute_reply": "2024-03-30T20:06:58.267746Z"
    },
    "papermill": {
     "duration": 0.020693,
     "end_time": "2024-03-30T20:06:58.270424",
     "exception": false,
     "start_time": "2024-03-30T20:06:58.249731",
     "status": "completed"
    },
    "tags": []
   },
   "outputs": [],
   "source": [
    "sub_df = test_df[['id', 'rewrite_prompt']]\n",
    "sub_df.to_csv('submission.csv', index=False)"
   ]
  }
 ],
 "metadata": {
  "kaggle": {
   "accelerator": "gpu",
   "dataSources": [
    {
     "databundleVersionId": 7806901,
     "sourceId": 67121,
     "sourceType": "competition"
    },
    {
     "datasetId": 3600418,
     "sourceId": 6572938,
     "sourceType": "datasetVersion"
    },
    {
     "sourceId": 164964691,
     "sourceType": "kernelVersion"
    },
    {
     "modelInstanceId": 8658,
     "sourceId": 10716,
     "sourceType": "modelInstanceVersion"
    },
    {
     "modelInstanceId": 17852,
     "sourceId": 21555,
     "sourceType": "modelInstanceVersion"
    }
   ],
   "dockerImageVersionId": 30674,
   "isGpuEnabled": true,
   "isInternetEnabled": false,
   "language": "python",
   "sourceType": "notebook"
  },
  "kernelspec": {
   "display_name": "Python 3",
   "language": "python",
   "name": "python3"
  },
  "language_info": {
   "codemirror_mode": {
    "name": "ipython",
    "version": 3
   },
   "file_extension": ".py",
   "mimetype": "text/x-python",
   "name": "python",
   "nbconvert_exporter": "python",
   "pygments_lexer": "ipython3",
   "version": "3.10.13"
  },
  "papermill": {
   "default_parameters": {},
   "duration": 176.212613,
   "end_time": "2024-03-30T20:07:00.717409",
   "environment_variables": {},
   "exception": null,
   "input_path": "__notebook__.ipynb",
   "output_path": "__notebook__.ipynb",
   "parameters": {},
   "start_time": "2024-03-30T20:04:04.504796",
   "version": "2.5.0"
  },
  "widgets": {
   "application/vnd.jupyter.widget-state+json": {
    "state": {
     "02db0d33d7234473add0ff1d2a17b0a9": {
      "model_module": "@jupyter-widgets/base",
      "model_module_version": "1.2.0",
      "model_name": "LayoutModel",
      "state": {
       "_model_module": "@jupyter-widgets/base",
       "_model_module_version": "1.2.0",
       "_model_name": "LayoutModel",
       "_view_count": null,
       "_view_module": "@jupyter-widgets/base",
       "_view_module_version": "1.2.0",
       "_view_name": "LayoutView",
       "align_content": null,
       "align_items": null,
       "align_self": null,
       "border": null,
       "bottom": null,
       "display": null,
       "flex": null,
       "flex_flow": null,
       "grid_area": null,
       "grid_auto_columns": null,
       "grid_auto_flow": null,
       "grid_auto_rows": null,
       "grid_column": null,
       "grid_gap": null,
       "grid_row": null,
       "grid_template_areas": null,
       "grid_template_columns": null,
       "grid_template_rows": null,
       "height": null,
       "justify_content": null,
       "justify_items": null,
       "left": null,
       "margin": null,
       "max_height": null,
       "max_width": null,
       "min_height": null,
       "min_width": null,
       "object_fit": null,
       "object_position": null,
       "order": null,
       "overflow": null,
       "overflow_x": null,
       "overflow_y": null,
       "padding": null,
       "right": null,
       "top": null,
       "visibility": null,
       "width": null
      }
     },
     "0facaf5477c64d8992214d85370d4f52": {
      "model_module": "@jupyter-widgets/controls",
      "model_module_version": "1.5.0",
      "model_name": "DescriptionStyleModel",
      "state": {
       "_model_module": "@jupyter-widgets/controls",
       "_model_module_version": "1.5.0",
       "_model_name": "DescriptionStyleModel",
       "_view_count": null,
       "_view_module": "@jupyter-widgets/base",
       "_view_module_version": "1.2.0",
       "_view_name": "StyleView",
       "description_width": ""
      }
     },
     "1a46dfb0439b4ef4abc8ce241825e5f1": {
      "model_module": "@jupyter-widgets/base",
      "model_module_version": "1.2.0",
      "model_name": "LayoutModel",
      "state": {
       "_model_module": "@jupyter-widgets/base",
       "_model_module_version": "1.2.0",
       "_model_name": "LayoutModel",
       "_view_count": null,
       "_view_module": "@jupyter-widgets/base",
       "_view_module_version": "1.2.0",
       "_view_name": "LayoutView",
       "align_content": null,
       "align_items": null,
       "align_self": null,
       "border": null,
       "bottom": null,
       "display": null,
       "flex": null,
       "flex_flow": null,
       "grid_area": null,
       "grid_auto_columns": null,
       "grid_auto_flow": null,
       "grid_auto_rows": null,
       "grid_column": null,
       "grid_gap": null,
       "grid_row": null,
       "grid_template_areas": null,
       "grid_template_columns": null,
       "grid_template_rows": null,
       "height": null,
       "justify_content": null,
       "justify_items": null,
       "left": null,
       "margin": null,
       "max_height": null,
       "max_width": null,
       "min_height": null,
       "min_width": null,
       "object_fit": null,
       "object_position": null,
       "order": null,
       "overflow": null,
       "overflow_x": null,
       "overflow_y": null,
       "padding": null,
       "right": null,
       "top": null,
       "visibility": null,
       "width": null
      }
     },
     "1b54c3ee62cb4c97ad659d29e589a716": {
      "model_module": "@jupyter-widgets/base",
      "model_module_version": "1.2.0",
      "model_name": "LayoutModel",
      "state": {
       "_model_module": "@jupyter-widgets/base",
       "_model_module_version": "1.2.0",
       "_model_name": "LayoutModel",
       "_view_count": null,
       "_view_module": "@jupyter-widgets/base",
       "_view_module_version": "1.2.0",
       "_view_name": "LayoutView",
       "align_content": null,
       "align_items": null,
       "align_self": null,
       "border": null,
       "bottom": null,
       "display": null,
       "flex": null,
       "flex_flow": null,
       "grid_area": null,
       "grid_auto_columns": null,
       "grid_auto_flow": null,
       "grid_auto_rows": null,
       "grid_column": null,
       "grid_gap": null,
       "grid_row": null,
       "grid_template_areas": null,
       "grid_template_columns": null,
       "grid_template_rows": null,
       "height": null,
       "justify_content": null,
       "justify_items": null,
       "left": null,
       "margin": null,
       "max_height": null,
       "max_width": null,
       "min_height": null,
       "min_width": null,
       "object_fit": null,
       "object_position": null,
       "order": null,
       "overflow": null,
       "overflow_x": null,
       "overflow_y": null,
       "padding": null,
       "right": null,
       "top": null,
       "visibility": null,
       "width": null
      }
     },
     "365d2c27123a4689860480a882964510": {
      "model_module": "@jupyter-widgets/controls",
      "model_module_version": "1.5.0",
      "model_name": "HBoxModel",
      "state": {
       "_dom_classes": [],
       "_model_module": "@jupyter-widgets/controls",
       "_model_module_version": "1.5.0",
       "_model_name": "HBoxModel",
       "_view_count": null,
       "_view_module": "@jupyter-widgets/controls",
       "_view_module_version": "1.5.0",
       "_view_name": "HBoxView",
       "box_style": "",
       "children": [
        "IPY_MODEL_a82903d06bdb436880c52759264f9a41",
        "IPY_MODEL_85bee5947eaa4a34bb5ca9ac65cf66f5",
        "IPY_MODEL_65c7b3179bfe438b90c59cc7cc78deaf"
       ],
       "layout": "IPY_MODEL_da153f822a65407db5e0482407c5c078"
      }
     },
     "4dacf66cf1b14416a1cf38addeabe640": {
      "model_module": "@jupyter-widgets/controls",
      "model_module_version": "1.5.0",
      "model_name": "HTMLModel",
      "state": {
       "_dom_classes": [],
       "_model_module": "@jupyter-widgets/controls",
       "_model_module_version": "1.5.0",
       "_model_name": "HTMLModel",
       "_view_count": null,
       "_view_module": "@jupyter-widgets/controls",
       "_view_module_version": "1.5.0",
       "_view_name": "HTMLView",
       "description": "",
       "description_tooltip": null,
       "layout": "IPY_MODEL_c8232a8ecba146968fcb677f20769d74",
       "placeholder": "​",
       "style": "IPY_MODEL_0facaf5477c64d8992214d85370d4f52",
       "value": " 2/2 [00:33&lt;00:00, 14.25s/it]"
      }
     },
     "65c7b3179bfe438b90c59cc7cc78deaf": {
      "model_module": "@jupyter-widgets/controls",
      "model_module_version": "1.5.0",
      "model_name": "HTMLModel",
      "state": {
       "_dom_classes": [],
       "_model_module": "@jupyter-widgets/controls",
       "_model_module_version": "1.5.0",
       "_model_name": "HTMLModel",
       "_view_count": null,
       "_view_module": "@jupyter-widgets/controls",
       "_view_module_version": "1.5.0",
       "_view_name": "HTMLView",
       "description": "",
       "description_tooltip": null,
       "layout": "IPY_MODEL_b23afc4069f645bd879d388fbbfd24e5",
       "placeholder": "​",
       "style": "IPY_MODEL_d34bbb8976b04419b44b25528dca2c2e",
       "value": " 1/1 [00:07&lt;00:00,  7.11s/it]"
      }
     },
     "814beac9c68e4545a107b609207843b3": {
      "model_module": "@jupyter-widgets/controls",
      "model_module_version": "1.5.0",
      "model_name": "DescriptionStyleModel",
      "state": {
       "_model_module": "@jupyter-widgets/controls",
       "_model_module_version": "1.5.0",
       "_model_name": "DescriptionStyleModel",
       "_view_count": null,
       "_view_module": "@jupyter-widgets/base",
       "_view_module_version": "1.2.0",
       "_view_name": "StyleView",
       "description_width": ""
      }
     },
     "85bee5947eaa4a34bb5ca9ac65cf66f5": {
      "model_module": "@jupyter-widgets/controls",
      "model_module_version": "1.5.0",
      "model_name": "FloatProgressModel",
      "state": {
       "_dom_classes": [],
       "_model_module": "@jupyter-widgets/controls",
       "_model_module_version": "1.5.0",
       "_model_name": "FloatProgressModel",
       "_view_count": null,
       "_view_module": "@jupyter-widgets/controls",
       "_view_module_version": "1.5.0",
       "_view_name": "ProgressView",
       "bar_style": "success",
       "description": "",
       "description_tooltip": null,
       "layout": "IPY_MODEL_f05bac3fece94fe7957bd941a002fe0b",
       "max": 1.0,
       "min": 0.0,
       "orientation": "horizontal",
       "style": "IPY_MODEL_d9d99c6f21fa4795a56e7cb3ee301384",
       "value": 1.0
      }
     },
     "873a21680a9d4a9aade21ad1948e0eb6": {
      "model_module": "@jupyter-widgets/base",
      "model_module_version": "1.2.0",
      "model_name": "LayoutModel",
      "state": {
       "_model_module": "@jupyter-widgets/base",
       "_model_module_version": "1.2.0",
       "_model_name": "LayoutModel",
       "_view_count": null,
       "_view_module": "@jupyter-widgets/base",
       "_view_module_version": "1.2.0",
       "_view_name": "LayoutView",
       "align_content": null,
       "align_items": null,
       "align_self": null,
       "border": null,
       "bottom": null,
       "display": null,
       "flex": null,
       "flex_flow": null,
       "grid_area": null,
       "grid_auto_columns": null,
       "grid_auto_flow": null,
       "grid_auto_rows": null,
       "grid_column": null,
       "grid_gap": null,
       "grid_row": null,
       "grid_template_areas": null,
       "grid_template_columns": null,
       "grid_template_rows": null,
       "height": null,
       "justify_content": null,
       "justify_items": null,
       "left": null,
       "margin": null,
       "max_height": null,
       "max_width": null,
       "min_height": null,
       "min_width": null,
       "object_fit": null,
       "object_position": null,
       "order": null,
       "overflow": null,
       "overflow_x": null,
       "overflow_y": null,
       "padding": null,
       "right": null,
       "top": null,
       "visibility": null,
       "width": null
      }
     },
     "887aadef911d40e39f2cd921cb071fa5": {
      "model_module": "@jupyter-widgets/controls",
      "model_module_version": "1.5.0",
      "model_name": "FloatProgressModel",
      "state": {
       "_dom_classes": [],
       "_model_module": "@jupyter-widgets/controls",
       "_model_module_version": "1.5.0",
       "_model_name": "FloatProgressModel",
       "_view_count": null,
       "_view_module": "@jupyter-widgets/controls",
       "_view_module_version": "1.5.0",
       "_view_name": "ProgressView",
       "bar_style": "success",
       "description": "",
       "description_tooltip": null,
       "layout": "IPY_MODEL_02db0d33d7234473add0ff1d2a17b0a9",
       "max": 2.0,
       "min": 0.0,
       "orientation": "horizontal",
       "style": "IPY_MODEL_f9dccee3ab4d44d48994e3dd56e77b9a",
       "value": 2.0
      }
     },
     "92c3ee6ea66348619eb77795265faa6c": {
      "model_module": "@jupyter-widgets/controls",
      "model_module_version": "1.5.0",
      "model_name": "DescriptionStyleModel",
      "state": {
       "_model_module": "@jupyter-widgets/controls",
       "_model_module_version": "1.5.0",
       "_model_name": "DescriptionStyleModel",
       "_view_count": null,
       "_view_module": "@jupyter-widgets/base",
       "_view_module_version": "1.2.0",
       "_view_name": "StyleView",
       "description_width": ""
      }
     },
     "a82903d06bdb436880c52759264f9a41": {
      "model_module": "@jupyter-widgets/controls",
      "model_module_version": "1.5.0",
      "model_name": "HTMLModel",
      "state": {
       "_dom_classes": [],
       "_model_module": "@jupyter-widgets/controls",
       "_model_module_version": "1.5.0",
       "_model_name": "HTMLModel",
       "_view_count": null,
       "_view_module": "@jupyter-widgets/controls",
       "_view_module_version": "1.5.0",
       "_view_name": "HTMLView",
       "description": "",
       "description_tooltip": null,
       "layout": "IPY_MODEL_1b54c3ee62cb4c97ad659d29e589a716",
       "placeholder": "​",
       "style": "IPY_MODEL_92c3ee6ea66348619eb77795265faa6c",
       "value": "100%"
      }
     },
     "b23afc4069f645bd879d388fbbfd24e5": {
      "model_module": "@jupyter-widgets/base",
      "model_module_version": "1.2.0",
      "model_name": "LayoutModel",
      "state": {
       "_model_module": "@jupyter-widgets/base",
       "_model_module_version": "1.2.0",
       "_model_name": "LayoutModel",
       "_view_count": null,
       "_view_module": "@jupyter-widgets/base",
       "_view_module_version": "1.2.0",
       "_view_name": "LayoutView",
       "align_content": null,
       "align_items": null,
       "align_self": null,
       "border": null,
       "bottom": null,
       "display": null,
       "flex": null,
       "flex_flow": null,
       "grid_area": null,
       "grid_auto_columns": null,
       "grid_auto_flow": null,
       "grid_auto_rows": null,
       "grid_column": null,
       "grid_gap": null,
       "grid_row": null,
       "grid_template_areas": null,
       "grid_template_columns": null,
       "grid_template_rows": null,
       "height": null,
       "justify_content": null,
       "justify_items": null,
       "left": null,
       "margin": null,
       "max_height": null,
       "max_width": null,
       "min_height": null,
       "min_width": null,
       "object_fit": null,
       "object_position": null,
       "order": null,
       "overflow": null,
       "overflow_x": null,
       "overflow_y": null,
       "padding": null,
       "right": null,
       "top": null,
       "visibility": null,
       "width": null
      }
     },
     "c8232a8ecba146968fcb677f20769d74": {
      "model_module": "@jupyter-widgets/base",
      "model_module_version": "1.2.0",
      "model_name": "LayoutModel",
      "state": {
       "_model_module": "@jupyter-widgets/base",
       "_model_module_version": "1.2.0",
       "_model_name": "LayoutModel",
       "_view_count": null,
       "_view_module": "@jupyter-widgets/base",
       "_view_module_version": "1.2.0",
       "_view_name": "LayoutView",
       "align_content": null,
       "align_items": null,
       "align_self": null,
       "border": null,
       "bottom": null,
       "display": null,
       "flex": null,
       "flex_flow": null,
       "grid_area": null,
       "grid_auto_columns": null,
       "grid_auto_flow": null,
       "grid_auto_rows": null,
       "grid_column": null,
       "grid_gap": null,
       "grid_row": null,
       "grid_template_areas": null,
       "grid_template_columns": null,
       "grid_template_rows": null,
       "height": null,
       "justify_content": null,
       "justify_items": null,
       "left": null,
       "margin": null,
       "max_height": null,
       "max_width": null,
       "min_height": null,
       "min_width": null,
       "object_fit": null,
       "object_position": null,
       "order": null,
       "overflow": null,
       "overflow_x": null,
       "overflow_y": null,
       "padding": null,
       "right": null,
       "top": null,
       "visibility": null,
       "width": null
      }
     },
     "cfba78182ad44a57b87d31ea7ab23389": {
      "model_module": "@jupyter-widgets/controls",
      "model_module_version": "1.5.0",
      "model_name": "HBoxModel",
      "state": {
       "_dom_classes": [],
       "_model_module": "@jupyter-widgets/controls",
       "_model_module_version": "1.5.0",
       "_model_name": "HBoxModel",
       "_view_count": null,
       "_view_module": "@jupyter-widgets/controls",
       "_view_module_version": "1.5.0",
       "_view_name": "HBoxView",
       "box_style": "",
       "children": [
        "IPY_MODEL_fac2044fce9f46d4ac099b92e16abfd2",
        "IPY_MODEL_887aadef911d40e39f2cd921cb071fa5",
        "IPY_MODEL_4dacf66cf1b14416a1cf38addeabe640"
       ],
       "layout": "IPY_MODEL_1a46dfb0439b4ef4abc8ce241825e5f1"
      }
     },
     "d34bbb8976b04419b44b25528dca2c2e": {
      "model_module": "@jupyter-widgets/controls",
      "model_module_version": "1.5.0",
      "model_name": "DescriptionStyleModel",
      "state": {
       "_model_module": "@jupyter-widgets/controls",
       "_model_module_version": "1.5.0",
       "_model_name": "DescriptionStyleModel",
       "_view_count": null,
       "_view_module": "@jupyter-widgets/base",
       "_view_module_version": "1.2.0",
       "_view_name": "StyleView",
       "description_width": ""
      }
     },
     "d9d99c6f21fa4795a56e7cb3ee301384": {
      "model_module": "@jupyter-widgets/controls",
      "model_module_version": "1.5.0",
      "model_name": "ProgressStyleModel",
      "state": {
       "_model_module": "@jupyter-widgets/controls",
       "_model_module_version": "1.5.0",
       "_model_name": "ProgressStyleModel",
       "_view_count": null,
       "_view_module": "@jupyter-widgets/base",
       "_view_module_version": "1.2.0",
       "_view_name": "StyleView",
       "bar_color": null,
       "description_width": ""
      }
     },
     "da153f822a65407db5e0482407c5c078": {
      "model_module": "@jupyter-widgets/base",
      "model_module_version": "1.2.0",
      "model_name": "LayoutModel",
      "state": {
       "_model_module": "@jupyter-widgets/base",
       "_model_module_version": "1.2.0",
       "_model_name": "LayoutModel",
       "_view_count": null,
       "_view_module": "@jupyter-widgets/base",
       "_view_module_version": "1.2.0",
       "_view_name": "LayoutView",
       "align_content": null,
       "align_items": null,
       "align_self": null,
       "border": null,
       "bottom": null,
       "display": null,
       "flex": null,
       "flex_flow": null,
       "grid_area": null,
       "grid_auto_columns": null,
       "grid_auto_flow": null,
       "grid_auto_rows": null,
       "grid_column": null,
       "grid_gap": null,
       "grid_row": null,
       "grid_template_areas": null,
       "grid_template_columns": null,
       "grid_template_rows": null,
       "height": null,
       "justify_content": null,
       "justify_items": null,
       "left": null,
       "margin": null,
       "max_height": null,
       "max_width": null,
       "min_height": null,
       "min_width": null,
       "object_fit": null,
       "object_position": null,
       "order": null,
       "overflow": null,
       "overflow_x": null,
       "overflow_y": null,
       "padding": null,
       "right": null,
       "top": null,
       "visibility": null,
       "width": null
      }
     },
     "f05bac3fece94fe7957bd941a002fe0b": {
      "model_module": "@jupyter-widgets/base",
      "model_module_version": "1.2.0",
      "model_name": "LayoutModel",
      "state": {
       "_model_module": "@jupyter-widgets/base",
       "_model_module_version": "1.2.0",
       "_model_name": "LayoutModel",
       "_view_count": null,
       "_view_module": "@jupyter-widgets/base",
       "_view_module_version": "1.2.0",
       "_view_name": "LayoutView",
       "align_content": null,
       "align_items": null,
       "align_self": null,
       "border": null,
       "bottom": null,
       "display": null,
       "flex": null,
       "flex_flow": null,
       "grid_area": null,
       "grid_auto_columns": null,
       "grid_auto_flow": null,
       "grid_auto_rows": null,
       "grid_column": null,
       "grid_gap": null,
       "grid_row": null,
       "grid_template_areas": null,
       "grid_template_columns": null,
       "grid_template_rows": null,
       "height": null,
       "justify_content": null,
       "justify_items": null,
       "left": null,
       "margin": null,
       "max_height": null,
       "max_width": null,
       "min_height": null,
       "min_width": null,
       "object_fit": null,
       "object_position": null,
       "order": null,
       "overflow": null,
       "overflow_x": null,
       "overflow_y": null,
       "padding": null,
       "right": null,
       "top": null,
       "visibility": null,
       "width": null
      }
     },
     "f9dccee3ab4d44d48994e3dd56e77b9a": {
      "model_module": "@jupyter-widgets/controls",
      "model_module_version": "1.5.0",
      "model_name": "ProgressStyleModel",
      "state": {
       "_model_module": "@jupyter-widgets/controls",
       "_model_module_version": "1.5.0",
       "_model_name": "ProgressStyleModel",
       "_view_count": null,
       "_view_module": "@jupyter-widgets/base",
       "_view_module_version": "1.2.0",
       "_view_name": "StyleView",
       "bar_color": null,
       "description_width": ""
      }
     },
     "fac2044fce9f46d4ac099b92e16abfd2": {
      "model_module": "@jupyter-widgets/controls",
      "model_module_version": "1.5.0",
      "model_name": "HTMLModel",
      "state": {
       "_dom_classes": [],
       "_model_module": "@jupyter-widgets/controls",
       "_model_module_version": "1.5.0",
       "_model_name": "HTMLModel",
       "_view_count": null,
       "_view_module": "@jupyter-widgets/controls",
       "_view_module_version": "1.5.0",
       "_view_name": "HTMLView",
       "description": "",
       "description_tooltip": null,
       "layout": "IPY_MODEL_873a21680a9d4a9aade21ad1948e0eb6",
       "placeholder": "​",
       "style": "IPY_MODEL_814beac9c68e4545a107b609207843b3",
       "value": "Loading checkpoint shards: 100%"
      }
     }
    },
    "version_major": 2,
    "version_minor": 0
   }
  }
 },
 "nbformat": 4,
 "nbformat_minor": 5
}
